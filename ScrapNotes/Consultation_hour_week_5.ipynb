{
 "cells": [
  {
   "cell_type": "markdown",
   "metadata": {},
   "source": [
    "# Example of solving for 3x3 stationary distribution"
   ]
  },
  {
   "cell_type": "code",
   "execution_count": 50,
   "metadata": {},
   "outputs": [
    {
     "data": {
      "text/plain": [
       "3×3 Matrix{Float64}:\n",
       " 0.2  0.3  0.5\n",
       " 0.1  0.9  0.0\n",
       " 0.2  0.4  0.4"
      ]
     },
     "execution_count": 50,
     "metadata": {},
     "output_type": "execute_result"
    }
   ],
   "source": [
    "P = [0.2 0.3 0.5;\n",
    "     0.1 0.9 0.0\n",
    "     0.2 0.4 0.4]"
   ]
  },
  {
   "cell_type": "code",
   "execution_count": 51,
   "metadata": {},
   "outputs": [
    {
     "data": {
      "text/plain": [
       "3-element Vector{Float64}:\n",
       " 1.0\n",
       " 1.0\n",
       " 1.0"
      ]
     },
     "execution_count": 51,
     "metadata": {},
     "output_type": "execute_result"
    }
   ],
   "source": [
    "P*ones(3) "
   ]
  },
  {
   "cell_type": "code",
   "execution_count": 52,
   "metadata": {},
   "outputs": [],
   "source": [
    "using LinearAlgebra"
   ]
  },
  {
   "cell_type": "markdown",
   "metadata": {},
   "source": [
    "Want the form $A x = b$"
   ]
  },
  {
   "cell_type": "markdown",
   "metadata": {},
   "source": [
    "$$\n",
    "\\pi P = \\pi\n",
    "$$"
   ]
  },
  {
   "cell_type": "markdown",
   "metadata": {},
   "source": [
    "$$\n",
    "\\pi P - \\pi I = 0\n",
    "$$"
   ]
  },
  {
   "cell_type": "markdown",
   "metadata": {},
   "source": [
    "$$\n",
    "\\pi (P-I) = 0\n",
    "$$"
   ]
  },
  {
   "cell_type": "markdown",
   "metadata": {},
   "source": [
    "$$\n",
    "(P^\\top - I) \\pi^T = 0\n",
    "$$"
   ]
  },
  {
   "cell_type": "code",
   "execution_count": 53,
   "metadata": {},
   "outputs": [
    {
     "data": {
      "text/plain": [
       "2"
      ]
     },
     "execution_count": 53,
     "metadata": {},
     "output_type": "execute_result"
    }
   ],
   "source": [
    "rank(P'-I) "
   ]
  },
  {
   "cell_type": "code",
   "execution_count": 54,
   "metadata": {},
   "outputs": [
    {
     "data": {
      "text/plain": [
       "3×3 Matrix{Float64}:\n",
       " 4.32346e15  4.32346e15  4.32346e15\n",
       " 2.73819e16  2.73819e16  2.73819e16\n",
       " 3.60288e15  3.60288e15  3.60288e15"
      ]
     },
     "execution_count": 54,
     "metadata": {},
     "output_type": "execute_result"
    }
   ],
   "source": [
    "inv(P'-I) #fake..."
   ]
  },
  {
   "cell_type": "markdown",
   "metadata": {},
   "source": [
    "One more equation (sum of probabilities is $1$):\n",
    "$$\n",
    "\\pi {\\mathbf 1} = 1\n",
    "$$\n",
    "\n",
    "$$\n",
    "{\\mathbf 1}^\\top \\pi^\\top = 1\n",
    "$$"
   ]
  },
  {
   "cell_type": "code",
   "execution_count": 55,
   "metadata": {},
   "outputs": [
    {
     "data": {
      "text/plain": [
       "3×3 Matrix{Float64}:\n",
       " -0.8   0.1  0.2\n",
       "  0.3  -0.1  0.4\n",
       "  1.0   1.0  1.0"
      ]
     },
     "execution_count": 55,
     "metadata": {},
     "output_type": "execute_result"
    }
   ],
   "source": [
    "A = P'-I\n",
    "A[3,:] = ones(3) #replace last row with ones (could have done it to any row)\n",
    "A"
   ]
  },
  {
   "cell_type": "code",
   "execution_count": 56,
   "metadata": {},
   "outputs": [
    {
     "data": {
      "text/plain": [
       "3-element Vector{Int64}:\n",
       " 0\n",
       " 0\n",
       " 1"
      ]
     },
     "execution_count": 56,
     "metadata": {},
     "output_type": "execute_result"
    }
   ],
   "source": [
    "b = [0,0,1]"
   ]
  },
  {
   "cell_type": "markdown",
   "metadata": {},
   "source": [
    "Now I feel the system $Ax=b$ solves for $\\pi$ where $x$ is $\\pi^\\top$."
   ]
  },
  {
   "cell_type": "code",
   "execution_count": 57,
   "metadata": {},
   "outputs": [
    {
     "name": "stdout",
     "output_type": "stream",
     "text": [
      "search: \u001b[0m\u001b[1m\\\u001b[22m\n",
      "\n"
     ]
    },
    {
     "data": {
      "text/latex": [
       "\\begin{verbatim}\n",
       "\\(x, y)\n",
       "\\end{verbatim}\n",
       "Left division operator: multiplication of \\texttt{y} by the inverse of \\texttt{x} on the left. Gives floating-point results for integer arguments.\n",
       "\n",
       "\\section{Examples}\n",
       "\\begin{verbatim}\n",
       "julia> 3 \\ 6\n",
       "2.0\n",
       "\n",
       "julia> inv(3) * 6\n",
       "2.0\n",
       "\n",
       "julia> A = [4 3; 2 1]; x = [5, 6];\n",
       "\n",
       "julia> A \\ x\n",
       "2-element Vector{Float64}:\n",
       "  6.5\n",
       " -7.0\n",
       "\n",
       "julia> inv(A) * x\n",
       "2-element Vector{Float64}:\n",
       "  6.5\n",
       " -7.0\n",
       "\\end{verbatim}\n",
       "\\rule{\\textwidth}{1pt}\n",
       "\\begin{verbatim}\n",
       "\\(A, B)\n",
       "\\end{verbatim}\n",
       "Matrix division using a polyalgorithm. For input matrices \\texttt{A} and \\texttt{B}, the result \\texttt{X} is such that \\texttt{A*X == B} when \\texttt{A} is square. The solver that is used depends upon the structure of \\texttt{A}.  If \\texttt{A} is upper or lower triangular (or diagonal), no factorization of \\texttt{A} is required and the system is solved with either forward or backward substitution. For non-triangular square matrices, an LU factorization is used.\n",
       "\n",
       "For rectangular \\texttt{A} the result is the minimum-norm least squares solution computed by a pivoted QR factorization of \\texttt{A} and a rank estimate of \\texttt{A} based on the R factor.\n",
       "\n",
       "When \\texttt{A} is sparse, a similar polyalgorithm is used. For indefinite matrices, the \\texttt{LDLt} factorization does not use pivoting during the numerical factorization and therefore the procedure can fail even for invertible matrices.\n",
       "\n",
       "\\section{Examples}\n",
       "\\begin{verbatim}\n",
       "julia> A = [1 0; 1 -2]; B = [32; -4];\n",
       "\n",
       "julia> X = A \\ B\n",
       "2-element Vector{Float64}:\n",
       " 32.0\n",
       " 18.0\n",
       "\n",
       "julia> A * X == B\n",
       "true\n",
       "\\end{verbatim}\n",
       "\\rule{\\textwidth}{1pt}\n",
       "\\begin{verbatim}\n",
       "(\\)(F::QRSparse, B::StridedVecOrMat)\n",
       "\\end{verbatim}\n",
       "Solve the least squares problem $\\min\\|Ax - b\\|^2$ or the linear system of equations $Ax=b$ when \\texttt{F} is the sparse QR factorization of $A$. A basic solution is returned when the problem is underdetermined.\n",
       "\n",
       "\\section{Examples}\n",
       "\\begin{verbatim}\n",
       "julia> A = sparse([1,2,4], [1,1,1], [1.0,1.0,1.0], 4, 2)\n",
       "4×2 SparseMatrixCSC{Float64, Int64} with 3 stored entries:\n",
       " 1.0   ⋅\n",
       " 1.0   ⋅\n",
       "  ⋅    ⋅\n",
       " 1.0   ⋅\n",
       "\n",
       "julia> qr(A)\\fill(1.0, 4)\n",
       "2-element Vector{Float64}:\n",
       " 1.0\n",
       " 0.0\n",
       "\\end{verbatim}\n"
      ],
      "text/markdown": [
       "```\n",
       "\\(x, y)\n",
       "```\n",
       "\n",
       "Left division operator: multiplication of `y` by the inverse of `x` on the left. Gives floating-point results for integer arguments.\n",
       "\n",
       "# Examples\n",
       "\n",
       "```jldoctest\n",
       "julia> 3 \\ 6\n",
       "2.0\n",
       "\n",
       "julia> inv(3) * 6\n",
       "2.0\n",
       "\n",
       "julia> A = [4 3; 2 1]; x = [5, 6];\n",
       "\n",
       "julia> A \\ x\n",
       "2-element Vector{Float64}:\n",
       "  6.5\n",
       " -7.0\n",
       "\n",
       "julia> inv(A) * x\n",
       "2-element Vector{Float64}:\n",
       "  6.5\n",
       " -7.0\n",
       "```\n",
       "\n",
       "---\n",
       "\n",
       "```\n",
       "\\(A, B)\n",
       "```\n",
       "\n",
       "Matrix division using a polyalgorithm. For input matrices `A` and `B`, the result `X` is such that `A*X == B` when `A` is square. The solver that is used depends upon the structure of `A`.  If `A` is upper or lower triangular (or diagonal), no factorization of `A` is required and the system is solved with either forward or backward substitution. For non-triangular square matrices, an LU factorization is used.\n",
       "\n",
       "For rectangular `A` the result is the minimum-norm least squares solution computed by a pivoted QR factorization of `A` and a rank estimate of `A` based on the R factor.\n",
       "\n",
       "When `A` is sparse, a similar polyalgorithm is used. For indefinite matrices, the `LDLt` factorization does not use pivoting during the numerical factorization and therefore the procedure can fail even for invertible matrices.\n",
       "\n",
       "# Examples\n",
       "\n",
       "```jldoctest\n",
       "julia> A = [1 0; 1 -2]; B = [32; -4];\n",
       "\n",
       "julia> X = A \\ B\n",
       "2-element Vector{Float64}:\n",
       " 32.0\n",
       " 18.0\n",
       "\n",
       "julia> A * X == B\n",
       "true\n",
       "```\n",
       "\n",
       "---\n",
       "\n",
       "```\n",
       "(\\)(F::QRSparse, B::StridedVecOrMat)\n",
       "```\n",
       "\n",
       "Solve the least squares problem $\\min\\|Ax - b\\|^2$ or the linear system of equations $Ax=b$ when `F` is the sparse QR factorization of $A$. A basic solution is returned when the problem is underdetermined.\n",
       "\n",
       "# Examples\n",
       "\n",
       "```jldoctest\n",
       "julia> A = sparse([1,2,4], [1,1,1], [1.0,1.0,1.0], 4, 2)\n",
       "4×2 SparseMatrixCSC{Float64, Int64} with 3 stored entries:\n",
       " 1.0   ⋅\n",
       " 1.0   ⋅\n",
       "  ⋅    ⋅\n",
       " 1.0   ⋅\n",
       "\n",
       "julia> qr(A)\\fill(1.0, 4)\n",
       "2-element Vector{Float64}:\n",
       " 1.0\n",
       " 0.0\n",
       "```\n"
      ],
      "text/plain": [
       "\u001b[36m  \\(x, y)\u001b[39m\n",
       "\n",
       "  Left division operator: multiplication of \u001b[36my\u001b[39m by the inverse of \u001b[36mx\u001b[39m on the left.\n",
       "  Gives floating-point results for integer arguments.\n",
       "\n",
       "\u001b[1m  Examples\u001b[22m\n",
       "\u001b[1m  ≡≡≡≡≡≡≡≡≡≡\u001b[22m\n",
       "\n",
       "\u001b[36m  julia> 3 \\ 6\u001b[39m\n",
       "\u001b[36m  2.0\u001b[39m\n",
       "\u001b[36m  \u001b[39m\n",
       "\u001b[36m  julia> inv(3) * 6\u001b[39m\n",
       "\u001b[36m  2.0\u001b[39m\n",
       "\u001b[36m  \u001b[39m\n",
       "\u001b[36m  julia> A = [4 3; 2 1]; x = [5, 6];\u001b[39m\n",
       "\u001b[36m  \u001b[39m\n",
       "\u001b[36m  julia> A \\ x\u001b[39m\n",
       "\u001b[36m  2-element Vector{Float64}:\u001b[39m\n",
       "\u001b[36m    6.5\u001b[39m\n",
       "\u001b[36m   -7.0\u001b[39m\n",
       "\u001b[36m  \u001b[39m\n",
       "\u001b[36m  julia> inv(A) * x\u001b[39m\n",
       "\u001b[36m  2-element Vector{Float64}:\u001b[39m\n",
       "\u001b[36m    6.5\u001b[39m\n",
       "\u001b[36m   -7.0\u001b[39m\n",
       "\n",
       "  ────────────────────────────────────────────────────────────────────────────\n",
       "\n",
       "\u001b[36m  \\(A, B)\u001b[39m\n",
       "\n",
       "  Matrix division using a polyalgorithm. For input matrices \u001b[36mA\u001b[39m and \u001b[36mB\u001b[39m, the\n",
       "  result \u001b[36mX\u001b[39m is such that \u001b[36mA*X == B\u001b[39m when \u001b[36mA\u001b[39m is square. The solver that is used\n",
       "  depends upon the structure of \u001b[36mA\u001b[39m. If \u001b[36mA\u001b[39m is upper or lower triangular (or\n",
       "  diagonal), no factorization of \u001b[36mA\u001b[39m is required and the system is solved with\n",
       "  either forward or backward substitution. For non-triangular square matrices,\n",
       "  an LU factorization is used.\n",
       "\n",
       "  For rectangular \u001b[36mA\u001b[39m the result is the minimum-norm least squares solution\n",
       "  computed by a pivoted QR factorization of \u001b[36mA\u001b[39m and a rank estimate of \u001b[36mA\u001b[39m based\n",
       "  on the R factor.\n",
       "\n",
       "  When \u001b[36mA\u001b[39m is sparse, a similar polyalgorithm is used. For indefinite matrices,\n",
       "  the \u001b[36mLDLt\u001b[39m factorization does not use pivoting during the numerical\n",
       "  factorization and therefore the procedure can fail even for invertible\n",
       "  matrices.\n",
       "\n",
       "\u001b[1m  Examples\u001b[22m\n",
       "\u001b[1m  ≡≡≡≡≡≡≡≡≡≡\u001b[22m\n",
       "\n",
       "\u001b[36m  julia> A = [1 0; 1 -2]; B = [32; -4];\u001b[39m\n",
       "\u001b[36m  \u001b[39m\n",
       "\u001b[36m  julia> X = A \\ B\u001b[39m\n",
       "\u001b[36m  2-element Vector{Float64}:\u001b[39m\n",
       "\u001b[36m   32.0\u001b[39m\n",
       "\u001b[36m   18.0\u001b[39m\n",
       "\u001b[36m  \u001b[39m\n",
       "\u001b[36m  julia> A * X == B\u001b[39m\n",
       "\u001b[36m  true\u001b[39m\n",
       "\n",
       "  ────────────────────────────────────────────────────────────────────────────\n",
       "\n",
       "\u001b[36m  (\\)(F::QRSparse, B::StridedVecOrMat)\u001b[39m\n",
       "\n",
       "  Solve the least squares problem \u001b[35m\\min\\|Ax - b\\|^2\u001b[39m or the linear system of\n",
       "  equations \u001b[35mAx=b\u001b[39m when \u001b[36mF\u001b[39m is the sparse QR factorization of \u001b[35mA\u001b[39m. A basic solution\n",
       "  is returned when the problem is underdetermined.\n",
       "\n",
       "\u001b[1m  Examples\u001b[22m\n",
       "\u001b[1m  ≡≡≡≡≡≡≡≡≡≡\u001b[22m\n",
       "\n",
       "\u001b[36m  julia> A = sparse([1,2,4], [1,1,1], [1.0,1.0,1.0], 4, 2)\u001b[39m\n",
       "\u001b[36m  4×2 SparseMatrixCSC{Float64, Int64} with 3 stored entries:\u001b[39m\n",
       "\u001b[36m   1.0   ⋅\u001b[39m\n",
       "\u001b[36m   1.0   ⋅\u001b[39m\n",
       "\u001b[36m    ⋅    ⋅\u001b[39m\n",
       "\u001b[36m   1.0   ⋅\u001b[39m\n",
       "\u001b[36m  \u001b[39m\n",
       "\u001b[36m  julia> qr(A)\\fill(1.0, 4)\u001b[39m\n",
       "\u001b[36m  2-element Vector{Float64}:\u001b[39m\n",
       "\u001b[36m   1.0\u001b[39m\n",
       "\u001b[36m   0.0\u001b[39m"
      ]
     },
     "execution_count": 57,
     "metadata": {},
     "output_type": "execute_result"
    }
   ],
   "source": [
    "? \\"
   ]
  },
  {
   "cell_type": "code",
   "execution_count": 58,
   "metadata": {},
   "outputs": [
    {
     "data": {
      "text/plain": [
       "3×3 Matrix{Float64}:\n",
       " -0.8   0.1  0.2\n",
       "  0.3  -0.1  0.4\n",
       "  1.0   1.0  1.0"
      ]
     },
     "execution_count": 58,
     "metadata": {},
     "output_type": "execute_result"
    }
   ],
   "source": [
    "A"
   ]
  },
  {
   "cell_type": "code",
   "execution_count": 59,
   "metadata": {},
   "outputs": [
    {
     "data": {
      "text/plain": [
       "3-element Vector{Int64}:\n",
       " 0\n",
       " 0\n",
       " 1"
      ]
     },
     "execution_count": 59,
     "metadata": {},
     "output_type": "execute_result"
    }
   ],
   "source": [
    "b"
   ]
  },
  {
   "cell_type": "code",
   "execution_count": 60,
   "metadata": {},
   "outputs": [
    {
     "data": {
      "text/plain": [
       "π = 3.1415926535897..."
      ]
     },
     "execution_count": 60,
     "metadata": {},
     "output_type": "execute_result"
    }
   ],
   "source": [
    "pi"
   ]
  },
  {
   "cell_type": "code",
   "execution_count": 61,
   "metadata": {},
   "outputs": [
    {
     "data": {
      "text/plain": [
       "3-element Vector{Float64}:\n",
       " 0.12244897959183676\n",
       " 0.7755102040816326\n",
       " 0.10204081632653064"
      ]
     },
     "execution_count": 61,
     "metadata": {},
     "output_type": "execute_result"
    }
   ],
   "source": [
    "pi_sol = A \\ b"
   ]
  },
  {
   "cell_type": "code",
   "execution_count": 17,
   "metadata": {},
   "outputs": [
    {
     "data": {
      "text/plain": [
       "1.0"
      ]
     },
     "execution_count": 17,
     "metadata": {},
     "output_type": "execute_result"
    }
   ],
   "source": [
    "sum(pi_sol)"
   ]
  },
  {
   "cell_type": "code",
   "execution_count": 18,
   "metadata": {},
   "outputs": [
    {
     "data": {
      "text/plain": [
       "1×3 adjoint(::Vector{Float64}) with eltype Float64:\n",
       " 0.122449  0.77551  0.102041"
      ]
     },
     "execution_count": 18,
     "metadata": {},
     "output_type": "execute_result"
    }
   ],
   "source": [
    "pi_sol'*P"
   ]
  },
  {
   "cell_type": "markdown",
   "metadata": {},
   "source": [
    "## Using matrix powers"
   ]
  },
  {
   "cell_type": "code",
   "execution_count": 66,
   "metadata": {},
   "outputs": [
    {
     "data": {
      "text/plain": [
       "3×3 Matrix{Float64}:\n",
       " 0.122449  0.77551  0.102041\n",
       " 0.122449  0.77551  0.102041\n",
       " 0.122449  0.77551  0.102041"
      ]
     },
     "execution_count": 66,
     "metadata": {},
     "output_type": "execute_result"
    }
   ],
   "source": [
    "P^100 #matrix power (instead of 10 should be bigger)"
   ]
  },
  {
   "cell_type": "code",
   "execution_count": 70,
   "metadata": {},
   "outputs": [
    {
     "data": {
      "text/plain": [
       "3-element Vector{Float64}:\n",
       " 0.12244897959183747\n",
       " 0.775510204081637\n",
       " 0.10204081632653117"
      ]
     },
     "execution_count": 70,
     "metadata": {},
     "output_type": "execute_result"
    }
   ],
   "source": [
    "pi_sol2 = (P^100)[1,:]"
   ]
  },
  {
   "cell_type": "code",
   "execution_count": 71,
   "metadata": {},
   "outputs": [
    {
     "data": {
      "text/plain": [
       "3-element Vector{Float64}:\n",
       " 0.12244897959183676\n",
       " 0.7755102040816326\n",
       " 0.10204081632653064"
      ]
     },
     "execution_count": 71,
     "metadata": {},
     "output_type": "execute_result"
    }
   ],
   "source": [
    "pi_sol"
   ]
  },
  {
   "cell_type": "code",
   "execution_count": 72,
   "metadata": {},
   "outputs": [
    {
     "data": {
      "text/plain": [
       "4.418915151159586e-15"
      ]
     },
     "execution_count": 72,
     "metadata": {},
     "output_type": "execute_result"
    }
   ],
   "source": [
    "err = norm(pi_sol - pi_sol2)"
   ]
  },
  {
   "cell_type": "markdown",
   "metadata": {},
   "source": [
    "# Using spectral stuff"
   ]
  },
  {
   "cell_type": "code",
   "execution_count": 22,
   "metadata": {},
   "outputs": [
    {
     "data": {
      "text/plain": [
       "3-element Vector{Float64}:\n",
       " -0.019258240356725187\n",
       "  0.5192582403567251\n",
       "  1.0000000000000002"
      ]
     },
     "execution_count": 22,
     "metadata": {},
     "output_type": "execute_result"
    }
   ],
   "source": [
    "eigvals(P)"
   ]
  },
  {
   "cell_type": "code",
   "execution_count": 23,
   "metadata": {},
   "outputs": [
    {
     "data": {
      "text/plain": [
       "3-element Vector{ComplexF64}:\n",
       " 0.3589951748731274 - 0.12262548089986838im\n",
       " 0.3589951748731274 + 0.12262548089986838im\n",
       " 1.7289015125090477 + 0.0im"
      ]
     },
     "execution_count": 23,
     "metadata": {},
     "output_type": "execute_result"
    }
   ],
   "source": [
    "eigvals(rand(3,3))"
   ]
  },
  {
   "cell_type": "markdown",
   "metadata": {},
   "source": [
    "Now you want to get the eigenvector associated with that \"maximal eigenvalue\""
   ]
  },
  {
   "cell_type": "code",
   "execution_count": 25,
   "metadata": {},
   "outputs": [
    {
     "data": {
      "text/plain": [
       "3×3 Matrix{Float64}:\n",
       "  0.637662   0.148184  0.154662\n",
       "  0.122803  -0.769456  0.979525\n",
       " -0.760465   0.621272  0.128885"
      ]
     },
     "execution_count": 25,
     "metadata": {},
     "output_type": "execute_result"
    }
   ],
   "source": [
    "eigvecs(P') #this gets the left eigenvectors"
   ]
  },
  {
   "cell_type": "code",
   "execution_count": 26,
   "metadata": {},
   "outputs": [
    {
     "data": {
      "text/plain": [
       "3-element Vector{Float64}:\n",
       " 0.1546617786679402\n",
       " 0.9795245982302874\n",
       " 0.128884815556617"
      ]
     },
     "execution_count": 26,
     "metadata": {},
     "output_type": "execute_result"
    }
   ],
   "source": [
    "v = eigvecs(P')[:,3]"
   ]
  },
  {
   "cell_type": "code",
   "execution_count": 28,
   "metadata": {},
   "outputs": [
    {
     "data": {
      "text/plain": [
       "1.0"
      ]
     },
     "execution_count": 28,
     "metadata": {},
     "output_type": "execute_result"
    }
   ],
   "source": [
    "norm(v) #L_2 norm (sqrt of sum of squares)"
   ]
  },
  {
   "cell_type": "code",
   "execution_count": 29,
   "metadata": {},
   "outputs": [
    {
     "data": {
      "text/plain": [
       "1.2630711924548446"
      ]
     },
     "execution_count": 29,
     "metadata": {},
     "output_type": "execute_result"
    }
   ],
   "source": [
    "sum(v)"
   ]
  },
  {
   "cell_type": "code",
   "execution_count": 30,
   "metadata": {},
   "outputs": [
    {
     "data": {
      "text/plain": [
       "3-element Vector{Float64}:\n",
       " 0.12244897959183677\n",
       " 0.7755102040816324\n",
       " 0.10204081632653077"
      ]
     },
     "execution_count": 30,
     "metadata": {},
     "output_type": "execute_result"
    }
   ],
   "source": [
    "v/sum(v)"
   ]
  },
  {
   "cell_type": "code",
   "execution_count": 31,
   "metadata": {},
   "outputs": [
    {
     "data": {
      "text/plain": [
       "3-element Vector{Float64}:\n",
       " 0.12244897959183676\n",
       " 0.7755102040816326\n",
       " 0.10204081632653064"
      ]
     },
     "execution_count": 31,
     "metadata": {},
     "output_type": "execute_result"
    }
   ],
   "source": [
    "pi_sol"
   ]
  },
  {
   "cell_type": "markdown",
   "metadata": {},
   "source": [
    "# Random trajectories from a Markov Chain"
   ]
  },
  {
   "cell_type": "code",
   "execution_count": 32,
   "metadata": {},
   "outputs": [
    {
     "data": {
      "text/plain": [
       "3×3 Matrix{Float64}:\n",
       " 0.2  0.3  0.5\n",
       " 0.1  0.9  0.0\n",
       " 0.2  0.4  0.4"
      ]
     },
     "execution_count": 32,
     "metadata": {},
     "output_type": "execute_result"
    }
   ],
   "source": [
    "P"
   ]
  },
  {
   "cell_type": "code",
   "execution_count": 33,
   "metadata": {},
   "outputs": [
    {
     "data": {
      "text/plain": [
       "3"
      ]
     },
     "execution_count": 33,
     "metadata": {},
     "output_type": "execute_result"
    }
   ],
   "source": [
    "state = 3 #1 or 2 or 3"
   ]
  },
  {
   "cell_type": "code",
   "execution_count": 34,
   "metadata": {},
   "outputs": [],
   "source": [
    "using StatsBase"
   ]
  },
  {
   "cell_type": "code",
   "execution_count": 49,
   "metadata": {},
   "outputs": [
    {
     "name": "stdout",
     "output_type": "stream",
     "text": [
      "state = 3\n",
      "state = 2\n",
      "state = 2\n",
      "state = 2\n",
      "state = 2\n"
     ]
    },
    {
     "data": {
      "text/plain": [
       "2"
      ]
     },
     "execution_count": 49,
     "metadata": {},
     "output_type": "execute_result"
    }
   ],
   "source": [
    "state = 3\n",
    "state = sample(1:3,Weights(P[state,:])) #sample from weights according to the row of current state \n",
    "@show state\n",
    "state = sample(1:3,Weights(P[state,:]))\n",
    "@show state\n",
    "state = sample(1:3,Weights(P[state,:]))\n",
    "@show state\n",
    "state = sample(1:3,Weights(P[state,:]))\n",
    "@show state\n",
    "state = sample(1:3,Weights(P[state,:]))\n",
    "@show state\n",
    "state = sample(1:3,Weights(P[state,:]))\n"
   ]
  },
  {
   "cell_type": "markdown",
   "metadata": {},
   "source": [
    "# For derivatives see book: https://mitpress.mit.edu/books/algorithms-optimization\n"
   ]
  },
  {
   "cell_type": "code",
   "execution_count": 77,
   "metadata": {},
   "outputs": [
    {
     "data": {
      "text/plain": [
       "(0.004599551629193899, 71)"
      ]
     },
     "execution_count": 77,
     "metadata": {},
     "output_type": "execute_result"
    }
   ],
   "source": [
    "array = rand(100)\n",
    "findmin(array) #see argmin"
   ]
  },
  {
   "cell_type": "markdown",
   "metadata": {},
   "source": [
    "## Ad-hoc question"
   ]
  },
  {
   "cell_type": "code",
   "execution_count": 78,
   "metadata": {},
   "outputs": [],
   "source": [
    "using Plots"
   ]
  },
  {
   "cell_type": "code",
   "execution_count": 81,
   "metadata": {},
   "outputs": [
    {
     "data": {
      "text/plain": [
       "2×2 Matrix{Int64}:\n",
       " 1  2\n",
       " 3  4"
      ]
     },
     "execution_count": 81,
     "metadata": {},
     "output_type": "execute_result"
    }
   ],
   "source": [
    "[1 2 \n",
    "    3 4]"
   ]
  },
  {
   "cell_type": "code",
   "execution_count": null,
   "metadata": {},
   "outputs": [],
   "source": [
    "plot(h_range, [errs_forward_f1 errs_central_f1 errs_complex_f1 errs_forward_f2 errs_central_f2 errs_complex_f2 \n",
    "        errs_forward_f3 errs_central_f3 errs_complex_f3], \n",
    "    yaxis = :log,xaxis = :log,\n",
    "    xlabel=\"h\",ylabel=\"Absolute relative error\",\n",
    "    label = [\"forward difference scheme for $f1(x) at x= $x1\" \"central difference scheme for $f1(x) at x= $x1\" \"complex difference scheme for $f1(x) at x= $x1\" \n",
    "            \"forward difference scheme for $f2(x) at x= $x2\" \"central difference scheme for $f2(x) at x= $x2\" \"complex difference scheme for $f2(x) at x= $x2\" \n",
    "            \"forward difference scheme for $f3(x) at x= $x3\" \"central difference scheme for $f3(x) at x= $x3\" \"complex difference scheme for $f3(x) at x= $x3\"], \n",
    "            c = [:red :red2 :red3 :blue :blue2 :blue3 :green :green2 :green3], legend = :bottomright)"
   ]
  },
  {
   "cell_type": "code",
   "execution_count": 87,
   "metadata": {},
   "outputs": [],
   "source": [
    "using Random;Random.seed!(0)\n",
    "data1 = rand(20)\n",
    "data2 = rand(20)\n",
    "data3 = rand(20);"
   ]
  },
  {
   "cell_type": "code",
   "execution_count": 88,
   "metadata": {},
   "outputs": [
    {
     "data": {
      "image/svg+xml": [
       "<?xml version=\"1.0\" encoding=\"utf-8\"?>\n",
       "<svg xmlns=\"http://www.w3.org/2000/svg\" xmlns:xlink=\"http://www.w3.org/1999/xlink\" width=\"600\" height=\"400\" viewBox=\"0 0 2400 1600\">\n",
       "<defs>\n",
       "  <clipPath id=\"clip290\">\n",
       "    <rect x=\"0\" y=\"0\" width=\"2400\" height=\"1600\"/>\n",
       "  </clipPath>\n",
       "</defs>\n",
       "<path clip-path=\"url(#clip290)\" d=\"\n",
       "M0 1600 L2400 1600 L2400 0 L0 0  Z\n",
       "  \" fill=\"#ffffff\" fill-rule=\"evenodd\" fill-opacity=\"1\"/>\n",
       "<defs>\n",
       "  <clipPath id=\"clip291\">\n",
       "    <rect x=\"480\" y=\"0\" width=\"1681\" height=\"1600\"/>\n",
       "  </clipPath>\n",
       "</defs>\n",
       "<path clip-path=\"url(#clip290)\" d=\"\n",
       "M156.598 1486.45 L2352.76 1486.45 L2352.76 47.2441 L156.598 47.2441  Z\n",
       "  \" fill=\"#ffffff\" fill-rule=\"evenodd\" fill-opacity=\"1\"/>\n",
       "<defs>\n",
       "  <clipPath id=\"clip292\">\n",
       "    <rect x=\"156\" y=\"47\" width=\"2197\" height=\"1440\"/>\n",
       "  </clipPath>\n",
       "</defs>\n",
       "<polyline clip-path=\"url(#clip292)\" style=\"stroke:#000000; stroke-linecap:butt; stroke-linejoin:round; stroke-width:2; stroke-opacity:0.1; fill:none\" points=\"\n",
       "  654.932,1486.45 654.932,47.2441 \n",
       "  \"/>\n",
       "<polyline clip-path=\"url(#clip292)\" style=\"stroke:#000000; stroke-linecap:butt; stroke-linejoin:round; stroke-width:2; stroke-opacity:0.1; fill:none\" points=\"\n",
       "  1200.15,1486.45 1200.15,47.2441 \n",
       "  \"/>\n",
       "<polyline clip-path=\"url(#clip292)\" style=\"stroke:#000000; stroke-linecap:butt; stroke-linejoin:round; stroke-width:2; stroke-opacity:0.1; fill:none\" points=\"\n",
       "  1745.38,1486.45 1745.38,47.2441 \n",
       "  \"/>\n",
       "<polyline clip-path=\"url(#clip292)\" style=\"stroke:#000000; stroke-linecap:butt; stroke-linejoin:round; stroke-width:2; stroke-opacity:0.1; fill:none\" points=\"\n",
       "  2290.6,1486.45 2290.6,47.2441 \n",
       "  \"/>\n",
       "<polyline clip-path=\"url(#clip290)\" style=\"stroke:#000000; stroke-linecap:butt; stroke-linejoin:round; stroke-width:4; stroke-opacity:1; fill:none\" points=\"\n",
       "  156.598,1486.45 2352.76,1486.45 \n",
       "  \"/>\n",
       "<polyline clip-path=\"url(#clip290)\" style=\"stroke:#000000; stroke-linecap:butt; stroke-linejoin:round; stroke-width:4; stroke-opacity:1; fill:none\" points=\"\n",
       "  654.932,1486.45 654.932,1467.55 \n",
       "  \"/>\n",
       "<polyline clip-path=\"url(#clip290)\" style=\"stroke:#000000; stroke-linecap:butt; stroke-linejoin:round; stroke-width:4; stroke-opacity:1; fill:none\" points=\"\n",
       "  1200.15,1486.45 1200.15,1467.55 \n",
       "  \"/>\n",
       "<polyline clip-path=\"url(#clip290)\" style=\"stroke:#000000; stroke-linecap:butt; stroke-linejoin:round; stroke-width:4; stroke-opacity:1; fill:none\" points=\"\n",
       "  1745.38,1486.45 1745.38,1467.55 \n",
       "  \"/>\n",
       "<polyline clip-path=\"url(#clip290)\" style=\"stroke:#000000; stroke-linecap:butt; stroke-linejoin:round; stroke-width:4; stroke-opacity:1; fill:none\" points=\"\n",
       "  2290.6,1486.45 2290.6,1467.55 \n",
       "  \"/>\n",
       "<path clip-path=\"url(#clip290)\" d=\"M645.21 1512.56 L663.566 1512.56 L663.566 1516.5 L649.492 1516.5 L649.492 1524.97 Q650.511 1524.62 651.529 1524.46 Q652.548 1524.27 653.566 1524.27 Q659.353 1524.27 662.733 1527.44 Q666.112 1530.62 666.112 1536.03 Q666.112 1541.61 662.64 1544.71 Q659.168 1547.79 652.849 1547.79 Q650.673 1547.79 648.404 1547.42 Q646.159 1547.05 643.751 1546.31 L643.751 1541.61 Q645.835 1542.74 648.057 1543.3 Q650.279 1543.86 652.756 1543.86 Q656.761 1543.86 659.099 1541.75 Q661.437 1539.64 661.437 1536.03 Q661.437 1532.42 659.099 1530.31 Q656.761 1528.21 652.756 1528.21 Q650.881 1528.21 649.006 1528.62 Q647.154 1529.04 645.21 1529.92 L645.21 1512.56 Z\" fill=\"#000000\" fill-rule=\"evenodd\" fill-opacity=\"1\" /><path clip-path=\"url(#clip290)\" d=\"M1174.84 1543.18 L1182.48 1543.18 L1182.48 1516.82 L1174.17 1518.49 L1174.17 1514.23 L1182.43 1512.56 L1187.11 1512.56 L1187.11 1543.18 L1194.75 1543.18 L1194.75 1547.12 L1174.84 1547.12 L1174.84 1543.18 Z\" fill=\"#000000\" fill-rule=\"evenodd\" fill-opacity=\"1\" /><path clip-path=\"url(#clip290)\" d=\"M1214.19 1515.64 Q1210.58 1515.64 1208.75 1519.2 Q1206.95 1522.75 1206.95 1529.87 Q1206.95 1536.98 1208.75 1540.55 Q1210.58 1544.09 1214.19 1544.09 Q1217.83 1544.09 1219.63 1540.55 Q1221.46 1536.98 1221.46 1529.87 Q1221.46 1522.75 1219.63 1519.2 Q1217.83 1515.64 1214.19 1515.64 M1214.19 1511.93 Q1220 1511.93 1223.06 1516.54 Q1226.14 1521.12 1226.14 1529.87 Q1226.14 1538.6 1223.06 1543.21 Q1220 1547.79 1214.19 1547.79 Q1208.38 1547.79 1205.31 1543.21 Q1202.25 1538.6 1202.25 1529.87 Q1202.25 1521.12 1205.31 1516.54 Q1208.38 1511.93 1214.19 1511.93 Z\" fill=\"#000000\" fill-rule=\"evenodd\" fill-opacity=\"1\" /><path clip-path=\"url(#clip290)\" d=\"M1720.56 1543.18 L1728.2 1543.18 L1728.2 1516.82 L1719.89 1518.49 L1719.89 1514.23 L1728.16 1512.56 L1732.83 1512.56 L1732.83 1543.18 L1740.47 1543.18 L1740.47 1547.12 L1720.56 1547.12 L1720.56 1543.18 Z\" fill=\"#000000\" fill-rule=\"evenodd\" fill-opacity=\"1\" /><path clip-path=\"url(#clip290)\" d=\"M1749.96 1512.56 L1768.32 1512.56 L1768.32 1516.5 L1754.24 1516.5 L1754.24 1524.97 Q1755.26 1524.62 1756.28 1524.46 Q1757.3 1524.27 1758.32 1524.27 Q1764.1 1524.27 1767.48 1527.44 Q1770.86 1530.62 1770.86 1536.03 Q1770.86 1541.61 1767.39 1544.71 Q1763.92 1547.79 1757.6 1547.79 Q1755.42 1547.79 1753.16 1547.42 Q1750.91 1547.05 1748.5 1546.31 L1748.5 1541.61 Q1750.59 1542.74 1752.81 1543.3 Q1755.03 1543.86 1757.51 1543.86 Q1761.51 1543.86 1763.85 1541.75 Q1766.19 1539.64 1766.19 1536.03 Q1766.19 1532.42 1763.85 1530.31 Q1761.51 1528.21 1757.51 1528.21 Q1755.63 1528.21 1753.76 1528.62 Q1751.91 1529.04 1749.96 1529.92 L1749.96 1512.56 Z\" fill=\"#000000\" fill-rule=\"evenodd\" fill-opacity=\"1\" /><path clip-path=\"url(#clip290)\" d=\"M2269.37 1543.18 L2285.69 1543.18 L2285.69 1547.12 L2263.75 1547.12 L2263.75 1543.18 Q2266.41 1540.43 2270.99 1535.8 Q2275.6 1531.15 2276.78 1529.81 Q2279.03 1527.28 2279.91 1525.55 Q2280.81 1523.79 2280.81 1522.1 Q2280.81 1519.34 2278.86 1517.61 Q2276.94 1515.87 2273.84 1515.87 Q2271.64 1515.87 2269.19 1516.63 Q2266.76 1517.4 2263.98 1518.95 L2263.98 1514.23 Q2266.8 1513.09 2269.26 1512.51 Q2271.71 1511.93 2273.75 1511.93 Q2279.12 1511.93 2282.31 1514.62 Q2285.51 1517.31 2285.51 1521.8 Q2285.51 1523.93 2284.7 1525.85 Q2283.91 1527.74 2281.8 1530.34 Q2281.23 1531.01 2278.12 1534.23 Q2275.02 1537.42 2269.37 1543.18 Z\" fill=\"#000000\" fill-rule=\"evenodd\" fill-opacity=\"1\" /><path clip-path=\"url(#clip290)\" d=\"M2305.51 1515.64 Q2301.9 1515.64 2300.07 1519.2 Q2298.26 1522.75 2298.26 1529.87 Q2298.26 1536.98 2300.07 1540.55 Q2301.9 1544.09 2305.51 1544.09 Q2309.14 1544.09 2310.95 1540.55 Q2312.78 1536.98 2312.78 1529.87 Q2312.78 1522.75 2310.95 1519.2 Q2309.14 1515.64 2305.51 1515.64 M2305.51 1511.93 Q2311.32 1511.93 2314.37 1516.54 Q2317.45 1521.12 2317.45 1529.87 Q2317.45 1538.6 2314.37 1543.21 Q2311.32 1547.79 2305.51 1547.79 Q2299.7 1547.79 2296.62 1543.21 Q2293.56 1538.6 2293.56 1529.87 Q2293.56 1521.12 2296.62 1516.54 Q2299.7 1511.93 2305.51 1511.93 Z\" fill=\"#000000\" fill-rule=\"evenodd\" fill-opacity=\"1\" /><polyline clip-path=\"url(#clip292)\" style=\"stroke:#000000; stroke-linecap:butt; stroke-linejoin:round; stroke-width:2; stroke-opacity:0.1; fill:none\" points=\"\n",
       "  156.598,1207.35 2352.76,1207.35 \n",
       "  \"/>\n",
       "<polyline clip-path=\"url(#clip292)\" style=\"stroke:#000000; stroke-linecap:butt; stroke-linejoin:round; stroke-width:2; stroke-opacity:0.1; fill:none\" points=\"\n",
       "  156.598,917.811 2352.76,917.811 \n",
       "  \"/>\n",
       "<polyline clip-path=\"url(#clip292)\" style=\"stroke:#000000; stroke-linecap:butt; stroke-linejoin:round; stroke-width:2; stroke-opacity:0.1; fill:none\" points=\"\n",
       "  156.598,628.275 2352.76,628.275 \n",
       "  \"/>\n",
       "<polyline clip-path=\"url(#clip292)\" style=\"stroke:#000000; stroke-linecap:butt; stroke-linejoin:round; stroke-width:2; stroke-opacity:0.1; fill:none\" points=\"\n",
       "  156.598,338.738 2352.76,338.738 \n",
       "  \"/>\n",
       "<polyline clip-path=\"url(#clip292)\" style=\"stroke:#000000; stroke-linecap:butt; stroke-linejoin:round; stroke-width:2; stroke-opacity:0.1; fill:none\" points=\"\n",
       "  156.598,49.2022 2352.76,49.2022 \n",
       "  \"/>\n",
       "<polyline clip-path=\"url(#clip290)\" style=\"stroke:#000000; stroke-linecap:butt; stroke-linejoin:round; stroke-width:4; stroke-opacity:1; fill:none\" points=\"\n",
       "  156.598,1486.45 156.598,47.2441 \n",
       "  \"/>\n",
       "<polyline clip-path=\"url(#clip290)\" style=\"stroke:#000000; stroke-linecap:butt; stroke-linejoin:round; stroke-width:4; stroke-opacity:1; fill:none\" points=\"\n",
       "  156.598,1207.35 175.496,1207.35 \n",
       "  \"/>\n",
       "<polyline clip-path=\"url(#clip290)\" style=\"stroke:#000000; stroke-linecap:butt; stroke-linejoin:round; stroke-width:4; stroke-opacity:1; fill:none\" points=\"\n",
       "  156.598,917.811 175.496,917.811 \n",
       "  \"/>\n",
       "<polyline clip-path=\"url(#clip290)\" style=\"stroke:#000000; stroke-linecap:butt; stroke-linejoin:round; stroke-width:4; stroke-opacity:1; fill:none\" points=\"\n",
       "  156.598,628.275 175.496,628.275 \n",
       "  \"/>\n",
       "<polyline clip-path=\"url(#clip290)\" style=\"stroke:#000000; stroke-linecap:butt; stroke-linejoin:round; stroke-width:4; stroke-opacity:1; fill:none\" points=\"\n",
       "  156.598,338.738 175.496,338.738 \n",
       "  \"/>\n",
       "<polyline clip-path=\"url(#clip290)\" style=\"stroke:#000000; stroke-linecap:butt; stroke-linejoin:round; stroke-width:4; stroke-opacity:1; fill:none\" points=\"\n",
       "  156.598,49.2022 175.496,49.2022 \n",
       "  \"/>\n",
       "<path clip-path=\"url(#clip290)\" d=\"M65.0198 1193.15 Q61.4087 1193.15 59.58 1196.71 Q57.7745 1200.25 57.7745 1207.38 Q57.7745 1214.49 59.58 1218.05 Q61.4087 1221.59 65.0198 1221.59 Q68.6541 1221.59 70.4596 1218.05 Q72.2883 1214.49 72.2883 1207.38 Q72.2883 1200.25 70.4596 1196.71 Q68.6541 1193.15 65.0198 1193.15 M65.0198 1189.44 Q70.83 1189.44 73.8855 1194.05 Q76.9642 1198.63 76.9642 1207.38 Q76.9642 1216.11 73.8855 1220.72 Q70.83 1225.3 65.0198 1225.3 Q59.2097 1225.3 56.131 1220.72 Q53.0754 1216.11 53.0754 1207.38 Q53.0754 1198.63 56.131 1194.05 Q59.2097 1189.44 65.0198 1189.44 Z\" fill=\"#000000\" fill-rule=\"evenodd\" fill-opacity=\"1\" /><path clip-path=\"url(#clip290)\" d=\"M85.1818 1218.75 L90.066 1218.75 L90.066 1224.63 L85.1818 1224.63 L85.1818 1218.75 Z\" fill=\"#000000\" fill-rule=\"evenodd\" fill-opacity=\"1\" /><path clip-path=\"url(#clip290)\" d=\"M104.279 1220.69 L120.598 1220.69 L120.598 1224.63 L98.6539 1224.63 L98.6539 1220.69 Q101.316 1217.94 105.899 1213.31 Q110.506 1208.65 111.686 1207.31 Q113.932 1204.79 114.811 1203.05 Q115.714 1201.29 115.714 1199.6 Q115.714 1196.85 113.77 1195.11 Q111.848 1193.38 108.746 1193.38 Q106.547 1193.38 104.094 1194.14 Q101.663 1194.91 98.8854 1196.46 L98.8854 1191.73 Q101.709 1190.6 104.163 1190.02 Q106.617 1189.44 108.654 1189.44 Q114.024 1189.44 117.219 1192.13 Q120.413 1194.81 120.413 1199.3 Q120.413 1201.43 119.603 1203.35 Q118.816 1205.25 116.709 1207.84 Q116.131 1208.52 113.029 1211.73 Q109.927 1214.93 104.279 1220.69 Z\" fill=\"#000000\" fill-rule=\"evenodd\" fill-opacity=\"1\" /><path clip-path=\"url(#clip290)\" d=\"M62.9365 903.61 Q59.3254 903.61 57.4967 907.174 Q55.6912 910.716 55.6912 917.846 Q55.6912 924.952 57.4967 928.517 Q59.3254 932.058 62.9365 932.058 Q66.5707 932.058 68.3763 928.517 Q70.205 924.952 70.205 917.846 Q70.205 910.716 68.3763 907.174 Q66.5707 903.61 62.9365 903.61 M62.9365 899.906 Q68.7467 899.906 71.8022 904.512 Q74.8809 909.096 74.8809 917.846 Q74.8809 926.572 71.8022 931.179 Q68.7467 935.762 62.9365 935.762 Q57.1264 935.762 54.0477 931.179 Q50.9921 926.572 50.9921 917.846 Q50.9921 909.096 54.0477 904.512 Q57.1264 899.906 62.9365 899.906 Z\" fill=\"#000000\" fill-rule=\"evenodd\" fill-opacity=\"1\" /><path clip-path=\"url(#clip290)\" d=\"M83.0984 929.211 L87.9827 929.211 L87.9827 935.091 L83.0984 935.091 L83.0984 929.211 Z\" fill=\"#000000\" fill-rule=\"evenodd\" fill-opacity=\"1\" /><path clip-path=\"url(#clip290)\" d=\"M111.015 904.605 L99.2095 923.054 L111.015 923.054 L111.015 904.605 M109.788 900.531 L115.668 900.531 L115.668 923.054 L120.598 923.054 L120.598 926.943 L115.668 926.943 L115.668 935.091 L111.015 935.091 L111.015 926.943 L95.4132 926.943 L95.4132 922.429 L109.788 900.531 Z\" fill=\"#000000\" fill-rule=\"evenodd\" fill-opacity=\"1\" /><path clip-path=\"url(#clip290)\" d=\"M63.2606 614.073 Q59.6495 614.073 57.8208 617.638 Q56.0152 621.18 56.0152 628.309 Q56.0152 635.416 57.8208 638.981 Q59.6495 642.522 63.2606 642.522 Q66.8948 642.522 68.7004 638.981 Q70.5291 635.416 70.5291 628.309 Q70.5291 621.18 68.7004 617.638 Q66.8948 614.073 63.2606 614.073 M63.2606 610.37 Q69.0707 610.37 72.1263 614.976 Q75.205 619.559 75.205 628.309 Q75.205 637.036 72.1263 641.643 Q69.0707 646.226 63.2606 646.226 Q57.4504 646.226 54.3717 641.643 Q51.3162 637.036 51.3162 628.309 Q51.3162 619.559 54.3717 614.976 Q57.4504 610.37 63.2606 610.37 Z\" fill=\"#000000\" fill-rule=\"evenodd\" fill-opacity=\"1\" /><path clip-path=\"url(#clip290)\" d=\"M83.4225 639.675 L88.3067 639.675 L88.3067 645.555 L83.4225 645.555 L83.4225 639.675 Z\" fill=\"#000000\" fill-rule=\"evenodd\" fill-opacity=\"1\" /><path clip-path=\"url(#clip290)\" d=\"M109.071 626.411 Q105.922 626.411 104.071 628.564 Q102.242 630.717 102.242 634.467 Q102.242 638.194 104.071 640.369 Q105.922 642.522 109.071 642.522 Q112.219 642.522 114.047 640.369 Q115.899 638.194 115.899 634.467 Q115.899 630.717 114.047 628.564 Q112.219 626.411 109.071 626.411 M118.353 611.759 L118.353 616.018 Q116.594 615.184 114.788 614.745 Q113.006 614.305 111.246 614.305 Q106.617 614.305 104.163 617.43 Q101.733 620.555 101.385 626.874 Q102.751 624.86 104.811 623.795 Q106.871 622.708 109.348 622.708 Q114.557 622.708 117.566 625.879 Q120.598 629.027 120.598 634.467 Q120.598 639.791 117.45 643.008 Q114.302 646.226 109.071 646.226 Q103.075 646.226 99.9039 641.643 Q96.7326 637.036 96.7326 628.309 Q96.7326 620.115 100.621 615.254 Q104.51 610.37 111.061 610.37 Q112.82 610.37 114.603 610.717 Q116.408 611.064 118.353 611.759 Z\" fill=\"#000000\" fill-rule=\"evenodd\" fill-opacity=\"1\" /><path clip-path=\"url(#clip290)\" d=\"M63.5152 324.537 Q59.9041 324.537 58.0754 328.102 Q56.2699 331.644 56.2699 338.773 Q56.2699 345.88 58.0754 349.444 Q59.9041 352.986 63.5152 352.986 Q67.1494 352.986 68.955 349.444 Q70.7837 345.88 70.7837 338.773 Q70.7837 331.644 68.955 328.102 Q67.1494 324.537 63.5152 324.537 M63.5152 320.833 Q69.3254 320.833 72.3809 325.44 Q75.4596 330.023 75.4596 338.773 Q75.4596 347.5 72.3809 352.106 Q69.3254 356.69 63.5152 356.69 Q57.7051 356.69 54.6264 352.106 Q51.5708 347.5 51.5708 338.773 Q51.5708 330.023 54.6264 325.44 Q57.7051 320.833 63.5152 320.833 Z\" fill=\"#000000\" fill-rule=\"evenodd\" fill-opacity=\"1\" /><path clip-path=\"url(#clip290)\" d=\"M83.6771 350.139 L88.5614 350.139 L88.5614 356.018 L83.6771 356.018 L83.6771 350.139 Z\" fill=\"#000000\" fill-rule=\"evenodd\" fill-opacity=\"1\" /><path clip-path=\"url(#clip290)\" d=\"M108.746 339.606 Q105.413 339.606 103.492 341.389 Q101.594 343.171 101.594 346.296 Q101.594 349.421 103.492 351.204 Q105.413 352.986 108.746 352.986 Q112.08 352.986 114.001 351.204 Q115.922 349.398 115.922 346.296 Q115.922 343.171 114.001 341.389 Q112.103 339.606 108.746 339.606 M104.071 337.616 Q101.061 336.875 99.3715 334.815 Q97.7048 332.755 97.7048 329.792 Q97.7048 325.648 100.645 323.241 Q103.608 320.833 108.746 320.833 Q113.908 320.833 116.848 323.241 Q119.788 325.648 119.788 329.792 Q119.788 332.755 118.098 334.815 Q116.432 336.875 113.445 337.616 Q116.825 338.403 118.7 340.694 Q120.598 342.986 120.598 346.296 Q120.598 351.319 117.52 354.005 Q114.464 356.69 108.746 356.69 Q103.029 356.69 99.9502 354.005 Q96.8947 351.319 96.8947 346.296 Q96.8947 342.986 98.7928 340.694 Q100.691 338.403 104.071 337.616 M102.358 330.232 Q102.358 332.917 104.024 334.421 Q105.714 335.926 108.746 335.926 Q111.756 335.926 113.445 334.421 Q115.158 332.917 115.158 330.232 Q115.158 327.546 113.445 326.042 Q111.756 324.537 108.746 324.537 Q105.714 324.537 104.024 326.042 Q102.358 327.546 102.358 330.232 Z\" fill=\"#000000\" fill-rule=\"evenodd\" fill-opacity=\"1\" /><path clip-path=\"url(#clip290)\" d=\"M54.2328 62.547 L61.8717 62.547 L61.8717 36.1814 L53.5616 37.8481 L53.5616 33.5888 L61.8254 31.9222 L66.5013 31.9222 L66.5013 62.547 L74.1402 62.547 L74.1402 66.4822 L54.2328 66.4822 L54.2328 62.547 Z\" fill=\"#000000\" fill-rule=\"evenodd\" fill-opacity=\"1\" /><path clip-path=\"url(#clip290)\" d=\"M83.5845 60.6026 L88.4688 60.6026 L88.4688 66.4822 L83.5845 66.4822 L83.5845 60.6026 Z\" fill=\"#000000\" fill-rule=\"evenodd\" fill-opacity=\"1\" /><path clip-path=\"url(#clip290)\" d=\"M108.654 35.0009 Q105.043 35.0009 103.214 38.5657 Q101.409 42.1073 101.409 49.2369 Q101.409 56.3433 103.214 59.9081 Q105.043 63.4498 108.654 63.4498 Q112.288 63.4498 114.094 59.9081 Q115.922 56.3433 115.922 49.2369 Q115.922 42.1073 114.094 38.5657 Q112.288 35.0009 108.654 35.0009 M108.654 31.2972 Q114.464 31.2972 117.52 35.9036 Q120.598 40.4869 120.598 49.2369 Q120.598 57.9637 117.52 62.5702 Q114.464 67.1535 108.654 67.1535 Q102.844 67.1535 99.765 62.5702 Q96.7095 57.9637 96.7095 49.2369 Q96.7095 40.4869 99.765 35.9036 Q102.844 31.2972 108.654 31.2972 Z\" fill=\"#000000\" fill-rule=\"evenodd\" fill-opacity=\"1\" /><polyline clip-path=\"url(#clip292)\" style=\"stroke:#009af9; stroke-linecap:butt; stroke-linejoin:round; stroke-width:4; stroke-opacity:1; fill:none\" points=\"\n",
       "  218.754,304.504 327.798,178.977 436.843,1258.64 545.887,1240.17 654.932,1093.15 763.976,1202.31 873.021,1435.64 982.066,1398.05 1091.11,973.071 1200.15,87.9763 \n",
       "  1309.2,648.815 1418.24,716.164 1527.29,1120.43 1636.33,179.426 1745.38,1255.07 1854.42,548.003 1963.47,663.182 2072.51,239.893 2181.56,95.8181 2290.6,385.512 \n",
       "  \n",
       "  \"/>\n",
       "<polyline clip-path=\"url(#clip292)\" style=\"stroke:#e26f46; stroke-linecap:butt; stroke-linejoin:round; stroke-width:4; stroke-opacity:1; fill:none\" points=\"\n",
       "  218.754,817.481 327.798,1406.59 436.843,985.665 545.887,385.641 654.932,1434.43 763.976,1108.93 873.021,1400.11 982.066,1270.12 1091.11,620.607 1200.15,1300.37 \n",
       "  1309.2,283.556 1418.24,172.672 1527.29,1062.47 1636.33,450.427 1745.38,1323.66 1854.42,386.411 1963.47,335.954 2072.51,1445.72 2181.56,795.249 2290.6,195.13 \n",
       "  \n",
       "  \"/>\n",
       "<polyline clip-path=\"url(#clip292)\" style=\"stroke:#3da44d; stroke-linecap:butt; stroke-linejoin:round; stroke-width:4; stroke-opacity:1; fill:none\" points=\"\n",
       "  218.754,119.139 327.798,337.119 436.843,1316.9 545.887,1331.46 654.932,1381.71 763.976,372.507 873.021,1345.13 982.066,283.618 1091.11,1230.34 1200.15,1045 \n",
       "  1309.2,1212.55 1418.24,232.217 1527.29,548.766 1636.33,647.511 1745.38,580.942 1854.42,432.832 1963.47,703.059 2072.51,806.509 2181.56,624.837 2290.6,351.266 \n",
       "  \n",
       "  \"/>\n",
       "<path clip-path=\"url(#clip290)\" d=\"\n",
       "M1791 302.578 L2279.55 302.578 L2279.55 95.2176 L1791 95.2176  Z\n",
       "  \" fill=\"#ffffff\" fill-rule=\"evenodd\" fill-opacity=\"1\"/>\n",
       "<polyline clip-path=\"url(#clip290)\" style=\"stroke:#000000; stroke-linecap:butt; stroke-linejoin:round; stroke-width:4; stroke-opacity:1; fill:none\" points=\"\n",
       "  1791,302.578 2279.55,302.578 2279.55,95.2176 1791,95.2176 1791,302.578 \n",
       "  \"/>\n",
       "<polyline clip-path=\"url(#clip290)\" style=\"stroke:#009af9; stroke-linecap:butt; stroke-linejoin:round; stroke-width:4; stroke-opacity:1; fill:none\" points=\"\n",
       "  1815.4,147.058 1961.81,147.058 \n",
       "  \"/>\n",
       "<path clip-path=\"url(#clip290)\" d=\"M2005.12 142.347 L2005.12 128.319 L2009.38 128.319 L2009.38 164.338 L2005.12 164.338 L2005.12 160.449 Q2003.78 162.763 2001.72 163.898 Q1999.68 165.009 1996.81 165.009 Q1992.11 165.009 1989.15 161.259 Q1986.21 157.509 1986.21 151.398 Q1986.21 145.287 1989.15 141.537 Q1992.11 137.787 1996.81 137.787 Q1999.68 137.787 2001.72 138.921 Q2003.78 140.032 2005.12 142.347 M1990.61 151.398 Q1990.61 156.097 1992.53 158.782 Q1994.48 161.444 1997.85 161.444 Q2001.23 161.444 2003.18 158.782 Q2005.12 156.097 2005.12 151.398 Q2005.12 146.699 2003.18 144.037 Q2001.23 141.352 1997.85 141.352 Q1994.48 141.352 1992.53 144.037 Q1990.61 146.699 1990.61 151.398 Z\" fill=\"#000000\" fill-rule=\"evenodd\" fill-opacity=\"1\" /><path clip-path=\"url(#clip290)\" d=\"M2029.94 151.305 Q2024.78 151.305 2022.79 152.486 Q2020.79 153.666 2020.79 156.514 Q2020.79 158.782 2022.28 160.125 Q2023.78 161.444 2026.35 161.444 Q2029.89 161.444 2032.02 158.944 Q2034.17 156.421 2034.17 152.254 L2034.17 151.305 L2029.94 151.305 M2038.43 149.546 L2038.43 164.338 L2034.17 164.338 L2034.17 160.402 Q2032.72 162.763 2030.54 163.898 Q2028.36 165.009 2025.22 165.009 Q2021.23 165.009 2018.87 162.787 Q2016.54 160.541 2016.54 156.791 Q2016.54 152.416 2019.45 150.194 Q2022.39 147.972 2028.2 147.972 L2034.17 147.972 L2034.17 147.555 Q2034.17 144.615 2032.23 143.018 Q2030.31 141.398 2026.81 141.398 Q2024.59 141.398 2022.48 141.93 Q2020.38 142.463 2018.43 143.527 L2018.43 139.592 Q2020.77 138.69 2022.97 138.25 Q2025.17 137.787 2027.25 137.787 Q2032.88 137.787 2035.66 140.703 Q2038.43 143.62 2038.43 149.546 Z\" fill=\"#000000\" fill-rule=\"evenodd\" fill-opacity=\"1\" /><path clip-path=\"url(#clip290)\" d=\"M2051.42 131.051 L2051.42 138.412 L2060.19 138.412 L2060.19 141.722 L2051.42 141.722 L2051.42 155.796 Q2051.42 158.967 2052.28 159.87 Q2053.16 160.773 2055.82 160.773 L2060.19 160.773 L2060.19 164.338 L2055.82 164.338 Q2050.89 164.338 2049.01 162.509 Q2047.14 160.657 2047.14 155.796 L2047.14 141.722 L2044.01 141.722 L2044.01 138.412 L2047.14 138.412 L2047.14 131.051 L2051.42 131.051 Z\" fill=\"#000000\" fill-rule=\"evenodd\" fill-opacity=\"1\" /><path clip-path=\"url(#clip290)\" d=\"M2077.58 151.305 Q2072.41 151.305 2070.42 152.486 Q2068.43 153.666 2068.43 156.514 Q2068.43 158.782 2069.91 160.125 Q2071.42 161.444 2073.99 161.444 Q2077.53 161.444 2079.66 158.944 Q2081.81 156.421 2081.81 152.254 L2081.81 151.305 L2077.58 151.305 M2086.07 149.546 L2086.07 164.338 L2081.81 164.338 L2081.81 160.402 Q2080.35 162.763 2078.18 163.898 Q2076 165.009 2072.85 165.009 Q2068.87 165.009 2066.51 162.787 Q2064.17 160.541 2064.17 156.791 Q2064.17 152.416 2067.09 150.194 Q2070.03 147.972 2075.84 147.972 L2081.81 147.972 L2081.81 147.555 Q2081.81 144.615 2079.87 143.018 Q2077.95 141.398 2074.45 141.398 Q2072.23 141.398 2070.12 141.93 Q2068.02 142.463 2066.07 143.527 L2066.07 139.592 Q2068.41 138.69 2070.61 138.25 Q2072.81 137.787 2074.89 137.787 Q2080.52 137.787 2083.29 140.703 Q2086.07 143.62 2086.07 149.546 Z\" fill=\"#000000\" fill-rule=\"evenodd\" fill-opacity=\"1\" /><path clip-path=\"url(#clip290)\" d=\"M2096.26 160.402 L2103.9 160.402 L2103.9 134.037 L2095.59 135.703 L2095.59 131.444 L2103.85 129.778 L2108.53 129.778 L2108.53 160.402 L2116.16 160.402 L2116.16 164.338 L2096.26 164.338 L2096.26 160.402 Z\" fill=\"#000000\" fill-rule=\"evenodd\" fill-opacity=\"1\" /><path clip-path=\"url(#clip290)\" d=\"M2125.01 128.319 L2129.27 128.319 L2129.27 164.338 L2125.01 164.338 L2125.01 128.319 Z\" fill=\"#000000\" fill-rule=\"evenodd\" fill-opacity=\"1\" /><path clip-path=\"url(#clip290)\" d=\"M2149.96 151.305 Q2144.8 151.305 2142.81 152.486 Q2140.82 153.666 2140.82 156.514 Q2140.82 158.782 2142.3 160.125 Q2143.8 161.444 2146.37 161.444 Q2149.91 161.444 2152.04 158.944 Q2154.2 156.421 2154.2 152.254 L2154.2 151.305 L2149.96 151.305 M2158.46 149.546 L2158.46 164.338 L2154.2 164.338 L2154.2 160.402 Q2152.74 162.763 2150.56 163.898 Q2148.39 165.009 2145.24 165.009 Q2141.26 165.009 2138.9 162.787 Q2136.56 160.541 2136.56 156.791 Q2136.56 152.416 2139.47 150.194 Q2142.41 147.972 2148.22 147.972 L2154.2 147.972 L2154.2 147.555 Q2154.2 144.615 2152.25 143.018 Q2150.33 141.398 2146.84 141.398 Q2144.61 141.398 2142.51 141.93 Q2140.4 142.463 2138.46 143.527 L2138.46 139.592 Q2140.79 138.69 2142.99 138.25 Q2145.19 137.787 2147.28 137.787 Q2152.9 137.787 2155.68 140.703 Q2158.46 143.62 2158.46 149.546 Z\" fill=\"#000000\" fill-rule=\"evenodd\" fill-opacity=\"1\" /><path clip-path=\"url(#clip290)\" d=\"M2185.84 151.398 Q2185.84 146.699 2183.9 144.037 Q2181.97 141.352 2178.59 141.352 Q2175.22 141.352 2173.27 144.037 Q2171.35 146.699 2171.35 151.398 Q2171.35 156.097 2173.27 158.782 Q2175.22 161.444 2178.59 161.444 Q2181.97 161.444 2183.9 158.782 Q2185.84 156.097 2185.84 151.398 M2171.35 142.347 Q2172.69 140.032 2174.73 138.921 Q2176.79 137.787 2179.64 137.787 Q2184.36 137.787 2187.3 141.537 Q2190.26 145.287 2190.26 151.398 Q2190.26 157.509 2187.3 161.259 Q2184.36 165.009 2179.64 165.009 Q2176.79 165.009 2174.73 163.898 Q2172.69 162.763 2171.35 160.449 L2171.35 164.338 L2167.07 164.338 L2167.07 128.319 L2171.35 128.319 L2171.35 142.347 Z\" fill=\"#000000\" fill-rule=\"evenodd\" fill-opacity=\"1\" /><path clip-path=\"url(#clip290)\" d=\"M2219.5 150.31 L2219.5 152.393 L2199.91 152.393 Q2200.19 156.791 2202.55 159.106 Q2204.94 161.398 2209.17 161.398 Q2211.63 161.398 2213.92 160.796 Q2216.23 160.194 2218.5 158.99 L2218.5 163.018 Q2216.21 163.99 2213.8 164.5 Q2211.4 165.009 2208.92 165.009 Q2202.71 165.009 2199.08 161.398 Q2195.47 157.787 2195.47 151.629 Q2195.47 145.264 2198.9 141.537 Q2202.34 137.787 2208.18 137.787 Q2213.41 137.787 2216.44 141.166 Q2219.5 144.523 2219.5 150.31 M2215.24 149.06 Q2215.19 145.565 2213.27 143.481 Q2211.37 141.398 2208.22 141.398 Q2204.66 141.398 2202.51 143.412 Q2200.38 145.426 2200.05 149.083 L2215.24 149.06 Z\" fill=\"#000000\" fill-rule=\"evenodd\" fill-opacity=\"1\" /><path clip-path=\"url(#clip290)\" d=\"M2226.49 128.319 L2230.75 128.319 L2230.75 164.338 L2226.49 164.338 L2226.49 128.319 Z\" fill=\"#000000\" fill-rule=\"evenodd\" fill-opacity=\"1\" /><polyline clip-path=\"url(#clip290)\" style=\"stroke:#e26f46; stroke-linecap:butt; stroke-linejoin:round; stroke-width:4; stroke-opacity:1; fill:none\" points=\"\n",
       "  1815.4,198.898 1961.81,198.898 \n",
       "  \"/>\n",
       "<path clip-path=\"url(#clip290)\" d=\"M2005.12 194.187 L2005.12 180.159 L2009.38 180.159 L2009.38 216.178 L2005.12 216.178 L2005.12 212.289 Q2003.78 214.603 2001.72 215.738 Q1999.68 216.849 1996.81 216.849 Q1992.11 216.849 1989.15 213.099 Q1986.21 209.349 1986.21 203.238 Q1986.21 197.127 1989.15 193.377 Q1992.11 189.627 1996.81 189.627 Q1999.68 189.627 2001.72 190.761 Q2003.78 191.872 2005.12 194.187 M1990.61 203.238 Q1990.61 207.937 1992.53 210.622 Q1994.48 213.284 1997.85 213.284 Q2001.23 213.284 2003.18 210.622 Q2005.12 207.937 2005.12 203.238 Q2005.12 198.539 2003.18 195.877 Q2001.23 193.192 1997.85 193.192 Q1994.48 193.192 1992.53 195.877 Q1990.61 198.539 1990.61 203.238 Z\" fill=\"#000000\" fill-rule=\"evenodd\" fill-opacity=\"1\" /><path clip-path=\"url(#clip290)\" d=\"M2029.94 203.145 Q2024.78 203.145 2022.79 204.326 Q2020.79 205.506 2020.79 208.354 Q2020.79 210.622 2022.28 211.965 Q2023.78 213.284 2026.35 213.284 Q2029.89 213.284 2032.02 210.784 Q2034.17 208.261 2034.17 204.094 L2034.17 203.145 L2029.94 203.145 M2038.43 201.386 L2038.43 216.178 L2034.17 216.178 L2034.17 212.242 Q2032.72 214.603 2030.54 215.738 Q2028.36 216.849 2025.22 216.849 Q2021.23 216.849 2018.87 214.627 Q2016.54 212.381 2016.54 208.631 Q2016.54 204.256 2019.45 202.034 Q2022.39 199.812 2028.2 199.812 L2034.17 199.812 L2034.17 199.395 Q2034.17 196.455 2032.23 194.858 Q2030.31 193.238 2026.81 193.238 Q2024.59 193.238 2022.48 193.77 Q2020.38 194.303 2018.43 195.367 L2018.43 191.432 Q2020.77 190.53 2022.97 190.09 Q2025.17 189.627 2027.25 189.627 Q2032.88 189.627 2035.66 192.543 Q2038.43 195.46 2038.43 201.386 Z\" fill=\"#000000\" fill-rule=\"evenodd\" fill-opacity=\"1\" /><path clip-path=\"url(#clip290)\" d=\"M2051.42 182.891 L2051.42 190.252 L2060.19 190.252 L2060.19 193.562 L2051.42 193.562 L2051.42 207.636 Q2051.42 210.807 2052.28 211.71 Q2053.16 212.613 2055.82 212.613 L2060.19 212.613 L2060.19 216.178 L2055.82 216.178 Q2050.89 216.178 2049.01 214.349 Q2047.14 212.497 2047.14 207.636 L2047.14 193.562 L2044.01 193.562 L2044.01 190.252 L2047.14 190.252 L2047.14 182.891 L2051.42 182.891 Z\" fill=\"#000000\" fill-rule=\"evenodd\" fill-opacity=\"1\" /><path clip-path=\"url(#clip290)\" d=\"M2077.58 203.145 Q2072.41 203.145 2070.42 204.326 Q2068.43 205.506 2068.43 208.354 Q2068.43 210.622 2069.91 211.965 Q2071.42 213.284 2073.99 213.284 Q2077.53 213.284 2079.66 210.784 Q2081.81 208.261 2081.81 204.094 L2081.81 203.145 L2077.58 203.145 M2086.07 201.386 L2086.07 216.178 L2081.81 216.178 L2081.81 212.242 Q2080.35 214.603 2078.18 215.738 Q2076 216.849 2072.85 216.849 Q2068.87 216.849 2066.51 214.627 Q2064.17 212.381 2064.17 208.631 Q2064.17 204.256 2067.09 202.034 Q2070.03 199.812 2075.84 199.812 L2081.81 199.812 L2081.81 199.395 Q2081.81 196.455 2079.87 194.858 Q2077.95 193.238 2074.45 193.238 Q2072.23 193.238 2070.12 193.77 Q2068.02 194.303 2066.07 195.367 L2066.07 191.432 Q2068.41 190.53 2070.61 190.09 Q2072.81 189.627 2074.89 189.627 Q2080.52 189.627 2083.29 192.543 Q2086.07 195.46 2086.07 201.386 Z\" fill=\"#000000\" fill-rule=\"evenodd\" fill-opacity=\"1\" /><path clip-path=\"url(#clip290)\" d=\"M2099.47 212.242 L2115.79 212.242 L2115.79 216.178 L2093.85 216.178 L2093.85 212.242 Q2096.51 209.488 2101.1 204.858 Q2105.7 200.205 2106.88 198.863 Q2109.13 196.34 2110.01 194.604 Q2110.91 192.844 2110.91 191.155 Q2110.91 188.4 2108.97 186.664 Q2107.04 184.928 2103.94 184.928 Q2101.74 184.928 2099.29 185.692 Q2096.86 186.455 2094.08 188.006 L2094.08 183.284 Q2096.91 182.15 2099.36 181.571 Q2101.81 180.993 2103.85 180.993 Q2109.22 180.993 2112.41 183.678 Q2115.61 186.363 2115.61 190.854 Q2115.61 192.983 2114.8 194.905 Q2114.01 196.803 2111.91 199.395 Q2111.33 200.067 2108.22 203.284 Q2105.12 206.479 2099.47 212.242 Z\" fill=\"#000000\" fill-rule=\"evenodd\" fill-opacity=\"1\" /><path clip-path=\"url(#clip290)\" d=\"M2125.01 180.159 L2129.27 180.159 L2129.27 216.178 L2125.01 216.178 L2125.01 180.159 Z\" fill=\"#000000\" fill-rule=\"evenodd\" fill-opacity=\"1\" /><path clip-path=\"url(#clip290)\" d=\"M2149.96 203.145 Q2144.8 203.145 2142.81 204.326 Q2140.82 205.506 2140.82 208.354 Q2140.82 210.622 2142.3 211.965 Q2143.8 213.284 2146.37 213.284 Q2149.91 213.284 2152.04 210.784 Q2154.2 208.261 2154.2 204.094 L2154.2 203.145 L2149.96 203.145 M2158.46 201.386 L2158.46 216.178 L2154.2 216.178 L2154.2 212.242 Q2152.74 214.603 2150.56 215.738 Q2148.39 216.849 2145.24 216.849 Q2141.26 216.849 2138.9 214.627 Q2136.56 212.381 2136.56 208.631 Q2136.56 204.256 2139.47 202.034 Q2142.41 199.812 2148.22 199.812 L2154.2 199.812 L2154.2 199.395 Q2154.2 196.455 2152.25 194.858 Q2150.33 193.238 2146.84 193.238 Q2144.61 193.238 2142.51 193.77 Q2140.4 194.303 2138.46 195.367 L2138.46 191.432 Q2140.79 190.53 2142.99 190.09 Q2145.19 189.627 2147.28 189.627 Q2152.9 189.627 2155.68 192.543 Q2158.46 195.46 2158.46 201.386 Z\" fill=\"#000000\" fill-rule=\"evenodd\" fill-opacity=\"1\" /><path clip-path=\"url(#clip290)\" d=\"M2185.84 203.238 Q2185.84 198.539 2183.9 195.877 Q2181.97 193.192 2178.59 193.192 Q2175.22 193.192 2173.27 195.877 Q2171.35 198.539 2171.35 203.238 Q2171.35 207.937 2173.27 210.622 Q2175.22 213.284 2178.59 213.284 Q2181.97 213.284 2183.9 210.622 Q2185.84 207.937 2185.84 203.238 M2171.35 194.187 Q2172.69 191.872 2174.73 190.761 Q2176.79 189.627 2179.64 189.627 Q2184.36 189.627 2187.3 193.377 Q2190.26 197.127 2190.26 203.238 Q2190.26 209.349 2187.3 213.099 Q2184.36 216.849 2179.64 216.849 Q2176.79 216.849 2174.73 215.738 Q2172.69 214.603 2171.35 212.289 L2171.35 216.178 L2167.07 216.178 L2167.07 180.159 L2171.35 180.159 L2171.35 194.187 Z\" fill=\"#000000\" fill-rule=\"evenodd\" fill-opacity=\"1\" /><path clip-path=\"url(#clip290)\" d=\"M2219.5 202.15 L2219.5 204.233 L2199.91 204.233 Q2200.19 208.631 2202.55 210.946 Q2204.94 213.238 2209.17 213.238 Q2211.63 213.238 2213.92 212.636 Q2216.23 212.034 2218.5 210.83 L2218.5 214.858 Q2216.21 215.83 2213.8 216.34 Q2211.4 216.849 2208.92 216.849 Q2202.71 216.849 2199.08 213.238 Q2195.47 209.627 2195.47 203.469 Q2195.47 197.104 2198.9 193.377 Q2202.34 189.627 2208.18 189.627 Q2213.41 189.627 2216.44 193.006 Q2219.5 196.363 2219.5 202.15 M2215.24 200.9 Q2215.19 197.405 2213.27 195.321 Q2211.37 193.238 2208.22 193.238 Q2204.66 193.238 2202.51 195.252 Q2200.38 197.266 2200.05 200.923 L2215.24 200.9 Z\" fill=\"#000000\" fill-rule=\"evenodd\" fill-opacity=\"1\" /><path clip-path=\"url(#clip290)\" d=\"M2226.49 180.159 L2230.75 180.159 L2230.75 216.178 L2226.49 216.178 L2226.49 180.159 Z\" fill=\"#000000\" fill-rule=\"evenodd\" fill-opacity=\"1\" /><polyline clip-path=\"url(#clip290)\" style=\"stroke:#3da44d; stroke-linecap:butt; stroke-linejoin:round; stroke-width:4; stroke-opacity:1; fill:none\" points=\"\n",
       "  1815.4,250.738 1961.81,250.738 \n",
       "  \"/>\n",
       "<path clip-path=\"url(#clip290)\" d=\"M2005.12 246.027 L2005.12 231.999 L2009.38 231.999 L2009.38 268.018 L2005.12 268.018 L2005.12 264.129 Q2003.78 266.443 2001.72 267.578 Q1999.68 268.689 1996.81 268.689 Q1992.11 268.689 1989.15 264.939 Q1986.21 261.189 1986.21 255.078 Q1986.21 248.967 1989.15 245.217 Q1992.11 241.467 1996.81 241.467 Q1999.68 241.467 2001.72 242.601 Q2003.78 243.712 2005.12 246.027 M1990.61 255.078 Q1990.61 259.777 1992.53 262.462 Q1994.48 265.124 1997.85 265.124 Q2001.23 265.124 2003.18 262.462 Q2005.12 259.777 2005.12 255.078 Q2005.12 250.379 2003.18 247.717 Q2001.23 245.032 1997.85 245.032 Q1994.48 245.032 1992.53 247.717 Q1990.61 250.379 1990.61 255.078 Z\" fill=\"#000000\" fill-rule=\"evenodd\" fill-opacity=\"1\" /><path clip-path=\"url(#clip290)\" d=\"M2029.94 254.985 Q2024.78 254.985 2022.79 256.166 Q2020.79 257.346 2020.79 260.194 Q2020.79 262.462 2022.28 263.805 Q2023.78 265.124 2026.35 265.124 Q2029.89 265.124 2032.02 262.624 Q2034.17 260.101 2034.17 255.934 L2034.17 254.985 L2029.94 254.985 M2038.43 253.226 L2038.43 268.018 L2034.17 268.018 L2034.17 264.082 Q2032.72 266.443 2030.54 267.578 Q2028.36 268.689 2025.22 268.689 Q2021.23 268.689 2018.87 266.467 Q2016.54 264.221 2016.54 260.471 Q2016.54 256.096 2019.45 253.874 Q2022.39 251.652 2028.2 251.652 L2034.17 251.652 L2034.17 251.235 Q2034.17 248.295 2032.23 246.698 Q2030.31 245.078 2026.81 245.078 Q2024.59 245.078 2022.48 245.61 Q2020.38 246.143 2018.43 247.207 L2018.43 243.272 Q2020.77 242.37 2022.97 241.93 Q2025.17 241.467 2027.25 241.467 Q2032.88 241.467 2035.66 244.383 Q2038.43 247.3 2038.43 253.226 Z\" fill=\"#000000\" fill-rule=\"evenodd\" fill-opacity=\"1\" /><path clip-path=\"url(#clip290)\" d=\"M2051.42 234.731 L2051.42 242.092 L2060.19 242.092 L2060.19 245.402 L2051.42 245.402 L2051.42 259.476 Q2051.42 262.647 2052.28 263.55 Q2053.16 264.453 2055.82 264.453 L2060.19 264.453 L2060.19 268.018 L2055.82 268.018 Q2050.89 268.018 2049.01 266.189 Q2047.14 264.337 2047.14 259.476 L2047.14 245.402 L2044.01 245.402 L2044.01 242.092 L2047.14 242.092 L2047.14 234.731 L2051.42 234.731 Z\" fill=\"#000000\" fill-rule=\"evenodd\" fill-opacity=\"1\" /><path clip-path=\"url(#clip290)\" d=\"M2077.58 254.985 Q2072.41 254.985 2070.42 256.166 Q2068.43 257.346 2068.43 260.194 Q2068.43 262.462 2069.91 263.805 Q2071.42 265.124 2073.99 265.124 Q2077.53 265.124 2079.66 262.624 Q2081.81 260.101 2081.81 255.934 L2081.81 254.985 L2077.58 254.985 M2086.07 253.226 L2086.07 268.018 L2081.81 268.018 L2081.81 264.082 Q2080.35 266.443 2078.18 267.578 Q2076 268.689 2072.85 268.689 Q2068.87 268.689 2066.51 266.467 Q2064.17 264.221 2064.17 260.471 Q2064.17 256.096 2067.09 253.874 Q2070.03 251.652 2075.84 251.652 L2081.81 251.652 L2081.81 251.235 Q2081.81 248.295 2079.87 246.698 Q2077.95 245.078 2074.45 245.078 Q2072.23 245.078 2070.12 245.61 Q2068.02 246.143 2066.07 247.207 L2066.07 243.272 Q2068.41 242.37 2070.61 241.93 Q2072.81 241.467 2074.89 241.467 Q2080.52 241.467 2083.29 244.383 Q2086.07 247.3 2086.07 253.226 Z\" fill=\"#000000\" fill-rule=\"evenodd\" fill-opacity=\"1\" /><path clip-path=\"url(#clip290)\" d=\"M2109.61 249.383 Q2112.97 250.101 2114.84 252.369 Q2116.74 254.638 2116.74 257.971 Q2116.74 263.087 2113.22 265.888 Q2109.71 268.689 2103.22 268.689 Q2101.05 268.689 2098.73 268.249 Q2096.44 267.832 2093.99 266.976 L2093.99 262.462 Q2095.93 263.596 2098.25 264.175 Q2100.56 264.754 2103.09 264.754 Q2107.48 264.754 2109.78 263.018 Q2112.09 261.281 2112.09 257.971 Q2112.09 254.916 2109.94 253.203 Q2107.81 251.467 2103.99 251.467 L2099.96 251.467 L2099.96 247.624 L2104.17 247.624 Q2107.62 247.624 2109.45 246.258 Q2111.28 244.87 2111.28 242.277 Q2111.28 239.615 2109.38 238.203 Q2107.51 236.768 2103.99 236.768 Q2102.07 236.768 2099.87 237.184 Q2097.67 237.601 2095.03 238.481 L2095.03 234.314 Q2097.69 233.573 2100.01 233.203 Q2102.35 232.833 2104.41 232.833 Q2109.73 232.833 2112.83 235.263 Q2115.93 237.67 2115.93 241.791 Q2115.93 244.661 2114.29 246.652 Q2112.65 248.62 2109.61 249.383 Z\" fill=\"#000000\" fill-rule=\"evenodd\" fill-opacity=\"1\" /><path clip-path=\"url(#clip290)\" d=\"M2125.01 231.999 L2129.27 231.999 L2129.27 268.018 L2125.01 268.018 L2125.01 231.999 Z\" fill=\"#000000\" fill-rule=\"evenodd\" fill-opacity=\"1\" /><path clip-path=\"url(#clip290)\" d=\"M2149.96 254.985 Q2144.8 254.985 2142.81 256.166 Q2140.82 257.346 2140.82 260.194 Q2140.82 262.462 2142.3 263.805 Q2143.8 265.124 2146.37 265.124 Q2149.91 265.124 2152.04 262.624 Q2154.2 260.101 2154.2 255.934 L2154.2 254.985 L2149.96 254.985 M2158.46 253.226 L2158.46 268.018 L2154.2 268.018 L2154.2 264.082 Q2152.74 266.443 2150.56 267.578 Q2148.39 268.689 2145.24 268.689 Q2141.26 268.689 2138.9 266.467 Q2136.56 264.221 2136.56 260.471 Q2136.56 256.096 2139.47 253.874 Q2142.41 251.652 2148.22 251.652 L2154.2 251.652 L2154.2 251.235 Q2154.2 248.295 2152.25 246.698 Q2150.33 245.078 2146.84 245.078 Q2144.61 245.078 2142.51 245.61 Q2140.4 246.143 2138.46 247.207 L2138.46 243.272 Q2140.79 242.37 2142.99 241.93 Q2145.19 241.467 2147.28 241.467 Q2152.9 241.467 2155.68 244.383 Q2158.46 247.3 2158.46 253.226 Z\" fill=\"#000000\" fill-rule=\"evenodd\" fill-opacity=\"1\" /><path clip-path=\"url(#clip290)\" d=\"M2185.84 255.078 Q2185.84 250.379 2183.9 247.717 Q2181.97 245.032 2178.59 245.032 Q2175.22 245.032 2173.27 247.717 Q2171.35 250.379 2171.35 255.078 Q2171.35 259.777 2173.27 262.462 Q2175.22 265.124 2178.59 265.124 Q2181.97 265.124 2183.9 262.462 Q2185.84 259.777 2185.84 255.078 M2171.35 246.027 Q2172.69 243.712 2174.73 242.601 Q2176.79 241.467 2179.64 241.467 Q2184.36 241.467 2187.3 245.217 Q2190.26 248.967 2190.26 255.078 Q2190.26 261.189 2187.3 264.939 Q2184.36 268.689 2179.64 268.689 Q2176.79 268.689 2174.73 267.578 Q2172.69 266.443 2171.35 264.129 L2171.35 268.018 L2167.07 268.018 L2167.07 231.999 L2171.35 231.999 L2171.35 246.027 Z\" fill=\"#000000\" fill-rule=\"evenodd\" fill-opacity=\"1\" /><path clip-path=\"url(#clip290)\" d=\"M2219.5 253.99 L2219.5 256.073 L2199.91 256.073 Q2200.19 260.471 2202.55 262.786 Q2204.94 265.078 2209.17 265.078 Q2211.63 265.078 2213.92 264.476 Q2216.23 263.874 2218.5 262.67 L2218.5 266.698 Q2216.21 267.67 2213.8 268.18 Q2211.4 268.689 2208.92 268.689 Q2202.71 268.689 2199.08 265.078 Q2195.47 261.467 2195.47 255.309 Q2195.47 248.944 2198.9 245.217 Q2202.34 241.467 2208.18 241.467 Q2213.41 241.467 2216.44 244.846 Q2219.5 248.203 2219.5 253.99 M2215.24 252.74 Q2215.19 249.245 2213.27 247.161 Q2211.37 245.078 2208.22 245.078 Q2204.66 245.078 2202.51 247.092 Q2200.38 249.106 2200.05 252.763 L2215.24 252.74 Z\" fill=\"#000000\" fill-rule=\"evenodd\" fill-opacity=\"1\" /><path clip-path=\"url(#clip290)\" d=\"M2226.49 231.999 L2230.75 231.999 L2230.75 268.018 L2226.49 268.018 L2226.49 231.999 Z\" fill=\"#000000\" fill-rule=\"evenodd\" fill-opacity=\"1\" /></svg>\n"
      ]
     },
     "execution_count": 88,
     "metadata": {},
     "output_type": "execute_result"
    }
   ],
   "source": [
    "plot(1:20, [data1 data2 data3], label=[\"data1label\" \"data2label\" \"data3label\"])"
   ]
  },
  {
   "cell_type": "code",
   "execution_count": 90,
   "metadata": {},
   "outputs": [
    {
     "data": {
      "image/svg+xml": [
       "<?xml version=\"1.0\" encoding=\"utf-8\"?>\n",
       "<svg xmlns=\"http://www.w3.org/2000/svg\" xmlns:xlink=\"http://www.w3.org/1999/xlink\" width=\"600\" height=\"400\" viewBox=\"0 0 2400 1600\">\n",
       "<defs>\n",
       "  <clipPath id=\"clip370\">\n",
       "    <rect x=\"0\" y=\"0\" width=\"2400\" height=\"1600\"/>\n",
       "  </clipPath>\n",
       "</defs>\n",
       "<path clip-path=\"url(#clip370)\" d=\"\n",
       "M0 1600 L2400 1600 L2400 0 L0 0  Z\n",
       "  \" fill=\"#ffffff\" fill-rule=\"evenodd\" fill-opacity=\"1\"/>\n",
       "<defs>\n",
       "  <clipPath id=\"clip371\">\n",
       "    <rect x=\"480\" y=\"0\" width=\"1681\" height=\"1600\"/>\n",
       "  </clipPath>\n",
       "</defs>\n",
       "<path clip-path=\"url(#clip370)\" d=\"\n",
       "M156.598 1486.45 L2352.76 1486.45 L2352.76 47.2441 L156.598 47.2441  Z\n",
       "  \" fill=\"#ffffff\" fill-rule=\"evenodd\" fill-opacity=\"1\"/>\n",
       "<defs>\n",
       "  <clipPath id=\"clip372\">\n",
       "    <rect x=\"156\" y=\"47\" width=\"2197\" height=\"1440\"/>\n",
       "  </clipPath>\n",
       "</defs>\n",
       "<polyline clip-path=\"url(#clip372)\" style=\"stroke:#000000; stroke-linecap:butt; stroke-linejoin:round; stroke-width:2; stroke-opacity:0.1; fill:none\" points=\"\n",
       "  654.932,1486.45 654.932,47.2441 \n",
       "  \"/>\n",
       "<polyline clip-path=\"url(#clip372)\" style=\"stroke:#000000; stroke-linecap:butt; stroke-linejoin:round; stroke-width:2; stroke-opacity:0.1; fill:none\" points=\"\n",
       "  1200.15,1486.45 1200.15,47.2441 \n",
       "  \"/>\n",
       "<polyline clip-path=\"url(#clip372)\" style=\"stroke:#000000; stroke-linecap:butt; stroke-linejoin:round; stroke-width:2; stroke-opacity:0.1; fill:none\" points=\"\n",
       "  1745.38,1486.45 1745.38,47.2441 \n",
       "  \"/>\n",
       "<polyline clip-path=\"url(#clip372)\" style=\"stroke:#000000; stroke-linecap:butt; stroke-linejoin:round; stroke-width:2; stroke-opacity:0.1; fill:none\" points=\"\n",
       "  2290.6,1486.45 2290.6,47.2441 \n",
       "  \"/>\n",
       "<polyline clip-path=\"url(#clip370)\" style=\"stroke:#000000; stroke-linecap:butt; stroke-linejoin:round; stroke-width:4; stroke-opacity:1; fill:none\" points=\"\n",
       "  156.598,1486.45 2352.76,1486.45 \n",
       "  \"/>\n",
       "<polyline clip-path=\"url(#clip370)\" style=\"stroke:#000000; stroke-linecap:butt; stroke-linejoin:round; stroke-width:4; stroke-opacity:1; fill:none\" points=\"\n",
       "  654.932,1486.45 654.932,1467.55 \n",
       "  \"/>\n",
       "<polyline clip-path=\"url(#clip370)\" style=\"stroke:#000000; stroke-linecap:butt; stroke-linejoin:round; stroke-width:4; stroke-opacity:1; fill:none\" points=\"\n",
       "  1200.15,1486.45 1200.15,1467.55 \n",
       "  \"/>\n",
       "<polyline clip-path=\"url(#clip370)\" style=\"stroke:#000000; stroke-linecap:butt; stroke-linejoin:round; stroke-width:4; stroke-opacity:1; fill:none\" points=\"\n",
       "  1745.38,1486.45 1745.38,1467.55 \n",
       "  \"/>\n",
       "<polyline clip-path=\"url(#clip370)\" style=\"stroke:#000000; stroke-linecap:butt; stroke-linejoin:round; stroke-width:4; stroke-opacity:1; fill:none\" points=\"\n",
       "  2290.6,1486.45 2290.6,1467.55 \n",
       "  \"/>\n",
       "<path clip-path=\"url(#clip370)\" d=\"M645.21 1512.56 L663.566 1512.56 L663.566 1516.5 L649.492 1516.5 L649.492 1524.97 Q650.511 1524.62 651.529 1524.46 Q652.548 1524.27 653.566 1524.27 Q659.353 1524.27 662.733 1527.44 Q666.112 1530.62 666.112 1536.03 Q666.112 1541.61 662.64 1544.71 Q659.168 1547.79 652.849 1547.79 Q650.673 1547.79 648.404 1547.42 Q646.159 1547.05 643.751 1546.31 L643.751 1541.61 Q645.835 1542.74 648.057 1543.3 Q650.279 1543.86 652.756 1543.86 Q656.761 1543.86 659.099 1541.75 Q661.437 1539.64 661.437 1536.03 Q661.437 1532.42 659.099 1530.31 Q656.761 1528.21 652.756 1528.21 Q650.881 1528.21 649.006 1528.62 Q647.154 1529.04 645.21 1529.92 L645.21 1512.56 Z\" fill=\"#000000\" fill-rule=\"evenodd\" fill-opacity=\"1\" /><path clip-path=\"url(#clip370)\" d=\"M1174.84 1543.18 L1182.48 1543.18 L1182.48 1516.82 L1174.17 1518.49 L1174.17 1514.23 L1182.43 1512.56 L1187.11 1512.56 L1187.11 1543.18 L1194.75 1543.18 L1194.75 1547.12 L1174.84 1547.12 L1174.84 1543.18 Z\" fill=\"#000000\" fill-rule=\"evenodd\" fill-opacity=\"1\" /><path clip-path=\"url(#clip370)\" d=\"M1214.19 1515.64 Q1210.58 1515.64 1208.75 1519.2 Q1206.95 1522.75 1206.95 1529.87 Q1206.95 1536.98 1208.75 1540.55 Q1210.58 1544.09 1214.19 1544.09 Q1217.83 1544.09 1219.63 1540.55 Q1221.46 1536.98 1221.46 1529.87 Q1221.46 1522.75 1219.63 1519.2 Q1217.83 1515.64 1214.19 1515.64 M1214.19 1511.93 Q1220 1511.93 1223.06 1516.54 Q1226.14 1521.12 1226.14 1529.87 Q1226.14 1538.6 1223.06 1543.21 Q1220 1547.79 1214.19 1547.79 Q1208.38 1547.79 1205.31 1543.21 Q1202.25 1538.6 1202.25 1529.87 Q1202.25 1521.12 1205.31 1516.54 Q1208.38 1511.93 1214.19 1511.93 Z\" fill=\"#000000\" fill-rule=\"evenodd\" fill-opacity=\"1\" /><path clip-path=\"url(#clip370)\" d=\"M1720.56 1543.18 L1728.2 1543.18 L1728.2 1516.82 L1719.89 1518.49 L1719.89 1514.23 L1728.16 1512.56 L1732.83 1512.56 L1732.83 1543.18 L1740.47 1543.18 L1740.47 1547.12 L1720.56 1547.12 L1720.56 1543.18 Z\" fill=\"#000000\" fill-rule=\"evenodd\" fill-opacity=\"1\" /><path clip-path=\"url(#clip370)\" d=\"M1749.96 1512.56 L1768.32 1512.56 L1768.32 1516.5 L1754.24 1516.5 L1754.24 1524.97 Q1755.26 1524.62 1756.28 1524.46 Q1757.3 1524.27 1758.32 1524.27 Q1764.1 1524.27 1767.48 1527.44 Q1770.86 1530.62 1770.86 1536.03 Q1770.86 1541.61 1767.39 1544.71 Q1763.92 1547.79 1757.6 1547.79 Q1755.42 1547.79 1753.16 1547.42 Q1750.91 1547.05 1748.5 1546.31 L1748.5 1541.61 Q1750.59 1542.74 1752.81 1543.3 Q1755.03 1543.86 1757.51 1543.86 Q1761.51 1543.86 1763.85 1541.75 Q1766.19 1539.64 1766.19 1536.03 Q1766.19 1532.42 1763.85 1530.31 Q1761.51 1528.21 1757.51 1528.21 Q1755.63 1528.21 1753.76 1528.62 Q1751.91 1529.04 1749.96 1529.92 L1749.96 1512.56 Z\" fill=\"#000000\" fill-rule=\"evenodd\" fill-opacity=\"1\" /><path clip-path=\"url(#clip370)\" d=\"M2269.37 1543.18 L2285.69 1543.18 L2285.69 1547.12 L2263.75 1547.12 L2263.75 1543.18 Q2266.41 1540.43 2270.99 1535.8 Q2275.6 1531.15 2276.78 1529.81 Q2279.03 1527.28 2279.91 1525.55 Q2280.81 1523.79 2280.81 1522.1 Q2280.81 1519.34 2278.86 1517.61 Q2276.94 1515.87 2273.84 1515.87 Q2271.64 1515.87 2269.19 1516.63 Q2266.76 1517.4 2263.98 1518.95 L2263.98 1514.23 Q2266.8 1513.09 2269.26 1512.51 Q2271.71 1511.93 2273.75 1511.93 Q2279.12 1511.93 2282.31 1514.62 Q2285.51 1517.31 2285.51 1521.8 Q2285.51 1523.93 2284.7 1525.85 Q2283.91 1527.74 2281.8 1530.34 Q2281.23 1531.01 2278.12 1534.23 Q2275.02 1537.42 2269.37 1543.18 Z\" fill=\"#000000\" fill-rule=\"evenodd\" fill-opacity=\"1\" /><path clip-path=\"url(#clip370)\" d=\"M2305.51 1515.64 Q2301.9 1515.64 2300.07 1519.2 Q2298.26 1522.75 2298.26 1529.87 Q2298.26 1536.98 2300.07 1540.55 Q2301.9 1544.09 2305.51 1544.09 Q2309.14 1544.09 2310.95 1540.55 Q2312.78 1536.98 2312.78 1529.87 Q2312.78 1522.75 2310.95 1519.2 Q2309.14 1515.64 2305.51 1515.64 M2305.51 1511.93 Q2311.32 1511.93 2314.37 1516.54 Q2317.45 1521.12 2317.45 1529.87 Q2317.45 1538.6 2314.37 1543.21 Q2311.32 1547.79 2305.51 1547.79 Q2299.7 1547.79 2296.62 1543.21 Q2293.56 1538.6 2293.56 1529.87 Q2293.56 1521.12 2296.62 1516.54 Q2299.7 1511.93 2305.51 1511.93 Z\" fill=\"#000000\" fill-rule=\"evenodd\" fill-opacity=\"1\" /><polyline clip-path=\"url(#clip372)\" style=\"stroke:#000000; stroke-linecap:butt; stroke-linejoin:round; stroke-width:2; stroke-opacity:0.1; fill:none\" points=\"\n",
       "  156.598,1207.35 2352.76,1207.35 \n",
       "  \"/>\n",
       "<polyline clip-path=\"url(#clip372)\" style=\"stroke:#000000; stroke-linecap:butt; stroke-linejoin:round; stroke-width:2; stroke-opacity:0.1; fill:none\" points=\"\n",
       "  156.598,917.811 2352.76,917.811 \n",
       "  \"/>\n",
       "<polyline clip-path=\"url(#clip372)\" style=\"stroke:#000000; stroke-linecap:butt; stroke-linejoin:round; stroke-width:2; stroke-opacity:0.1; fill:none\" points=\"\n",
       "  156.598,628.275 2352.76,628.275 \n",
       "  \"/>\n",
       "<polyline clip-path=\"url(#clip372)\" style=\"stroke:#000000; stroke-linecap:butt; stroke-linejoin:round; stroke-width:2; stroke-opacity:0.1; fill:none\" points=\"\n",
       "  156.598,338.738 2352.76,338.738 \n",
       "  \"/>\n",
       "<polyline clip-path=\"url(#clip372)\" style=\"stroke:#000000; stroke-linecap:butt; stroke-linejoin:round; stroke-width:2; stroke-opacity:0.1; fill:none\" points=\"\n",
       "  156.598,49.2022 2352.76,49.2022 \n",
       "  \"/>\n",
       "<polyline clip-path=\"url(#clip370)\" style=\"stroke:#000000; stroke-linecap:butt; stroke-linejoin:round; stroke-width:4; stroke-opacity:1; fill:none\" points=\"\n",
       "  156.598,1486.45 156.598,47.2441 \n",
       "  \"/>\n",
       "<polyline clip-path=\"url(#clip370)\" style=\"stroke:#000000; stroke-linecap:butt; stroke-linejoin:round; stroke-width:4; stroke-opacity:1; fill:none\" points=\"\n",
       "  156.598,1207.35 175.496,1207.35 \n",
       "  \"/>\n",
       "<polyline clip-path=\"url(#clip370)\" style=\"stroke:#000000; stroke-linecap:butt; stroke-linejoin:round; stroke-width:4; stroke-opacity:1; fill:none\" points=\"\n",
       "  156.598,917.811 175.496,917.811 \n",
       "  \"/>\n",
       "<polyline clip-path=\"url(#clip370)\" style=\"stroke:#000000; stroke-linecap:butt; stroke-linejoin:round; stroke-width:4; stroke-opacity:1; fill:none\" points=\"\n",
       "  156.598,628.275 175.496,628.275 \n",
       "  \"/>\n",
       "<polyline clip-path=\"url(#clip370)\" style=\"stroke:#000000; stroke-linecap:butt; stroke-linejoin:round; stroke-width:4; stroke-opacity:1; fill:none\" points=\"\n",
       "  156.598,338.738 175.496,338.738 \n",
       "  \"/>\n",
       "<polyline clip-path=\"url(#clip370)\" style=\"stroke:#000000; stroke-linecap:butt; stroke-linejoin:round; stroke-width:4; stroke-opacity:1; fill:none\" points=\"\n",
       "  156.598,49.2022 175.496,49.2022 \n",
       "  \"/>\n",
       "<path clip-path=\"url(#clip370)\" d=\"M65.0198 1193.15 Q61.4087 1193.15 59.58 1196.71 Q57.7745 1200.25 57.7745 1207.38 Q57.7745 1214.49 59.58 1218.05 Q61.4087 1221.59 65.0198 1221.59 Q68.6541 1221.59 70.4596 1218.05 Q72.2883 1214.49 72.2883 1207.38 Q72.2883 1200.25 70.4596 1196.71 Q68.6541 1193.15 65.0198 1193.15 M65.0198 1189.44 Q70.83 1189.44 73.8855 1194.05 Q76.9642 1198.63 76.9642 1207.38 Q76.9642 1216.11 73.8855 1220.72 Q70.83 1225.3 65.0198 1225.3 Q59.2097 1225.3 56.131 1220.72 Q53.0754 1216.11 53.0754 1207.38 Q53.0754 1198.63 56.131 1194.05 Q59.2097 1189.44 65.0198 1189.44 Z\" fill=\"#000000\" fill-rule=\"evenodd\" fill-opacity=\"1\" /><path clip-path=\"url(#clip370)\" d=\"M85.1818 1218.75 L90.066 1218.75 L90.066 1224.63 L85.1818 1224.63 L85.1818 1218.75 Z\" fill=\"#000000\" fill-rule=\"evenodd\" fill-opacity=\"1\" /><path clip-path=\"url(#clip370)\" d=\"M104.279 1220.69 L120.598 1220.69 L120.598 1224.63 L98.6539 1224.63 L98.6539 1220.69 Q101.316 1217.94 105.899 1213.31 Q110.506 1208.65 111.686 1207.31 Q113.932 1204.79 114.811 1203.05 Q115.714 1201.29 115.714 1199.6 Q115.714 1196.85 113.77 1195.11 Q111.848 1193.38 108.746 1193.38 Q106.547 1193.38 104.094 1194.14 Q101.663 1194.91 98.8854 1196.46 L98.8854 1191.73 Q101.709 1190.6 104.163 1190.02 Q106.617 1189.44 108.654 1189.44 Q114.024 1189.44 117.219 1192.13 Q120.413 1194.81 120.413 1199.3 Q120.413 1201.43 119.603 1203.35 Q118.816 1205.25 116.709 1207.84 Q116.131 1208.52 113.029 1211.73 Q109.927 1214.93 104.279 1220.69 Z\" fill=\"#000000\" fill-rule=\"evenodd\" fill-opacity=\"1\" /><path clip-path=\"url(#clip370)\" d=\"M62.9365 903.61 Q59.3254 903.61 57.4967 907.174 Q55.6912 910.716 55.6912 917.846 Q55.6912 924.952 57.4967 928.517 Q59.3254 932.058 62.9365 932.058 Q66.5707 932.058 68.3763 928.517 Q70.205 924.952 70.205 917.846 Q70.205 910.716 68.3763 907.174 Q66.5707 903.61 62.9365 903.61 M62.9365 899.906 Q68.7467 899.906 71.8022 904.512 Q74.8809 909.096 74.8809 917.846 Q74.8809 926.572 71.8022 931.179 Q68.7467 935.762 62.9365 935.762 Q57.1264 935.762 54.0477 931.179 Q50.9921 926.572 50.9921 917.846 Q50.9921 909.096 54.0477 904.512 Q57.1264 899.906 62.9365 899.906 Z\" fill=\"#000000\" fill-rule=\"evenodd\" fill-opacity=\"1\" /><path clip-path=\"url(#clip370)\" d=\"M83.0984 929.211 L87.9827 929.211 L87.9827 935.091 L83.0984 935.091 L83.0984 929.211 Z\" fill=\"#000000\" fill-rule=\"evenodd\" fill-opacity=\"1\" /><path clip-path=\"url(#clip370)\" d=\"M111.015 904.605 L99.2095 923.054 L111.015 923.054 L111.015 904.605 M109.788 900.531 L115.668 900.531 L115.668 923.054 L120.598 923.054 L120.598 926.943 L115.668 926.943 L115.668 935.091 L111.015 935.091 L111.015 926.943 L95.4132 926.943 L95.4132 922.429 L109.788 900.531 Z\" fill=\"#000000\" fill-rule=\"evenodd\" fill-opacity=\"1\" /><path clip-path=\"url(#clip370)\" d=\"M63.2606 614.073 Q59.6495 614.073 57.8208 617.638 Q56.0152 621.18 56.0152 628.309 Q56.0152 635.416 57.8208 638.981 Q59.6495 642.522 63.2606 642.522 Q66.8948 642.522 68.7004 638.981 Q70.5291 635.416 70.5291 628.309 Q70.5291 621.18 68.7004 617.638 Q66.8948 614.073 63.2606 614.073 M63.2606 610.37 Q69.0707 610.37 72.1263 614.976 Q75.205 619.559 75.205 628.309 Q75.205 637.036 72.1263 641.643 Q69.0707 646.226 63.2606 646.226 Q57.4504 646.226 54.3717 641.643 Q51.3162 637.036 51.3162 628.309 Q51.3162 619.559 54.3717 614.976 Q57.4504 610.37 63.2606 610.37 Z\" fill=\"#000000\" fill-rule=\"evenodd\" fill-opacity=\"1\" /><path clip-path=\"url(#clip370)\" d=\"M83.4225 639.675 L88.3067 639.675 L88.3067 645.555 L83.4225 645.555 L83.4225 639.675 Z\" fill=\"#000000\" fill-rule=\"evenodd\" fill-opacity=\"1\" /><path clip-path=\"url(#clip370)\" d=\"M109.071 626.411 Q105.922 626.411 104.071 628.564 Q102.242 630.717 102.242 634.467 Q102.242 638.194 104.071 640.369 Q105.922 642.522 109.071 642.522 Q112.219 642.522 114.047 640.369 Q115.899 638.194 115.899 634.467 Q115.899 630.717 114.047 628.564 Q112.219 626.411 109.071 626.411 M118.353 611.759 L118.353 616.018 Q116.594 615.184 114.788 614.745 Q113.006 614.305 111.246 614.305 Q106.617 614.305 104.163 617.43 Q101.733 620.555 101.385 626.874 Q102.751 624.86 104.811 623.795 Q106.871 622.708 109.348 622.708 Q114.557 622.708 117.566 625.879 Q120.598 629.027 120.598 634.467 Q120.598 639.791 117.45 643.008 Q114.302 646.226 109.071 646.226 Q103.075 646.226 99.9039 641.643 Q96.7326 637.036 96.7326 628.309 Q96.7326 620.115 100.621 615.254 Q104.51 610.37 111.061 610.37 Q112.82 610.37 114.603 610.717 Q116.408 611.064 118.353 611.759 Z\" fill=\"#000000\" fill-rule=\"evenodd\" fill-opacity=\"1\" /><path clip-path=\"url(#clip370)\" d=\"M63.5152 324.537 Q59.9041 324.537 58.0754 328.102 Q56.2699 331.644 56.2699 338.773 Q56.2699 345.88 58.0754 349.444 Q59.9041 352.986 63.5152 352.986 Q67.1494 352.986 68.955 349.444 Q70.7837 345.88 70.7837 338.773 Q70.7837 331.644 68.955 328.102 Q67.1494 324.537 63.5152 324.537 M63.5152 320.833 Q69.3254 320.833 72.3809 325.44 Q75.4596 330.023 75.4596 338.773 Q75.4596 347.5 72.3809 352.106 Q69.3254 356.69 63.5152 356.69 Q57.7051 356.69 54.6264 352.106 Q51.5708 347.5 51.5708 338.773 Q51.5708 330.023 54.6264 325.44 Q57.7051 320.833 63.5152 320.833 Z\" fill=\"#000000\" fill-rule=\"evenodd\" fill-opacity=\"1\" /><path clip-path=\"url(#clip370)\" d=\"M83.6771 350.139 L88.5614 350.139 L88.5614 356.018 L83.6771 356.018 L83.6771 350.139 Z\" fill=\"#000000\" fill-rule=\"evenodd\" fill-opacity=\"1\" /><path clip-path=\"url(#clip370)\" d=\"M108.746 339.606 Q105.413 339.606 103.492 341.389 Q101.594 343.171 101.594 346.296 Q101.594 349.421 103.492 351.204 Q105.413 352.986 108.746 352.986 Q112.08 352.986 114.001 351.204 Q115.922 349.398 115.922 346.296 Q115.922 343.171 114.001 341.389 Q112.103 339.606 108.746 339.606 M104.071 337.616 Q101.061 336.875 99.3715 334.815 Q97.7048 332.755 97.7048 329.792 Q97.7048 325.648 100.645 323.241 Q103.608 320.833 108.746 320.833 Q113.908 320.833 116.848 323.241 Q119.788 325.648 119.788 329.792 Q119.788 332.755 118.098 334.815 Q116.432 336.875 113.445 337.616 Q116.825 338.403 118.7 340.694 Q120.598 342.986 120.598 346.296 Q120.598 351.319 117.52 354.005 Q114.464 356.69 108.746 356.69 Q103.029 356.69 99.9502 354.005 Q96.8947 351.319 96.8947 346.296 Q96.8947 342.986 98.7928 340.694 Q100.691 338.403 104.071 337.616 M102.358 330.232 Q102.358 332.917 104.024 334.421 Q105.714 335.926 108.746 335.926 Q111.756 335.926 113.445 334.421 Q115.158 332.917 115.158 330.232 Q115.158 327.546 113.445 326.042 Q111.756 324.537 108.746 324.537 Q105.714 324.537 104.024 326.042 Q102.358 327.546 102.358 330.232 Z\" fill=\"#000000\" fill-rule=\"evenodd\" fill-opacity=\"1\" /><path clip-path=\"url(#clip370)\" d=\"M54.2328 62.547 L61.8717 62.547 L61.8717 36.1814 L53.5616 37.8481 L53.5616 33.5888 L61.8254 31.9222 L66.5013 31.9222 L66.5013 62.547 L74.1402 62.547 L74.1402 66.4822 L54.2328 66.4822 L54.2328 62.547 Z\" fill=\"#000000\" fill-rule=\"evenodd\" fill-opacity=\"1\" /><path clip-path=\"url(#clip370)\" d=\"M83.5845 60.6026 L88.4688 60.6026 L88.4688 66.4822 L83.5845 66.4822 L83.5845 60.6026 Z\" fill=\"#000000\" fill-rule=\"evenodd\" fill-opacity=\"1\" /><path clip-path=\"url(#clip370)\" d=\"M108.654 35.0009 Q105.043 35.0009 103.214 38.5657 Q101.409 42.1073 101.409 49.2369 Q101.409 56.3433 103.214 59.9081 Q105.043 63.4498 108.654 63.4498 Q112.288 63.4498 114.094 59.9081 Q115.922 56.3433 115.922 49.2369 Q115.922 42.1073 114.094 38.5657 Q112.288 35.0009 108.654 35.0009 M108.654 31.2972 Q114.464 31.2972 117.52 35.9036 Q120.598 40.4869 120.598 49.2369 Q120.598 57.9637 117.52 62.5702 Q114.464 67.1535 108.654 67.1535 Q102.844 67.1535 99.765 62.5702 Q96.7095 57.9637 96.7095 49.2369 Q96.7095 40.4869 99.765 35.9036 Q102.844 31.2972 108.654 31.2972 Z\" fill=\"#000000\" fill-rule=\"evenodd\" fill-opacity=\"1\" /><polyline clip-path=\"url(#clip372)\" style=\"stroke:#009af9; stroke-linecap:butt; stroke-linejoin:round; stroke-width:4; stroke-opacity:1; fill:none\" points=\"\n",
       "  218.754,304.504 327.798,178.977 436.843,1258.64 545.887,1240.17 654.932,1093.15 763.976,1202.31 873.021,1435.64 982.066,1398.05 1091.11,973.071 1200.15,87.9763 \n",
       "  1309.2,648.815 1418.24,716.164 1527.29,1120.43 1636.33,179.426 1745.38,1255.07 1854.42,548.003 1963.47,663.182 2072.51,239.893 2181.56,95.8181 2290.6,385.512 \n",
       "  \n",
       "  \"/>\n",
       "<polyline clip-path=\"url(#clip372)\" style=\"stroke:#e26f46; stroke-linecap:butt; stroke-linejoin:round; stroke-width:4; stroke-opacity:1; fill:none\" points=\"\n",
       "  218.754,817.481 327.798,1406.59 436.843,985.665 545.887,385.641 654.932,1434.43 763.976,1108.93 873.021,1400.11 982.066,1270.12 1091.11,620.607 1200.15,1300.37 \n",
       "  1309.2,283.556 1418.24,172.672 1527.29,1062.47 1636.33,450.427 1745.38,1323.66 1854.42,386.411 1963.47,335.954 2072.51,1445.72 2181.56,795.249 2290.6,195.13 \n",
       "  \n",
       "  \"/>\n",
       "<path clip-path=\"url(#clip370)\" d=\"\n",
       "M1791 250.738 L2279.55 250.738 L2279.55 95.2176 L1791 95.2176  Z\n",
       "  \" fill=\"#ffffff\" fill-rule=\"evenodd\" fill-opacity=\"1\"/>\n",
       "<polyline clip-path=\"url(#clip370)\" style=\"stroke:#000000; stroke-linecap:butt; stroke-linejoin:round; stroke-width:4; stroke-opacity:1; fill:none\" points=\"\n",
       "  1791,250.738 2279.55,250.738 2279.55,95.2176 1791,95.2176 1791,250.738 \n",
       "  \"/>\n",
       "<polyline clip-path=\"url(#clip370)\" style=\"stroke:#009af9; stroke-linecap:butt; stroke-linejoin:round; stroke-width:4; stroke-opacity:1; fill:none\" points=\"\n",
       "  1815.4,147.058 1961.81,147.058 \n",
       "  \"/>\n",
       "<path clip-path=\"url(#clip370)\" d=\"M2005.12 142.347 L2005.12 128.319 L2009.38 128.319 L2009.38 164.338 L2005.12 164.338 L2005.12 160.449 Q2003.78 162.763 2001.72 163.898 Q1999.68 165.009 1996.81 165.009 Q1992.11 165.009 1989.15 161.259 Q1986.21 157.509 1986.21 151.398 Q1986.21 145.287 1989.15 141.537 Q1992.11 137.787 1996.81 137.787 Q1999.68 137.787 2001.72 138.921 Q2003.78 140.032 2005.12 142.347 M1990.61 151.398 Q1990.61 156.097 1992.53 158.782 Q1994.48 161.444 1997.85 161.444 Q2001.23 161.444 2003.18 158.782 Q2005.12 156.097 2005.12 151.398 Q2005.12 146.699 2003.18 144.037 Q2001.23 141.352 1997.85 141.352 Q1994.48 141.352 1992.53 144.037 Q1990.61 146.699 1990.61 151.398 Z\" fill=\"#000000\" fill-rule=\"evenodd\" fill-opacity=\"1\" /><path clip-path=\"url(#clip370)\" d=\"M2029.94 151.305 Q2024.78 151.305 2022.79 152.486 Q2020.79 153.666 2020.79 156.514 Q2020.79 158.782 2022.28 160.125 Q2023.78 161.444 2026.35 161.444 Q2029.89 161.444 2032.02 158.944 Q2034.17 156.421 2034.17 152.254 L2034.17 151.305 L2029.94 151.305 M2038.43 149.546 L2038.43 164.338 L2034.17 164.338 L2034.17 160.402 Q2032.72 162.763 2030.54 163.898 Q2028.36 165.009 2025.22 165.009 Q2021.23 165.009 2018.87 162.787 Q2016.54 160.541 2016.54 156.791 Q2016.54 152.416 2019.45 150.194 Q2022.39 147.972 2028.2 147.972 L2034.17 147.972 L2034.17 147.555 Q2034.17 144.615 2032.23 143.018 Q2030.31 141.398 2026.81 141.398 Q2024.59 141.398 2022.48 141.93 Q2020.38 142.463 2018.43 143.527 L2018.43 139.592 Q2020.77 138.69 2022.97 138.25 Q2025.17 137.787 2027.25 137.787 Q2032.88 137.787 2035.66 140.703 Q2038.43 143.62 2038.43 149.546 Z\" fill=\"#000000\" fill-rule=\"evenodd\" fill-opacity=\"1\" /><path clip-path=\"url(#clip370)\" d=\"M2051.42 131.051 L2051.42 138.412 L2060.19 138.412 L2060.19 141.722 L2051.42 141.722 L2051.42 155.796 Q2051.42 158.967 2052.28 159.87 Q2053.16 160.773 2055.82 160.773 L2060.19 160.773 L2060.19 164.338 L2055.82 164.338 Q2050.89 164.338 2049.01 162.509 Q2047.14 160.657 2047.14 155.796 L2047.14 141.722 L2044.01 141.722 L2044.01 138.412 L2047.14 138.412 L2047.14 131.051 L2051.42 131.051 Z\" fill=\"#000000\" fill-rule=\"evenodd\" fill-opacity=\"1\" /><path clip-path=\"url(#clip370)\" d=\"M2077.58 151.305 Q2072.41 151.305 2070.42 152.486 Q2068.43 153.666 2068.43 156.514 Q2068.43 158.782 2069.91 160.125 Q2071.42 161.444 2073.99 161.444 Q2077.53 161.444 2079.66 158.944 Q2081.81 156.421 2081.81 152.254 L2081.81 151.305 L2077.58 151.305 M2086.07 149.546 L2086.07 164.338 L2081.81 164.338 L2081.81 160.402 Q2080.35 162.763 2078.18 163.898 Q2076 165.009 2072.85 165.009 Q2068.87 165.009 2066.51 162.787 Q2064.17 160.541 2064.17 156.791 Q2064.17 152.416 2067.09 150.194 Q2070.03 147.972 2075.84 147.972 L2081.81 147.972 L2081.81 147.555 Q2081.81 144.615 2079.87 143.018 Q2077.95 141.398 2074.45 141.398 Q2072.23 141.398 2070.12 141.93 Q2068.02 142.463 2066.07 143.527 L2066.07 139.592 Q2068.41 138.69 2070.61 138.25 Q2072.81 137.787 2074.89 137.787 Q2080.52 137.787 2083.29 140.703 Q2086.07 143.62 2086.07 149.546 Z\" fill=\"#000000\" fill-rule=\"evenodd\" fill-opacity=\"1\" /><path clip-path=\"url(#clip370)\" d=\"M2096.26 160.402 L2103.9 160.402 L2103.9 134.037 L2095.59 135.703 L2095.59 131.444 L2103.85 129.778 L2108.53 129.778 L2108.53 160.402 L2116.16 160.402 L2116.16 164.338 L2096.26 164.338 L2096.26 160.402 Z\" fill=\"#000000\" fill-rule=\"evenodd\" fill-opacity=\"1\" /><path clip-path=\"url(#clip370)\" d=\"M2125.01 128.319 L2129.27 128.319 L2129.27 164.338 L2125.01 164.338 L2125.01 128.319 Z\" fill=\"#000000\" fill-rule=\"evenodd\" fill-opacity=\"1\" /><path clip-path=\"url(#clip370)\" d=\"M2149.96 151.305 Q2144.8 151.305 2142.81 152.486 Q2140.82 153.666 2140.82 156.514 Q2140.82 158.782 2142.3 160.125 Q2143.8 161.444 2146.37 161.444 Q2149.91 161.444 2152.04 158.944 Q2154.2 156.421 2154.2 152.254 L2154.2 151.305 L2149.96 151.305 M2158.46 149.546 L2158.46 164.338 L2154.2 164.338 L2154.2 160.402 Q2152.74 162.763 2150.56 163.898 Q2148.39 165.009 2145.24 165.009 Q2141.26 165.009 2138.9 162.787 Q2136.56 160.541 2136.56 156.791 Q2136.56 152.416 2139.47 150.194 Q2142.41 147.972 2148.22 147.972 L2154.2 147.972 L2154.2 147.555 Q2154.2 144.615 2152.25 143.018 Q2150.33 141.398 2146.84 141.398 Q2144.61 141.398 2142.51 141.93 Q2140.4 142.463 2138.46 143.527 L2138.46 139.592 Q2140.79 138.69 2142.99 138.25 Q2145.19 137.787 2147.28 137.787 Q2152.9 137.787 2155.68 140.703 Q2158.46 143.62 2158.46 149.546 Z\" fill=\"#000000\" fill-rule=\"evenodd\" fill-opacity=\"1\" /><path clip-path=\"url(#clip370)\" d=\"M2185.84 151.398 Q2185.84 146.699 2183.9 144.037 Q2181.97 141.352 2178.59 141.352 Q2175.22 141.352 2173.27 144.037 Q2171.35 146.699 2171.35 151.398 Q2171.35 156.097 2173.27 158.782 Q2175.22 161.444 2178.59 161.444 Q2181.97 161.444 2183.9 158.782 Q2185.84 156.097 2185.84 151.398 M2171.35 142.347 Q2172.69 140.032 2174.73 138.921 Q2176.79 137.787 2179.64 137.787 Q2184.36 137.787 2187.3 141.537 Q2190.26 145.287 2190.26 151.398 Q2190.26 157.509 2187.3 161.259 Q2184.36 165.009 2179.64 165.009 Q2176.79 165.009 2174.73 163.898 Q2172.69 162.763 2171.35 160.449 L2171.35 164.338 L2167.07 164.338 L2167.07 128.319 L2171.35 128.319 L2171.35 142.347 Z\" fill=\"#000000\" fill-rule=\"evenodd\" fill-opacity=\"1\" /><path clip-path=\"url(#clip370)\" d=\"M2219.5 150.31 L2219.5 152.393 L2199.91 152.393 Q2200.19 156.791 2202.55 159.106 Q2204.94 161.398 2209.17 161.398 Q2211.63 161.398 2213.92 160.796 Q2216.23 160.194 2218.5 158.99 L2218.5 163.018 Q2216.21 163.99 2213.8 164.5 Q2211.4 165.009 2208.92 165.009 Q2202.71 165.009 2199.08 161.398 Q2195.47 157.787 2195.47 151.629 Q2195.47 145.264 2198.9 141.537 Q2202.34 137.787 2208.18 137.787 Q2213.41 137.787 2216.44 141.166 Q2219.5 144.523 2219.5 150.31 M2215.24 149.06 Q2215.19 145.565 2213.27 143.481 Q2211.37 141.398 2208.22 141.398 Q2204.66 141.398 2202.51 143.412 Q2200.38 145.426 2200.05 149.083 L2215.24 149.06 Z\" fill=\"#000000\" fill-rule=\"evenodd\" fill-opacity=\"1\" /><path clip-path=\"url(#clip370)\" d=\"M2226.49 128.319 L2230.75 128.319 L2230.75 164.338 L2226.49 164.338 L2226.49 128.319 Z\" fill=\"#000000\" fill-rule=\"evenodd\" fill-opacity=\"1\" /><polyline clip-path=\"url(#clip370)\" style=\"stroke:#e26f46; stroke-linecap:butt; stroke-linejoin:round; stroke-width:4; stroke-opacity:1; fill:none\" points=\"\n",
       "  1815.4,198.898 1961.81,198.898 \n",
       "  \"/>\n",
       "<path clip-path=\"url(#clip370)\" d=\"M2005.12 194.187 L2005.12 180.159 L2009.38 180.159 L2009.38 216.178 L2005.12 216.178 L2005.12 212.289 Q2003.78 214.603 2001.72 215.738 Q1999.68 216.849 1996.81 216.849 Q1992.11 216.849 1989.15 213.099 Q1986.21 209.349 1986.21 203.238 Q1986.21 197.127 1989.15 193.377 Q1992.11 189.627 1996.81 189.627 Q1999.68 189.627 2001.72 190.761 Q2003.78 191.872 2005.12 194.187 M1990.61 203.238 Q1990.61 207.937 1992.53 210.622 Q1994.48 213.284 1997.85 213.284 Q2001.23 213.284 2003.18 210.622 Q2005.12 207.937 2005.12 203.238 Q2005.12 198.539 2003.18 195.877 Q2001.23 193.192 1997.85 193.192 Q1994.48 193.192 1992.53 195.877 Q1990.61 198.539 1990.61 203.238 Z\" fill=\"#000000\" fill-rule=\"evenodd\" fill-opacity=\"1\" /><path clip-path=\"url(#clip370)\" d=\"M2029.94 203.145 Q2024.78 203.145 2022.79 204.326 Q2020.79 205.506 2020.79 208.354 Q2020.79 210.622 2022.28 211.965 Q2023.78 213.284 2026.35 213.284 Q2029.89 213.284 2032.02 210.784 Q2034.17 208.261 2034.17 204.094 L2034.17 203.145 L2029.94 203.145 M2038.43 201.386 L2038.43 216.178 L2034.17 216.178 L2034.17 212.242 Q2032.72 214.603 2030.54 215.738 Q2028.36 216.849 2025.22 216.849 Q2021.23 216.849 2018.87 214.627 Q2016.54 212.381 2016.54 208.631 Q2016.54 204.256 2019.45 202.034 Q2022.39 199.812 2028.2 199.812 L2034.17 199.812 L2034.17 199.395 Q2034.17 196.455 2032.23 194.858 Q2030.31 193.238 2026.81 193.238 Q2024.59 193.238 2022.48 193.77 Q2020.38 194.303 2018.43 195.367 L2018.43 191.432 Q2020.77 190.53 2022.97 190.09 Q2025.17 189.627 2027.25 189.627 Q2032.88 189.627 2035.66 192.543 Q2038.43 195.46 2038.43 201.386 Z\" fill=\"#000000\" fill-rule=\"evenodd\" fill-opacity=\"1\" /><path clip-path=\"url(#clip370)\" d=\"M2051.42 182.891 L2051.42 190.252 L2060.19 190.252 L2060.19 193.562 L2051.42 193.562 L2051.42 207.636 Q2051.42 210.807 2052.28 211.71 Q2053.16 212.613 2055.82 212.613 L2060.19 212.613 L2060.19 216.178 L2055.82 216.178 Q2050.89 216.178 2049.01 214.349 Q2047.14 212.497 2047.14 207.636 L2047.14 193.562 L2044.01 193.562 L2044.01 190.252 L2047.14 190.252 L2047.14 182.891 L2051.42 182.891 Z\" fill=\"#000000\" fill-rule=\"evenodd\" fill-opacity=\"1\" /><path clip-path=\"url(#clip370)\" d=\"M2077.58 203.145 Q2072.41 203.145 2070.42 204.326 Q2068.43 205.506 2068.43 208.354 Q2068.43 210.622 2069.91 211.965 Q2071.42 213.284 2073.99 213.284 Q2077.53 213.284 2079.66 210.784 Q2081.81 208.261 2081.81 204.094 L2081.81 203.145 L2077.58 203.145 M2086.07 201.386 L2086.07 216.178 L2081.81 216.178 L2081.81 212.242 Q2080.35 214.603 2078.18 215.738 Q2076 216.849 2072.85 216.849 Q2068.87 216.849 2066.51 214.627 Q2064.17 212.381 2064.17 208.631 Q2064.17 204.256 2067.09 202.034 Q2070.03 199.812 2075.84 199.812 L2081.81 199.812 L2081.81 199.395 Q2081.81 196.455 2079.87 194.858 Q2077.95 193.238 2074.45 193.238 Q2072.23 193.238 2070.12 193.77 Q2068.02 194.303 2066.07 195.367 L2066.07 191.432 Q2068.41 190.53 2070.61 190.09 Q2072.81 189.627 2074.89 189.627 Q2080.52 189.627 2083.29 192.543 Q2086.07 195.46 2086.07 201.386 Z\" fill=\"#000000\" fill-rule=\"evenodd\" fill-opacity=\"1\" /><path clip-path=\"url(#clip370)\" d=\"M2099.47 212.242 L2115.79 212.242 L2115.79 216.178 L2093.85 216.178 L2093.85 212.242 Q2096.51 209.488 2101.1 204.858 Q2105.7 200.205 2106.88 198.863 Q2109.13 196.34 2110.01 194.604 Q2110.91 192.844 2110.91 191.155 Q2110.91 188.4 2108.97 186.664 Q2107.04 184.928 2103.94 184.928 Q2101.74 184.928 2099.29 185.692 Q2096.86 186.455 2094.08 188.006 L2094.08 183.284 Q2096.91 182.15 2099.36 181.571 Q2101.81 180.993 2103.85 180.993 Q2109.22 180.993 2112.41 183.678 Q2115.61 186.363 2115.61 190.854 Q2115.61 192.983 2114.8 194.905 Q2114.01 196.803 2111.91 199.395 Q2111.33 200.067 2108.22 203.284 Q2105.12 206.479 2099.47 212.242 Z\" fill=\"#000000\" fill-rule=\"evenodd\" fill-opacity=\"1\" /><path clip-path=\"url(#clip370)\" d=\"M2125.01 180.159 L2129.27 180.159 L2129.27 216.178 L2125.01 216.178 L2125.01 180.159 Z\" fill=\"#000000\" fill-rule=\"evenodd\" fill-opacity=\"1\" /><path clip-path=\"url(#clip370)\" d=\"M2149.96 203.145 Q2144.8 203.145 2142.81 204.326 Q2140.82 205.506 2140.82 208.354 Q2140.82 210.622 2142.3 211.965 Q2143.8 213.284 2146.37 213.284 Q2149.91 213.284 2152.04 210.784 Q2154.2 208.261 2154.2 204.094 L2154.2 203.145 L2149.96 203.145 M2158.46 201.386 L2158.46 216.178 L2154.2 216.178 L2154.2 212.242 Q2152.74 214.603 2150.56 215.738 Q2148.39 216.849 2145.24 216.849 Q2141.26 216.849 2138.9 214.627 Q2136.56 212.381 2136.56 208.631 Q2136.56 204.256 2139.47 202.034 Q2142.41 199.812 2148.22 199.812 L2154.2 199.812 L2154.2 199.395 Q2154.2 196.455 2152.25 194.858 Q2150.33 193.238 2146.84 193.238 Q2144.61 193.238 2142.51 193.77 Q2140.4 194.303 2138.46 195.367 L2138.46 191.432 Q2140.79 190.53 2142.99 190.09 Q2145.19 189.627 2147.28 189.627 Q2152.9 189.627 2155.68 192.543 Q2158.46 195.46 2158.46 201.386 Z\" fill=\"#000000\" fill-rule=\"evenodd\" fill-opacity=\"1\" /><path clip-path=\"url(#clip370)\" d=\"M2185.84 203.238 Q2185.84 198.539 2183.9 195.877 Q2181.97 193.192 2178.59 193.192 Q2175.22 193.192 2173.27 195.877 Q2171.35 198.539 2171.35 203.238 Q2171.35 207.937 2173.27 210.622 Q2175.22 213.284 2178.59 213.284 Q2181.97 213.284 2183.9 210.622 Q2185.84 207.937 2185.84 203.238 M2171.35 194.187 Q2172.69 191.872 2174.73 190.761 Q2176.79 189.627 2179.64 189.627 Q2184.36 189.627 2187.3 193.377 Q2190.26 197.127 2190.26 203.238 Q2190.26 209.349 2187.3 213.099 Q2184.36 216.849 2179.64 216.849 Q2176.79 216.849 2174.73 215.738 Q2172.69 214.603 2171.35 212.289 L2171.35 216.178 L2167.07 216.178 L2167.07 180.159 L2171.35 180.159 L2171.35 194.187 Z\" fill=\"#000000\" fill-rule=\"evenodd\" fill-opacity=\"1\" /><path clip-path=\"url(#clip370)\" d=\"M2219.5 202.15 L2219.5 204.233 L2199.91 204.233 Q2200.19 208.631 2202.55 210.946 Q2204.94 213.238 2209.17 213.238 Q2211.63 213.238 2213.92 212.636 Q2216.23 212.034 2218.5 210.83 L2218.5 214.858 Q2216.21 215.83 2213.8 216.34 Q2211.4 216.849 2208.92 216.849 Q2202.71 216.849 2199.08 213.238 Q2195.47 209.627 2195.47 203.469 Q2195.47 197.104 2198.9 193.377 Q2202.34 189.627 2208.18 189.627 Q2213.41 189.627 2216.44 193.006 Q2219.5 196.363 2219.5 202.15 M2215.24 200.9 Q2215.19 197.405 2213.27 195.321 Q2211.37 193.238 2208.22 193.238 Q2204.66 193.238 2202.51 195.252 Q2200.38 197.266 2200.05 200.923 L2215.24 200.9 Z\" fill=\"#000000\" fill-rule=\"evenodd\" fill-opacity=\"1\" /><path clip-path=\"url(#clip370)\" d=\"M2226.49 180.159 L2230.75 180.159 L2230.75 216.178 L2226.49 216.178 L2226.49 180.159 Z\" fill=\"#000000\" fill-rule=\"evenodd\" fill-opacity=\"1\" /></svg>\n"
      ]
     },
     "execution_count": 90,
     "metadata": {},
     "output_type": "execute_result"
    }
   ],
   "source": [
    "plot(1:20,data1,label=\"data1label\")\n",
    "plot!(1:20,data2,label=\"data2label\")  #notice the !"
   ]
  },
  {
   "cell_type": "markdown",
   "metadata": {},
   "source": [
    "# https://statisticswithjulia.org/gallery.html"
   ]
  },
  {
   "cell_type": "code",
   "execution_count": 99,
   "metadata": {},
   "outputs": [
    {
     "data": {
      "image/svg+xml": [
       "<?xml version=\"1.0\" encoding=\"utf-8\"?>\n",
       "<svg xmlns=\"http://www.w3.org/2000/svg\" xmlns:xlink=\"http://www.w3.org/1999/xlink\" width=\"600\" height=\"400\" viewBox=\"0 0 2400 1600\">\n",
       "<defs>\n",
       "  <clipPath id=\"clip690\">\n",
       "    <rect x=\"0\" y=\"0\" width=\"2400\" height=\"1600\"/>\n",
       "  </clipPath>\n",
       "</defs>\n",
       "<path clip-path=\"url(#clip690)\" d=\"\n",
       "M0 1600 L2400 1600 L2400 0 L0 0  Z\n",
       "  \" fill=\"#ffffff\" fill-rule=\"evenodd\" fill-opacity=\"1\"/>\n",
       "<defs>\n",
       "  <clipPath id=\"clip691\">\n",
       "    <rect x=\"480\" y=\"0\" width=\"1681\" height=\"1600\"/>\n",
       "  </clipPath>\n",
       "</defs>\n",
       "<path clip-path=\"url(#clip690)\" d=\"\n",
       "M156.598 1486.45 L1152.76 1486.45 L1152.76 47.2441 L156.598 47.2441  Z\n",
       "  \" fill=\"#ffffff\" fill-rule=\"evenodd\" fill-opacity=\"1\"/>\n",
       "<defs>\n",
       "  <clipPath id=\"clip692\">\n",
       "    <rect x=\"156\" y=\"47\" width=\"997\" height=\"1440\"/>\n",
       "  </clipPath>\n",
       "</defs>\n",
       "<polyline clip-path=\"url(#clip692)\" style=\"stroke:#000000; stroke-linecap:butt; stroke-linejoin:round; stroke-width:2; stroke-opacity:0.1; fill:none\" points=\"\n",
       "  382.638,1486.45 382.638,47.2441 \n",
       "  \"/>\n",
       "<polyline clip-path=\"url(#clip692)\" style=\"stroke:#000000; stroke-linecap:butt; stroke-linejoin:round; stroke-width:2; stroke-opacity:0.1; fill:none\" points=\"\n",
       "  629.946,1486.45 629.946,47.2441 \n",
       "  \"/>\n",
       "<polyline clip-path=\"url(#clip692)\" style=\"stroke:#000000; stroke-linecap:butt; stroke-linejoin:round; stroke-width:2; stroke-opacity:0.1; fill:none\" points=\"\n",
       "  877.255,1486.45 877.255,47.2441 \n",
       "  \"/>\n",
       "<polyline clip-path=\"url(#clip692)\" style=\"stroke:#000000; stroke-linecap:butt; stroke-linejoin:round; stroke-width:2; stroke-opacity:0.1; fill:none\" points=\"\n",
       "  1124.56,1486.45 1124.56,47.2441 \n",
       "  \"/>\n",
       "<polyline clip-path=\"url(#clip690)\" style=\"stroke:#000000; stroke-linecap:butt; stroke-linejoin:round; stroke-width:4; stroke-opacity:1; fill:none\" points=\"\n",
       "  156.598,1486.45 1152.76,1486.45 \n",
       "  \"/>\n",
       "<polyline clip-path=\"url(#clip690)\" style=\"stroke:#000000; stroke-linecap:butt; stroke-linejoin:round; stroke-width:4; stroke-opacity:1; fill:none\" points=\"\n",
       "  382.638,1486.45 382.638,1467.55 \n",
       "  \"/>\n",
       "<polyline clip-path=\"url(#clip690)\" style=\"stroke:#000000; stroke-linecap:butt; stroke-linejoin:round; stroke-width:4; stroke-opacity:1; fill:none\" points=\"\n",
       "  629.946,1486.45 629.946,1467.55 \n",
       "  \"/>\n",
       "<polyline clip-path=\"url(#clip690)\" style=\"stroke:#000000; stroke-linecap:butt; stroke-linejoin:round; stroke-width:4; stroke-opacity:1; fill:none\" points=\"\n",
       "  877.255,1486.45 877.255,1467.55 \n",
       "  \"/>\n",
       "<polyline clip-path=\"url(#clip690)\" style=\"stroke:#000000; stroke-linecap:butt; stroke-linejoin:round; stroke-width:4; stroke-opacity:1; fill:none\" points=\"\n",
       "  1124.56,1486.45 1124.56,1467.55 \n",
       "  \"/>\n",
       "<path clip-path=\"url(#clip690)\" d=\"M372.916 1512.56 L391.272 1512.56 L391.272 1516.5 L377.198 1516.5 L377.198 1524.97 Q378.217 1524.62 379.235 1524.46 Q380.254 1524.27 381.272 1524.27 Q387.059 1524.27 390.439 1527.44 Q393.818 1530.62 393.818 1536.03 Q393.818 1541.61 390.346 1544.71 Q386.874 1547.79 380.555 1547.79 Q378.379 1547.79 376.11 1547.42 Q373.865 1547.05 371.457 1546.31 L371.457 1541.61 Q373.541 1542.74 375.763 1543.3 Q377.985 1543.86 380.462 1543.86 Q384.467 1543.86 386.805 1541.75 Q389.143 1539.64 389.143 1536.03 Q389.143 1532.42 386.805 1530.31 Q384.467 1528.21 380.462 1528.21 Q378.587 1528.21 376.712 1528.62 Q374.86 1529.04 372.916 1529.92 L372.916 1512.56 Z\" fill=\"#000000\" fill-rule=\"evenodd\" fill-opacity=\"1\" /><path clip-path=\"url(#clip690)\" d=\"M604.634 1543.18 L612.273 1543.18 L612.273 1516.82 L603.963 1518.49 L603.963 1514.23 L612.226 1512.56 L616.902 1512.56 L616.902 1543.18 L624.541 1543.18 L624.541 1547.12 L604.634 1547.12 L604.634 1543.18 Z\" fill=\"#000000\" fill-rule=\"evenodd\" fill-opacity=\"1\" /><path clip-path=\"url(#clip690)\" d=\"M643.986 1515.64 Q640.374 1515.64 638.546 1519.2 Q636.74 1522.75 636.74 1529.87 Q636.74 1536.98 638.546 1540.55 Q640.374 1544.09 643.986 1544.09 Q647.62 1544.09 649.425 1540.55 Q651.254 1536.98 651.254 1529.87 Q651.254 1522.75 649.425 1519.2 Q647.62 1515.64 643.986 1515.64 M643.986 1511.93 Q649.796 1511.93 652.851 1516.54 Q655.93 1521.12 655.93 1529.87 Q655.93 1538.6 652.851 1543.21 Q649.796 1547.79 643.986 1547.79 Q638.175 1547.79 635.097 1543.21 Q632.041 1538.6 632.041 1529.87 Q632.041 1521.12 635.097 1516.54 Q638.175 1511.93 643.986 1511.93 Z\" fill=\"#000000\" fill-rule=\"evenodd\" fill-opacity=\"1\" /><path clip-path=\"url(#clip690)\" d=\"M852.44 1543.18 L860.079 1543.18 L860.079 1516.82 L851.769 1518.49 L851.769 1514.23 L860.032 1512.56 L864.708 1512.56 L864.708 1543.18 L872.347 1543.18 L872.347 1547.12 L852.44 1547.12 L852.44 1543.18 Z\" fill=\"#000000\" fill-rule=\"evenodd\" fill-opacity=\"1\" /><path clip-path=\"url(#clip690)\" d=\"M881.838 1512.56 L900.194 1512.56 L900.194 1516.5 L886.12 1516.5 L886.12 1524.97 Q887.139 1524.62 888.157 1524.46 Q889.176 1524.27 890.194 1524.27 Q895.981 1524.27 899.361 1527.44 Q902.74 1530.62 902.74 1536.03 Q902.74 1541.61 899.268 1544.71 Q895.796 1547.79 889.477 1547.79 Q887.301 1547.79 885.032 1547.42 Q882.787 1547.05 880.379 1546.31 L880.379 1541.61 Q882.463 1542.74 884.685 1543.3 Q886.907 1543.86 889.384 1543.86 Q893.389 1543.86 895.727 1541.75 Q898.065 1539.64 898.065 1536.03 Q898.065 1532.42 895.727 1530.31 Q893.389 1528.21 889.384 1528.21 Q887.509 1528.21 885.634 1528.62 Q883.782 1529.04 881.838 1529.92 L881.838 1512.56 Z\" fill=\"#000000\" fill-rule=\"evenodd\" fill-opacity=\"1\" /><path clip-path=\"url(#clip690)\" d=\"M1103.34 1543.18 L1119.66 1543.18 L1119.66 1547.12 L1097.71 1547.12 L1097.71 1543.18 Q1100.37 1540.43 1104.96 1535.8 Q1109.56 1531.15 1110.74 1529.81 Q1112.99 1527.28 1113.87 1525.55 Q1114.77 1523.79 1114.77 1522.1 Q1114.77 1519.34 1112.83 1517.61 Q1110.91 1515.87 1107.8 1515.87 Q1105.6 1515.87 1103.15 1516.63 Q1100.72 1517.4 1097.94 1518.95 L1097.94 1514.23 Q1100.77 1513.09 1103.22 1512.51 Q1105.67 1511.93 1107.71 1511.93 Q1113.08 1511.93 1116.28 1514.62 Q1119.47 1517.31 1119.47 1521.8 Q1119.47 1523.93 1118.66 1525.85 Q1117.87 1527.74 1115.77 1530.34 Q1115.19 1531.01 1112.09 1534.23 Q1108.98 1537.42 1103.34 1543.18 Z\" fill=\"#000000\" fill-rule=\"evenodd\" fill-opacity=\"1\" /><path clip-path=\"url(#clip690)\" d=\"M1139.47 1515.64 Q1135.86 1515.64 1134.03 1519.2 Q1132.22 1522.75 1132.22 1529.87 Q1132.22 1536.98 1134.03 1540.55 Q1135.86 1544.09 1139.47 1544.09 Q1143.1 1544.09 1144.91 1540.55 Q1146.74 1536.98 1146.74 1529.87 Q1146.74 1522.75 1144.91 1519.2 Q1143.1 1515.64 1139.47 1515.64 M1139.47 1511.93 Q1145.28 1511.93 1148.34 1516.54 Q1151.41 1521.12 1151.41 1529.87 Q1151.41 1538.6 1148.34 1543.21 Q1145.28 1547.79 1139.47 1547.79 Q1133.66 1547.79 1130.58 1543.21 Q1127.53 1538.6 1127.53 1529.87 Q1127.53 1521.12 1130.58 1516.54 Q1133.66 1511.93 1139.47 1511.93 Z\" fill=\"#000000\" fill-rule=\"evenodd\" fill-opacity=\"1\" /><polyline clip-path=\"url(#clip692)\" style=\"stroke:#000000; stroke-linecap:butt; stroke-linejoin:round; stroke-width:2; stroke-opacity:0.1; fill:none\" points=\"\n",
       "  156.598,1215.71 1152.76,1215.71 \n",
       "  \"/>\n",
       "<polyline clip-path=\"url(#clip692)\" style=\"stroke:#000000; stroke-linecap:butt; stroke-linejoin:round; stroke-width:2; stroke-opacity:0.1; fill:none\" points=\"\n",
       "  156.598,924.013 1152.76,924.013 \n",
       "  \"/>\n",
       "<polyline clip-path=\"url(#clip692)\" style=\"stroke:#000000; stroke-linecap:butt; stroke-linejoin:round; stroke-width:2; stroke-opacity:0.1; fill:none\" points=\"\n",
       "  156.598,632.313 1152.76,632.313 \n",
       "  \"/>\n",
       "<polyline clip-path=\"url(#clip692)\" style=\"stroke:#000000; stroke-linecap:butt; stroke-linejoin:round; stroke-width:2; stroke-opacity:0.1; fill:none\" points=\"\n",
       "  156.598,340.612 1152.76,340.612 \n",
       "  \"/>\n",
       "<polyline clip-path=\"url(#clip692)\" style=\"stroke:#000000; stroke-linecap:butt; stroke-linejoin:round; stroke-width:2; stroke-opacity:0.1; fill:none\" points=\"\n",
       "  156.598,48.9124 1152.76,48.9124 \n",
       "  \"/>\n",
       "<polyline clip-path=\"url(#clip690)\" style=\"stroke:#000000; stroke-linecap:butt; stroke-linejoin:round; stroke-width:4; stroke-opacity:1; fill:none\" points=\"\n",
       "  156.598,1486.45 156.598,47.2441 \n",
       "  \"/>\n",
       "<polyline clip-path=\"url(#clip690)\" style=\"stroke:#000000; stroke-linecap:butt; stroke-linejoin:round; stroke-width:4; stroke-opacity:1; fill:none\" points=\"\n",
       "  156.598,1215.71 175.496,1215.71 \n",
       "  \"/>\n",
       "<polyline clip-path=\"url(#clip690)\" style=\"stroke:#000000; stroke-linecap:butt; stroke-linejoin:round; stroke-width:4; stroke-opacity:1; fill:none\" points=\"\n",
       "  156.598,924.013 175.496,924.013 \n",
       "  \"/>\n",
       "<polyline clip-path=\"url(#clip690)\" style=\"stroke:#000000; stroke-linecap:butt; stroke-linejoin:round; stroke-width:4; stroke-opacity:1; fill:none\" points=\"\n",
       "  156.598,632.313 175.496,632.313 \n",
       "  \"/>\n",
       "<polyline clip-path=\"url(#clip690)\" style=\"stroke:#000000; stroke-linecap:butt; stroke-linejoin:round; stroke-width:4; stroke-opacity:1; fill:none\" points=\"\n",
       "  156.598,340.612 175.496,340.612 \n",
       "  \"/>\n",
       "<polyline clip-path=\"url(#clip690)\" style=\"stroke:#000000; stroke-linecap:butt; stroke-linejoin:round; stroke-width:4; stroke-opacity:1; fill:none\" points=\"\n",
       "  156.598,48.9124 175.496,48.9124 \n",
       "  \"/>\n",
       "<path clip-path=\"url(#clip690)\" d=\"M65.0198 1201.51 Q61.4087 1201.51 59.58 1205.08 Q57.7745 1208.62 57.7745 1215.75 Q57.7745 1222.85 59.58 1226.42 Q61.4087 1229.96 65.0198 1229.96 Q68.6541 1229.96 70.4596 1226.42 Q72.2883 1222.85 72.2883 1215.75 Q72.2883 1208.62 70.4596 1205.08 Q68.6541 1201.51 65.0198 1201.51 M65.0198 1197.81 Q70.83 1197.81 73.8855 1202.41 Q76.9642 1207 76.9642 1215.75 Q76.9642 1224.47 73.8855 1229.08 Q70.83 1233.66 65.0198 1233.66 Q59.2097 1233.66 56.131 1229.08 Q53.0754 1224.47 53.0754 1215.75 Q53.0754 1207 56.131 1202.41 Q59.2097 1197.81 65.0198 1197.81 Z\" fill=\"#000000\" fill-rule=\"evenodd\" fill-opacity=\"1\" /><path clip-path=\"url(#clip690)\" d=\"M85.1818 1227.11 L90.066 1227.11 L90.066 1232.99 L85.1818 1232.99 L85.1818 1227.11 Z\" fill=\"#000000\" fill-rule=\"evenodd\" fill-opacity=\"1\" /><path clip-path=\"url(#clip690)\" d=\"M104.279 1229.06 L120.598 1229.06 L120.598 1232.99 L98.6539 1232.99 L98.6539 1229.06 Q101.316 1226.3 105.899 1221.67 Q110.506 1217.02 111.686 1215.68 Q113.932 1213.15 114.811 1211.42 Q115.714 1209.66 115.714 1207.97 Q115.714 1205.21 113.77 1203.48 Q111.848 1201.74 108.746 1201.74 Q106.547 1201.74 104.094 1202.51 Q101.663 1203.27 98.8854 1204.82 L98.8854 1200.1 Q101.709 1198.97 104.163 1198.39 Q106.617 1197.81 108.654 1197.81 Q114.024 1197.81 117.219 1200.49 Q120.413 1203.18 120.413 1207.67 Q120.413 1209.8 119.603 1211.72 Q118.816 1213.62 116.709 1216.21 Q116.131 1216.88 113.029 1220.1 Q109.927 1223.29 104.279 1229.06 Z\" fill=\"#000000\" fill-rule=\"evenodd\" fill-opacity=\"1\" /><path clip-path=\"url(#clip690)\" d=\"M62.9365 909.811 Q59.3254 909.811 57.4967 913.376 Q55.6912 916.918 55.6912 924.047 Q55.6912 931.154 57.4967 934.719 Q59.3254 938.26 62.9365 938.26 Q66.5707 938.26 68.3763 934.719 Q70.205 931.154 70.205 924.047 Q70.205 916.918 68.3763 913.376 Q66.5707 909.811 62.9365 909.811 M62.9365 906.108 Q68.7467 906.108 71.8022 910.714 Q74.8809 915.297 74.8809 924.047 Q74.8809 932.774 71.8022 937.381 Q68.7467 941.964 62.9365 941.964 Q57.1264 941.964 54.0477 937.381 Q50.9921 932.774 50.9921 924.047 Q50.9921 915.297 54.0477 910.714 Q57.1264 906.108 62.9365 906.108 Z\" fill=\"#000000\" fill-rule=\"evenodd\" fill-opacity=\"1\" /><path clip-path=\"url(#clip690)\" d=\"M83.0984 935.413 L87.9827 935.413 L87.9827 941.293 L83.0984 941.293 L83.0984 935.413 Z\" fill=\"#000000\" fill-rule=\"evenodd\" fill-opacity=\"1\" /><path clip-path=\"url(#clip690)\" d=\"M111.015 910.807 L99.2095 929.256 L111.015 929.256 L111.015 910.807 M109.788 906.733 L115.668 906.733 L115.668 929.256 L120.598 929.256 L120.598 933.144 L115.668 933.144 L115.668 941.293 L111.015 941.293 L111.015 933.144 L95.4132 933.144 L95.4132 928.631 L109.788 906.733 Z\" fill=\"#000000\" fill-rule=\"evenodd\" fill-opacity=\"1\" /><path clip-path=\"url(#clip690)\" d=\"M63.2606 618.111 Q59.6495 618.111 57.8208 621.676 Q56.0152 625.218 56.0152 632.347 Q56.0152 639.454 57.8208 643.018 Q59.6495 646.56 63.2606 646.56 Q66.8948 646.56 68.7004 643.018 Q70.5291 639.454 70.5291 632.347 Q70.5291 625.218 68.7004 621.676 Q66.8948 618.111 63.2606 618.111 M63.2606 614.408 Q69.0707 614.408 72.1263 619.014 Q75.205 623.597 75.205 632.347 Q75.205 641.074 72.1263 645.68 Q69.0707 650.264 63.2606 650.264 Q57.4504 650.264 54.3717 645.68 Q51.3162 641.074 51.3162 632.347 Q51.3162 623.597 54.3717 619.014 Q57.4504 614.408 63.2606 614.408 Z\" fill=\"#000000\" fill-rule=\"evenodd\" fill-opacity=\"1\" /><path clip-path=\"url(#clip690)\" d=\"M83.4225 643.713 L88.3067 643.713 L88.3067 649.593 L83.4225 649.593 L83.4225 643.713 Z\" fill=\"#000000\" fill-rule=\"evenodd\" fill-opacity=\"1\" /><path clip-path=\"url(#clip690)\" d=\"M109.071 630.449 Q105.922 630.449 104.071 632.602 Q102.242 634.755 102.242 638.505 Q102.242 642.231 104.071 644.407 Q105.922 646.56 109.071 646.56 Q112.219 646.56 114.047 644.407 Q115.899 642.231 115.899 638.505 Q115.899 634.755 114.047 632.602 Q112.219 630.449 109.071 630.449 M118.353 615.796 L118.353 620.056 Q116.594 619.222 114.788 618.782 Q113.006 618.343 111.246 618.343 Q106.617 618.343 104.163 621.468 Q101.733 624.593 101.385 630.912 Q102.751 628.898 104.811 627.833 Q106.871 626.745 109.348 626.745 Q114.557 626.745 117.566 629.917 Q120.598 633.065 120.598 638.505 Q120.598 643.829 117.45 647.046 Q114.302 650.264 109.071 650.264 Q103.075 650.264 99.9039 645.68 Q96.7326 641.074 96.7326 632.347 Q96.7326 624.153 100.621 619.292 Q104.51 614.408 111.061 614.408 Q112.82 614.408 114.603 614.755 Q116.408 615.102 118.353 615.796 Z\" fill=\"#000000\" fill-rule=\"evenodd\" fill-opacity=\"1\" /><path clip-path=\"url(#clip690)\" d=\"M63.5152 326.411 Q59.9041 326.411 58.0754 329.976 Q56.2699 333.518 56.2699 340.647 Q56.2699 347.754 58.0754 351.318 Q59.9041 354.86 63.5152 354.86 Q67.1494 354.86 68.955 351.318 Q70.7837 347.754 70.7837 340.647 Q70.7837 333.518 68.955 329.976 Q67.1494 326.411 63.5152 326.411 M63.5152 322.707 Q69.3254 322.707 72.3809 327.314 Q75.4596 331.897 75.4596 340.647 Q75.4596 349.374 72.3809 353.98 Q69.3254 358.564 63.5152 358.564 Q57.7051 358.564 54.6264 353.98 Q51.5708 349.374 51.5708 340.647 Q51.5708 331.897 54.6264 327.314 Q57.7051 322.707 63.5152 322.707 Z\" fill=\"#000000\" fill-rule=\"evenodd\" fill-opacity=\"1\" /><path clip-path=\"url(#clip690)\" d=\"M83.6771 352.013 L88.5614 352.013 L88.5614 357.892 L83.6771 357.892 L83.6771 352.013 Z\" fill=\"#000000\" fill-rule=\"evenodd\" fill-opacity=\"1\" /><path clip-path=\"url(#clip690)\" d=\"M108.746 341.481 Q105.413 341.481 103.492 343.263 Q101.594 345.045 101.594 348.17 Q101.594 351.295 103.492 353.078 Q105.413 354.86 108.746 354.86 Q112.08 354.86 114.001 353.078 Q115.922 351.272 115.922 348.17 Q115.922 345.045 114.001 343.263 Q112.103 341.481 108.746 341.481 M104.071 339.49 Q101.061 338.749 99.3715 336.689 Q97.7048 334.629 97.7048 331.666 Q97.7048 327.522 100.645 325.115 Q103.608 322.707 108.746 322.707 Q113.908 322.707 116.848 325.115 Q119.788 327.522 119.788 331.666 Q119.788 334.629 118.098 336.689 Q116.432 338.749 113.445 339.49 Q116.825 340.277 118.7 342.568 Q120.598 344.86 120.598 348.17 Q120.598 353.193 117.52 355.879 Q114.464 358.564 108.746 358.564 Q103.029 358.564 99.9502 355.879 Q96.8947 353.193 96.8947 348.17 Q96.8947 344.86 98.7928 342.568 Q100.691 340.277 104.071 339.49 M102.358 332.106 Q102.358 334.791 104.024 336.295 Q105.714 337.8 108.746 337.8 Q111.756 337.8 113.445 336.295 Q115.158 334.791 115.158 332.106 Q115.158 329.42 113.445 327.916 Q111.756 326.411 108.746 326.411 Q105.714 326.411 104.024 327.916 Q102.358 329.42 102.358 332.106 Z\" fill=\"#000000\" fill-rule=\"evenodd\" fill-opacity=\"1\" /><path clip-path=\"url(#clip690)\" d=\"M54.2328 62.2572 L61.8717 62.2572 L61.8717 35.8916 L53.5616 37.5583 L53.5616 33.2991 L61.8254 31.6324 L66.5013 31.6324 L66.5013 62.2572 L74.1402 62.2572 L74.1402 66.1924 L54.2328 66.1924 L54.2328 62.2572 Z\" fill=\"#000000\" fill-rule=\"evenodd\" fill-opacity=\"1\" /><path clip-path=\"url(#clip690)\" d=\"M83.5845 60.3128 L88.4688 60.3128 L88.4688 66.1924 L83.5845 66.1924 L83.5845 60.3128 Z\" fill=\"#000000\" fill-rule=\"evenodd\" fill-opacity=\"1\" /><path clip-path=\"url(#clip690)\" d=\"M108.654 34.7111 Q105.043 34.7111 103.214 38.2759 Q101.409 41.8175 101.409 48.9471 Q101.409 56.0536 103.214 59.6184 Q105.043 63.16 108.654 63.16 Q112.288 63.16 114.094 59.6184 Q115.922 56.0536 115.922 48.9471 Q115.922 41.8175 114.094 38.2759 Q112.288 34.7111 108.654 34.7111 M108.654 31.0074 Q114.464 31.0074 117.52 35.6139 Q120.598 40.1972 120.598 48.9471 Q120.598 57.6739 117.52 62.2804 Q114.464 66.8637 108.654 66.8637 Q102.844 66.8637 99.765 62.2804 Q96.7095 57.6739 96.7095 48.9471 Q96.7095 40.1972 99.765 35.6139 Q102.844 31.0074 108.654 31.0074 Z\" fill=\"#000000\" fill-rule=\"evenodd\" fill-opacity=\"1\" /><polyline clip-path=\"url(#clip692)\" style=\"stroke:#009af9; stroke-linecap:butt; stroke-linejoin:round; stroke-width:4; stroke-opacity:1; fill:none\" points=\"\n",
       "  184.791,306.123 234.253,179.657 283.715,1267.39 333.176,1248.78 382.638,1100.67 432.1,1210.64 481.561,1445.72 531.023,1407.84 580.485,979.686 629.946,87.9763 \n",
       "  679.408,653.006 728.87,720.859 778.331,1128.15 827.793,180.11 877.255,1263.79 926.716,551.441 976.178,667.481 1025.64,241.028 1075.1,95.8768 1124.56,387.736 \n",
       "  \n",
       "  \"/>\n",
       "<polyline clip-path=\"url(#clip692)\" style=\"stroke:#e26f46; stroke-linecap:butt; stroke-linejoin:round; stroke-width:4; stroke-opacity:1; fill:none\" points=\"\n",
       "  184.791,119.372 234.253,338.981 283.715,1326.09 333.176,1340.75 382.638,1391.38 432.1,374.633 481.561,1354.53 531.023,285.08 580.485,1238.88 629.946,1052.15 \n",
       "  679.408,1220.95 728.87,233.295 778.331,552.209 827.793,651.692 877.255,584.626 926.716,435.409 976.178,707.656 1025.64,811.879 1075.1,628.849 1124.56,353.234 \n",
       "  \n",
       "  \"/>\n",
       "<path clip-path=\"url(#clip690)\" d=\"\n",
       "M278.616 250.738 L1119.55 250.738 L1119.55 95.2176 L278.616 95.2176  Z\n",
       "  \" fill=\"#ffffff\" fill-rule=\"evenodd\" fill-opacity=\"1\"/>\n",
       "<polyline clip-path=\"url(#clip690)\" style=\"stroke:#000000; stroke-linecap:butt; stroke-linejoin:round; stroke-width:4; stroke-opacity:1; fill:none\" points=\"\n",
       "  278.616,250.738 1119.55,250.738 1119.55,95.2176 278.616,95.2176 278.616,250.738 \n",
       "  \"/>\n",
       "<polyline clip-path=\"url(#clip690)\" style=\"stroke:#009af9; stroke-linecap:butt; stroke-linejoin:round; stroke-width:4; stroke-opacity:1; fill:none\" points=\"\n",
       "  289.684,147.058 356.095,147.058 \n",
       "  \"/>\n",
       "<path clip-path=\"url(#clip690)\" d=\"M386.075 142.347 L386.075 128.319 L390.334 128.319 L390.334 164.338 L386.075 164.338 L386.075 160.449 Q384.732 162.763 382.672 163.898 Q380.635 165.009 377.765 165.009 Q373.066 165.009 370.103 161.259 Q367.163 157.509 367.163 151.398 Q367.163 145.287 370.103 141.537 Q373.066 137.787 377.765 137.787 Q380.635 137.787 382.672 138.921 Q384.732 140.032 386.075 142.347 M371.561 151.398 Q371.561 156.097 373.483 158.782 Q375.427 161.444 378.807 161.444 Q382.186 161.444 384.131 158.782 Q386.075 156.097 386.075 151.398 Q386.075 146.699 384.131 144.037 Q382.186 141.352 378.807 141.352 Q375.427 141.352 373.483 144.037 Q371.561 146.699 371.561 151.398 Z\" fill=\"#000000\" fill-rule=\"evenodd\" fill-opacity=\"1\" /><path clip-path=\"url(#clip690)\" d=\"M410.89 151.305 Q405.728 151.305 403.737 152.486 Q401.746 153.666 401.746 156.514 Q401.746 158.782 403.228 160.125 Q404.732 161.444 407.302 161.444 Q410.843 161.444 412.973 158.944 Q415.126 156.421 415.126 152.254 L415.126 151.305 L410.89 151.305 M419.385 149.546 L419.385 164.338 L415.126 164.338 L415.126 160.402 Q413.667 162.763 411.492 163.898 Q409.316 165.009 406.168 165.009 Q402.186 165.009 399.825 162.787 Q397.487 160.541 397.487 156.791 Q397.487 152.416 400.404 150.194 Q403.343 147.972 409.154 147.972 L415.126 147.972 L415.126 147.555 Q415.126 144.615 413.181 143.018 Q411.26 141.398 407.765 141.398 Q405.543 141.398 403.436 141.93 Q401.33 142.463 399.385 143.527 L399.385 139.592 Q401.723 138.69 403.922 138.25 Q406.121 137.787 408.205 137.787 Q413.83 137.787 416.607 140.703 Q419.385 143.62 419.385 149.546 Z\" fill=\"#000000\" fill-rule=\"evenodd\" fill-opacity=\"1\" /><path clip-path=\"url(#clip690)\" d=\"M432.371 131.051 L432.371 138.412 L441.144 138.412 L441.144 141.722 L432.371 141.722 L432.371 155.796 Q432.371 158.967 433.228 159.87 Q434.107 160.773 436.769 160.773 L441.144 160.773 L441.144 164.338 L436.769 164.338 Q431.839 164.338 429.964 162.509 Q428.089 160.657 428.089 155.796 L428.089 141.722 L424.964 141.722 L424.964 138.412 L428.089 138.412 L428.089 131.051 L432.371 131.051 Z\" fill=\"#000000\" fill-rule=\"evenodd\" fill-opacity=\"1\" /><path clip-path=\"url(#clip690)\" d=\"M458.528 151.305 Q453.366 151.305 451.376 152.486 Q449.385 153.666 449.385 156.514 Q449.385 158.782 450.866 160.125 Q452.371 161.444 454.94 161.444 Q458.482 161.444 460.612 158.944 Q462.764 156.421 462.764 152.254 L462.764 151.305 L458.528 151.305 M467.024 149.546 L467.024 164.338 L462.764 164.338 L462.764 160.402 Q461.306 162.763 459.13 163.898 Q456.954 165.009 453.806 165.009 Q449.825 165.009 447.464 162.787 Q445.126 160.541 445.126 156.791 Q445.126 152.416 448.042 150.194 Q450.982 147.972 456.792 147.972 L462.764 147.972 L462.764 147.555 Q462.764 144.615 460.82 143.018 Q458.899 141.398 455.403 141.398 Q453.181 141.398 451.075 141.93 Q448.968 142.463 447.024 143.527 L447.024 139.592 Q449.362 138.69 451.561 138.25 Q453.76 137.787 455.843 137.787 Q461.468 137.787 464.246 140.703 Q467.024 143.62 467.024 149.546 Z\" fill=\"#000000\" fill-rule=\"evenodd\" fill-opacity=\"1\" /><path clip-path=\"url(#clip690)\" d=\"M477.209 160.402 L484.848 160.402 L484.848 134.037 L476.538 135.703 L476.538 131.444 L484.801 129.778 L489.477 129.778 L489.477 160.402 L497.116 160.402 L497.116 164.338 L477.209 164.338 L477.209 160.402 Z\" fill=\"#000000\" fill-rule=\"evenodd\" fill-opacity=\"1\" /><polyline clip-path=\"url(#clip690)\" style=\"stroke:#e26f46; stroke-linecap:butt; stroke-linejoin:round; stroke-width:4; stroke-opacity:1; fill:none\" points=\"\n",
       "  289.684,198.898 356.095,198.898 \n",
       "  \"/>\n",
       "<path clip-path=\"url(#clip690)\" d=\"M371.445 212.289 L371.445 226.039 L367.163 226.039 L367.163 190.252 L371.445 190.252 L371.445 194.187 Q372.788 191.872 374.825 190.761 Q376.885 189.627 379.732 189.627 Q384.455 189.627 387.394 193.377 Q390.357 197.127 390.357 203.238 Q390.357 209.349 387.394 213.099 Q384.455 216.849 379.732 216.849 Q376.885 216.849 374.825 215.738 Q372.788 214.603 371.445 212.289 M385.936 203.238 Q385.936 198.539 383.992 195.877 Q382.07 193.192 378.691 193.192 Q375.311 193.192 373.367 195.877 Q371.445 198.539 371.445 203.238 Q371.445 207.937 373.367 210.622 Q375.311 213.284 378.691 213.284 Q382.07 213.284 383.992 210.622 Q385.936 207.937 385.936 203.238 Z\" fill=\"#000000\" fill-rule=\"evenodd\" fill-opacity=\"1\" /><path clip-path=\"url(#clip690)\" d=\"M396.978 205.946 L396.978 190.252 L401.237 190.252 L401.237 205.784 Q401.237 209.465 402.672 211.316 Q404.107 213.145 406.978 213.145 Q410.427 213.145 412.417 210.946 Q414.431 208.747 414.431 204.951 L414.431 190.252 L418.691 190.252 L418.691 216.178 L414.431 216.178 L414.431 212.196 Q412.88 214.557 410.82 215.715 Q408.783 216.849 406.075 216.849 Q401.607 216.849 399.293 214.071 Q396.978 211.293 396.978 205.946 M407.695 189.627 L407.695 189.627 Z\" fill=\"#000000\" fill-rule=\"evenodd\" fill-opacity=\"1\" /><path clip-path=\"url(#clip690)\" d=\"M431.677 182.891 L431.677 190.252 L440.45 190.252 L440.45 193.562 L431.677 193.562 L431.677 207.636 Q431.677 210.807 432.533 211.71 Q433.413 212.613 436.075 212.613 L440.45 212.613 L440.45 216.178 L436.075 216.178 Q431.144 216.178 429.269 214.349 Q427.394 212.497 427.394 207.636 L427.394 193.562 L424.269 193.562 L424.269 190.252 L427.394 190.252 L427.394 182.891 L431.677 182.891 Z\" fill=\"#000000\" fill-rule=\"evenodd\" fill-opacity=\"1\" /><path clip-path=\"url(#clip690)\" d=\"M450.265 182.891 L450.265 190.252 L459.038 190.252 L459.038 193.562 L450.265 193.562 L450.265 207.636 Q450.265 210.807 451.121 211.71 Q452.001 212.613 454.663 212.613 L459.038 212.613 L459.038 216.178 L454.663 216.178 Q449.732 216.178 447.857 214.349 Q445.982 212.497 445.982 207.636 L445.982 193.562 L442.857 193.562 L442.857 190.252 L445.982 190.252 L445.982 182.891 L450.265 182.891 Z\" fill=\"#000000\" fill-rule=\"evenodd\" fill-opacity=\"1\" /><path clip-path=\"url(#clip690)\" d=\"M464.639 190.252 L468.899 190.252 L468.899 216.178 L464.639 216.178 L464.639 190.252 M464.639 180.159 L468.899 180.159 L468.899 185.553 L464.639 185.553 L464.639 180.159 Z\" fill=\"#000000\" fill-rule=\"evenodd\" fill-opacity=\"1\" /><path clip-path=\"url(#clip690)\" d=\"M499.361 200.529 L499.361 216.178 L495.102 216.178 L495.102 200.668 Q495.102 196.988 493.667 195.159 Q492.232 193.33 489.362 193.33 Q485.912 193.33 483.922 195.53 Q481.931 197.729 481.931 201.525 L481.931 216.178 L477.649 216.178 L477.649 190.252 L481.931 190.252 L481.931 194.28 Q483.459 191.942 485.519 190.784 Q487.602 189.627 490.311 189.627 Q494.778 189.627 497.07 192.405 Q499.361 195.159 499.361 200.529 Z\" fill=\"#000000\" fill-rule=\"evenodd\" fill-opacity=\"1\" /><path clip-path=\"url(#clip690)\" d=\"M524.917 202.914 Q524.917 198.284 522.996 195.738 Q521.097 193.192 517.648 193.192 Q514.222 193.192 512.301 195.738 Q510.403 198.284 510.403 202.914 Q510.403 207.52 512.301 210.066 Q514.222 212.613 517.648 212.613 Q521.097 212.613 522.996 210.066 Q524.917 207.52 524.917 202.914 M529.176 212.96 Q529.176 219.58 526.236 222.798 Q523.297 226.039 517.232 226.039 Q514.986 226.039 512.996 225.691 Q511.005 225.367 509.13 224.673 L509.13 220.529 Q511.005 221.548 512.834 222.034 Q514.662 222.52 516.56 222.52 Q520.75 222.52 522.834 220.321 Q524.917 218.145 524.917 213.724 L524.917 211.617 Q523.597 213.909 521.537 215.043 Q519.477 216.178 516.607 216.178 Q511.838 216.178 508.922 212.543 Q506.005 208.909 506.005 202.914 Q506.005 196.895 508.922 193.261 Q511.838 189.627 516.607 189.627 Q519.477 189.627 521.537 190.761 Q523.597 191.895 524.917 194.187 L524.917 190.252 L529.176 190.252 L529.176 212.96 Z\" fill=\"#000000\" fill-rule=\"evenodd\" fill-opacity=\"1\" /><path clip-path=\"url(#clip690)\" d=\"M570.079 194.187 L570.079 180.159 L574.338 180.159 L574.338 216.178 L570.079 216.178 L570.079 212.289 Q568.736 214.603 566.676 215.738 Q564.639 216.849 561.769 216.849 Q557.069 216.849 554.107 213.099 Q551.167 209.349 551.167 203.238 Q551.167 197.127 554.107 193.377 Q557.069 189.627 561.769 189.627 Q564.639 189.627 566.676 190.761 Q568.736 191.872 570.079 194.187 M555.565 203.238 Q555.565 207.937 557.486 210.622 Q559.431 213.284 562.81 213.284 Q566.19 213.284 568.134 210.622 Q570.079 207.937 570.079 203.238 Q570.079 198.539 568.134 195.877 Q566.19 193.192 562.81 193.192 Q559.431 193.192 557.486 195.877 Q555.565 198.539 555.565 203.238 Z\" fill=\"#000000\" fill-rule=\"evenodd\" fill-opacity=\"1\" /><path clip-path=\"url(#clip690)\" d=\"M594.893 203.145 Q589.731 203.145 587.741 204.326 Q585.75 205.506 585.75 208.354 Q585.75 210.622 587.231 211.965 Q588.736 213.284 591.305 213.284 Q594.847 213.284 596.977 210.784 Q599.129 208.261 599.129 204.094 L599.129 203.145 L594.893 203.145 M603.389 201.386 L603.389 216.178 L599.129 216.178 L599.129 212.242 Q597.671 214.603 595.495 215.738 Q593.319 216.849 590.171 216.849 Q586.19 216.849 583.829 214.627 Q581.491 212.381 581.491 208.631 Q581.491 204.256 584.407 202.034 Q587.347 199.812 593.157 199.812 L599.129 199.812 L599.129 199.395 Q599.129 196.455 597.185 194.858 Q595.264 193.238 591.768 193.238 Q589.546 193.238 587.44 193.77 Q585.333 194.303 583.389 195.367 L583.389 191.432 Q585.727 190.53 587.926 190.09 Q590.125 189.627 592.208 189.627 Q597.833 189.627 600.611 192.543 Q603.389 195.46 603.389 201.386 Z\" fill=\"#000000\" fill-rule=\"evenodd\" fill-opacity=\"1\" /><path clip-path=\"url(#clip690)\" d=\"M616.375 182.891 L616.375 190.252 L625.148 190.252 L625.148 193.562 L616.375 193.562 L616.375 207.636 Q616.375 210.807 617.231 211.71 Q618.111 212.613 620.773 212.613 L625.148 212.613 L625.148 216.178 L620.773 216.178 Q615.842 216.178 613.967 214.349 Q612.092 212.497 612.092 207.636 L612.092 193.562 L608.967 193.562 L608.967 190.252 L612.092 190.252 L612.092 182.891 L616.375 182.891 Z\" fill=\"#000000\" fill-rule=\"evenodd\" fill-opacity=\"1\" /><path clip-path=\"url(#clip690)\" d=\"M642.532 203.145 Q637.37 203.145 635.379 204.326 Q633.389 205.506 633.389 208.354 Q633.389 210.622 634.87 211.965 Q636.375 213.284 638.944 213.284 Q642.486 213.284 644.615 210.784 Q646.768 208.261 646.768 204.094 L646.768 203.145 L642.532 203.145 M651.027 201.386 L651.027 216.178 L646.768 216.178 L646.768 212.242 Q645.31 214.603 643.134 215.738 Q640.958 216.849 637.81 216.849 Q633.828 216.849 631.467 214.627 Q629.129 212.381 629.129 208.631 Q629.129 204.256 632.046 202.034 Q634.986 199.812 640.796 199.812 L646.768 199.812 L646.768 199.395 Q646.768 196.455 644.824 194.858 Q642.902 193.238 639.407 193.238 Q637.185 193.238 635.078 193.77 Q632.972 194.303 631.027 195.367 L631.027 191.432 Q633.365 190.53 635.564 190.09 Q637.763 189.627 639.847 189.627 Q645.472 189.627 648.25 192.543 Q651.027 195.46 651.027 201.386 Z\" fill=\"#000000\" fill-rule=\"evenodd\" fill-opacity=\"1\" /><path clip-path=\"url(#clip690)\" d=\"M674.569 197.543 Q677.925 198.261 679.8 200.529 Q681.698 202.798 681.698 206.131 Q681.698 211.247 678.18 214.048 Q674.661 216.849 668.18 216.849 Q666.004 216.849 663.689 216.409 Q661.398 215.992 658.944 215.136 L658.944 210.622 Q660.888 211.756 663.203 212.335 Q665.518 212.914 668.041 212.914 Q672.439 212.914 674.731 211.178 Q677.046 209.441 677.046 206.131 Q677.046 203.076 674.893 201.363 Q672.763 199.627 668.944 199.627 L664.916 199.627 L664.916 195.784 L669.129 195.784 Q672.578 195.784 674.407 194.418 Q676.236 193.03 676.236 190.437 Q676.236 187.775 674.337 186.363 Q672.462 184.928 668.944 184.928 Q667.023 184.928 664.824 185.344 Q662.624 185.761 659.986 186.641 L659.986 182.474 Q662.648 181.733 664.962 181.363 Q667.3 180.993 669.361 180.993 Q674.685 180.993 677.786 183.423 Q680.888 185.83 680.888 189.951 Q680.888 192.821 679.245 194.812 Q677.601 196.78 674.569 197.543 Z\" fill=\"#000000\" fill-rule=\"evenodd\" fill-opacity=\"1\" /><path clip-path=\"url(#clip690)\" d=\"M715.078 193.238 Q711.652 193.238 709.661 195.923 Q707.671 198.585 707.671 203.238 Q707.671 207.891 709.638 210.576 Q711.629 213.238 715.078 213.238 Q718.481 213.238 720.471 210.553 Q722.462 207.867 722.462 203.238 Q722.462 198.631 720.471 195.946 Q718.481 193.238 715.078 193.238 M715.078 189.627 Q720.633 189.627 723.805 193.238 Q726.976 196.849 726.976 203.238 Q726.976 209.604 723.805 213.238 Q720.633 216.849 715.078 216.849 Q709.499 216.849 706.328 213.238 Q703.18 209.604 703.18 203.238 Q703.18 196.849 706.328 193.238 Q709.499 189.627 715.078 189.627 Z\" fill=\"#000000\" fill-rule=\"evenodd\" fill-opacity=\"1\" /><path clip-path=\"url(#clip690)\" d=\"M755.587 200.529 L755.587 216.178 L751.328 216.178 L751.328 200.668 Q751.328 196.988 749.893 195.159 Q748.457 193.33 745.587 193.33 Q742.138 193.33 740.147 195.53 Q738.156 197.729 738.156 201.525 L738.156 216.178 L733.874 216.178 L733.874 190.252 L738.156 190.252 L738.156 194.28 Q739.684 191.942 741.744 190.784 Q743.828 189.627 746.536 189.627 Q751.004 189.627 753.295 192.405 Q755.587 195.159 755.587 200.529 Z\" fill=\"#000000\" fill-rule=\"evenodd\" fill-opacity=\"1\" /><path clip-path=\"url(#clip690)\" d=\"M783.365 182.891 L783.365 190.252 L792.138 190.252 L792.138 193.562 L783.365 193.562 L783.365 207.636 Q783.365 210.807 784.221 211.71 Q785.101 212.613 787.763 212.613 L792.138 212.613 L792.138 216.178 L787.763 216.178 Q782.832 216.178 780.957 214.349 Q779.082 212.497 779.082 207.636 L779.082 193.562 L775.957 193.562 L775.957 190.252 L779.082 190.252 L779.082 182.891 L783.365 182.891 Z\" fill=\"#000000\" fill-rule=\"evenodd\" fill-opacity=\"1\" /><path clip-path=\"url(#clip690)\" d=\"M819.29 200.529 L819.29 216.178 L815.031 216.178 L815.031 200.668 Q815.031 196.988 813.596 195.159 Q812.161 193.33 809.29 193.33 Q805.841 193.33 803.851 195.53 Q801.86 197.729 801.86 201.525 L801.86 216.178 L797.577 216.178 L797.577 180.159 L801.86 180.159 L801.86 194.28 Q803.388 191.942 805.448 190.784 Q807.531 189.627 810.239 189.627 Q814.707 189.627 816.999 192.405 Q819.29 195.159 819.29 200.529 Z\" fill=\"#000000\" fill-rule=\"evenodd\" fill-opacity=\"1\" /><path clip-path=\"url(#clip690)\" d=\"M849.961 202.15 L849.961 204.233 L830.378 204.233 Q830.656 208.631 833.017 210.946 Q835.401 213.238 839.637 213.238 Q842.091 213.238 844.383 212.636 Q846.698 212.034 848.966 210.83 L848.966 214.858 Q846.674 215.83 844.267 216.34 Q841.86 216.849 839.383 216.849 Q833.179 216.849 829.545 213.238 Q825.934 209.627 825.934 203.469 Q825.934 197.104 829.36 193.377 Q832.809 189.627 838.642 189.627 Q843.874 189.627 846.906 193.006 Q849.961 196.363 849.961 202.15 M845.702 200.9 Q845.656 197.405 843.735 195.321 Q841.836 193.238 838.688 193.238 Q835.124 193.238 832.971 195.252 Q830.841 197.266 830.517 200.923 L845.702 200.9 Z\" fill=\"#000000\" fill-rule=\"evenodd\" fill-opacity=\"1\" /><path clip-path=\"url(#clip690)\" d=\"M888.549 191.016 L888.549 195.043 Q886.744 194.117 884.799 193.655 Q882.855 193.192 880.771 193.192 Q877.6 193.192 876.003 194.164 Q874.429 195.136 874.429 197.08 Q874.429 198.562 875.563 199.418 Q876.697 200.252 880.123 201.016 L881.582 201.34 Q886.119 202.312 888.017 204.094 Q889.938 205.854 889.938 209.025 Q889.938 212.636 887.068 214.742 Q884.221 216.849 879.221 216.849 Q877.137 216.849 874.869 216.432 Q872.623 216.039 870.123 215.228 L870.123 210.83 Q872.484 212.057 874.776 212.682 Q877.068 213.284 879.313 213.284 Q882.322 213.284 883.943 212.266 Q885.563 211.224 885.563 209.349 Q885.563 207.613 884.383 206.687 Q883.225 205.761 879.267 204.904 L877.785 204.557 Q873.827 203.724 872.068 202.011 Q870.309 200.275 870.309 197.266 Q870.309 193.608 872.901 191.618 Q875.494 189.627 880.262 189.627 Q882.623 189.627 884.707 189.974 Q886.79 190.321 888.549 191.016 Z\" fill=\"#000000\" fill-rule=\"evenodd\" fill-opacity=\"1\" /><path clip-path=\"url(#clip690)\" d=\"M908.503 203.145 Q903.341 203.145 901.35 204.326 Q899.359 205.506 899.359 208.354 Q899.359 210.622 900.841 211.965 Q902.345 213.284 904.915 213.284 Q908.456 213.284 910.586 210.784 Q912.739 208.261 912.739 204.094 L912.739 203.145 L908.503 203.145 M916.998 201.386 L916.998 216.178 L912.739 216.178 L912.739 212.242 Q911.281 214.603 909.105 215.738 Q906.929 216.849 903.781 216.849 Q899.799 216.849 897.438 214.627 Q895.1 212.381 895.1 208.631 Q895.1 204.256 898.017 202.034 Q900.957 199.812 906.767 199.812 L912.739 199.812 L912.739 199.395 Q912.739 196.455 910.794 194.858 Q908.873 193.238 905.378 193.238 Q903.156 193.238 901.049 193.77 Q898.943 194.303 896.998 195.367 L896.998 191.432 Q899.336 190.53 901.535 190.09 Q903.734 189.627 905.818 189.627 Q911.443 189.627 914.22 192.543 Q916.998 195.46 916.998 201.386 Z\" fill=\"#000000\" fill-rule=\"evenodd\" fill-opacity=\"1\" /><path clip-path=\"url(#clip690)\" d=\"M945.956 195.229 Q947.554 192.358 949.776 190.993 Q951.998 189.627 955.007 189.627 Q959.058 189.627 961.257 192.474 Q963.456 195.298 963.456 200.529 L963.456 216.178 L959.174 216.178 L959.174 200.668 Q959.174 196.942 957.854 195.136 Q956.535 193.33 953.827 193.33 Q950.516 193.33 948.595 195.53 Q946.674 197.729 946.674 201.525 L946.674 216.178 L942.391 216.178 L942.391 200.668 Q942.391 196.918 941.072 195.136 Q939.753 193.33 936.998 193.33 Q933.734 193.33 931.813 195.553 Q929.892 197.752 929.892 201.525 L929.892 216.178 L925.609 216.178 L925.609 190.252 L929.892 190.252 L929.892 194.28 Q931.35 191.895 933.387 190.761 Q935.424 189.627 938.225 189.627 Q941.049 189.627 943.016 191.062 Q945.007 192.497 945.956 195.229 Z\" fill=\"#000000\" fill-rule=\"evenodd\" fill-opacity=\"1\" /><path clip-path=\"url(#clip690)\" d=\"M994.127 202.15 L994.127 204.233 L974.544 204.233 Q974.822 208.631 977.183 210.946 Q979.567 213.238 983.803 213.238 Q986.257 213.238 988.549 212.636 Q990.863 212.034 993.132 210.83 L993.132 214.858 Q990.84 215.83 988.433 216.34 Q986.026 216.849 983.549 216.849 Q977.345 216.849 973.711 213.238 Q970.1 209.627 970.1 203.469 Q970.1 197.104 973.526 193.377 Q976.975 189.627 982.808 189.627 Q988.039 189.627 991.072 193.006 Q994.127 196.363 994.127 202.15 M989.868 200.9 Q989.822 197.405 987.901 195.321 Q986.002 193.238 982.854 193.238 Q979.289 193.238 977.137 195.252 Q975.007 197.266 974.683 200.923 L989.868 200.9 Z\" fill=\"#000000\" fill-rule=\"evenodd\" fill-opacity=\"1\" /><path clip-path=\"url(#clip690)\" d=\"M1026.23 193.238 Q1022.81 193.238 1020.82 195.923 Q1018.83 198.585 1018.83 203.238 Q1018.83 207.891 1020.79 210.576 Q1022.78 213.238 1026.23 213.238 Q1029.64 213.238 1031.63 210.553 Q1033.62 207.867 1033.62 203.238 Q1033.62 198.631 1031.63 195.946 Q1029.64 193.238 1026.23 193.238 M1026.23 189.627 Q1031.79 189.627 1034.96 193.238 Q1038.13 196.849 1038.13 203.238 Q1038.13 209.604 1034.96 213.238 Q1031.79 216.849 1026.23 216.849 Q1020.65 216.849 1017.48 213.238 Q1014.34 209.604 1014.34 203.238 Q1014.34 196.849 1017.48 193.238 Q1020.65 189.627 1026.23 189.627 Z\" fill=\"#000000\" fill-rule=\"evenodd\" fill-opacity=\"1\" /><path clip-path=\"url(#clip690)\" d=\"M1066.74 200.529 L1066.74 216.178 L1062.48 216.178 L1062.48 200.668 Q1062.48 196.988 1061.05 195.159 Q1059.61 193.33 1056.74 193.33 Q1053.29 193.33 1051.3 195.53 Q1049.31 197.729 1049.31 201.525 L1049.31 216.178 L1045.03 216.178 L1045.03 190.252 L1049.31 190.252 L1049.31 194.28 Q1050.84 191.942 1052.9 190.784 Q1054.98 189.627 1057.69 189.627 Q1062.16 189.627 1064.45 192.405 Q1066.74 195.159 1066.74 200.529 Z\" fill=\"#000000\" fill-rule=\"evenodd\" fill-opacity=\"1\" /><path clip-path=\"url(#clip690)\" d=\"M1097.41 202.15 L1097.41 204.233 L1077.83 204.233 Q1078.11 208.631 1080.47 210.946 Q1082.85 213.238 1087.09 213.238 Q1089.54 213.238 1091.84 212.636 Q1094.15 212.034 1096.42 210.83 L1096.42 214.858 Q1094.13 215.83 1091.72 216.34 Q1089.31 216.849 1086.84 216.849 Q1080.63 216.849 1077 213.238 Q1073.39 209.627 1073.39 203.469 Q1073.39 197.104 1076.81 193.377 Q1080.26 189.627 1086.09 189.627 Q1091.33 189.627 1094.36 193.006 Q1097.41 196.363 1097.41 202.15 M1093.15 200.9 Q1093.11 197.405 1091.19 195.321 Q1089.29 193.238 1086.14 193.238 Q1082.58 193.238 1080.42 195.252 Q1078.29 197.266 1077.97 200.923 L1093.15 200.9 Z\" fill=\"#000000\" fill-rule=\"evenodd\" fill-opacity=\"1\" /><path clip-path=\"url(#clip690)\" d=\"\n",
       "M1356.6 1486.45 L2352.76 1486.45 L2352.76 47.2441 L1356.6 47.2441  Z\n",
       "  \" fill=\"#ffffff\" fill-rule=\"evenodd\" fill-opacity=\"1\"/>\n",
       "<defs>\n",
       "  <clipPath id=\"clip693\">\n",
       "    <rect x=\"1356\" y=\"47\" width=\"997\" height=\"1440\"/>\n",
       "  </clipPath>\n",
       "</defs>\n",
       "<polyline clip-path=\"url(#clip693)\" style=\"stroke:#000000; stroke-linecap:butt; stroke-linejoin:round; stroke-width:2; stroke-opacity:0.1; fill:none\" points=\"\n",
       "  1582.64,1486.45 1582.64,47.2441 \n",
       "  \"/>\n",
       "<polyline clip-path=\"url(#clip693)\" style=\"stroke:#000000; stroke-linecap:butt; stroke-linejoin:round; stroke-width:2; stroke-opacity:0.1; fill:none\" points=\"\n",
       "  1829.95,1486.45 1829.95,47.2441 \n",
       "  \"/>\n",
       "<polyline clip-path=\"url(#clip693)\" style=\"stroke:#000000; stroke-linecap:butt; stroke-linejoin:round; stroke-width:2; stroke-opacity:0.1; fill:none\" points=\"\n",
       "  2077.25,1486.45 2077.25,47.2441 \n",
       "  \"/>\n",
       "<polyline clip-path=\"url(#clip693)\" style=\"stroke:#000000; stroke-linecap:butt; stroke-linejoin:round; stroke-width:2; stroke-opacity:0.1; fill:none\" points=\"\n",
       "  2324.56,1486.45 2324.56,47.2441 \n",
       "  \"/>\n",
       "<polyline clip-path=\"url(#clip690)\" style=\"stroke:#000000; stroke-linecap:butt; stroke-linejoin:round; stroke-width:4; stroke-opacity:1; fill:none\" points=\"\n",
       "  1356.6,1486.45 2352.76,1486.45 \n",
       "  \"/>\n",
       "<polyline clip-path=\"url(#clip690)\" style=\"stroke:#000000; stroke-linecap:butt; stroke-linejoin:round; stroke-width:4; stroke-opacity:1; fill:none\" points=\"\n",
       "  1582.64,1486.45 1582.64,1467.55 \n",
       "  \"/>\n",
       "<polyline clip-path=\"url(#clip690)\" style=\"stroke:#000000; stroke-linecap:butt; stroke-linejoin:round; stroke-width:4; stroke-opacity:1; fill:none\" points=\"\n",
       "  1829.95,1486.45 1829.95,1467.55 \n",
       "  \"/>\n",
       "<polyline clip-path=\"url(#clip690)\" style=\"stroke:#000000; stroke-linecap:butt; stroke-linejoin:round; stroke-width:4; stroke-opacity:1; fill:none\" points=\"\n",
       "  2077.25,1486.45 2077.25,1467.55 \n",
       "  \"/>\n",
       "<polyline clip-path=\"url(#clip690)\" style=\"stroke:#000000; stroke-linecap:butt; stroke-linejoin:round; stroke-width:4; stroke-opacity:1; fill:none\" points=\"\n",
       "  2324.56,1486.45 2324.56,1467.55 \n",
       "  \"/>\n",
       "<path clip-path=\"url(#clip690)\" d=\"M1572.92 1512.56 L1591.27 1512.56 L1591.27 1516.5 L1577.2 1516.5 L1577.2 1524.97 Q1578.22 1524.62 1579.24 1524.46 Q1580.25 1524.27 1581.27 1524.27 Q1587.06 1524.27 1590.44 1527.44 Q1593.82 1530.62 1593.82 1536.03 Q1593.82 1541.61 1590.35 1544.71 Q1586.87 1547.79 1580.55 1547.79 Q1578.38 1547.79 1576.11 1547.42 Q1573.86 1547.05 1571.46 1546.31 L1571.46 1541.61 Q1573.54 1542.74 1575.76 1543.3 Q1577.99 1543.86 1580.46 1543.86 Q1584.47 1543.86 1586.8 1541.75 Q1589.14 1539.64 1589.14 1536.03 Q1589.14 1532.42 1586.8 1530.31 Q1584.47 1528.21 1580.46 1528.21 Q1578.59 1528.21 1576.71 1528.62 Q1574.86 1529.04 1572.92 1529.92 L1572.92 1512.56 Z\" fill=\"#000000\" fill-rule=\"evenodd\" fill-opacity=\"1\" /><path clip-path=\"url(#clip690)\" d=\"M1804.63 1543.18 L1812.27 1543.18 L1812.27 1516.82 L1803.96 1518.49 L1803.96 1514.23 L1812.23 1512.56 L1816.9 1512.56 L1816.9 1543.18 L1824.54 1543.18 L1824.54 1547.12 L1804.63 1547.12 L1804.63 1543.18 Z\" fill=\"#000000\" fill-rule=\"evenodd\" fill-opacity=\"1\" /><path clip-path=\"url(#clip690)\" d=\"M1843.99 1515.64 Q1840.37 1515.64 1838.55 1519.2 Q1836.74 1522.75 1836.74 1529.87 Q1836.74 1536.98 1838.55 1540.55 Q1840.37 1544.09 1843.99 1544.09 Q1847.62 1544.09 1849.43 1540.55 Q1851.25 1536.98 1851.25 1529.87 Q1851.25 1522.75 1849.43 1519.2 Q1847.62 1515.64 1843.99 1515.64 M1843.99 1511.93 Q1849.8 1511.93 1852.85 1516.54 Q1855.93 1521.12 1855.93 1529.87 Q1855.93 1538.6 1852.85 1543.21 Q1849.8 1547.79 1843.99 1547.79 Q1838.18 1547.79 1835.1 1543.21 Q1832.04 1538.6 1832.04 1529.87 Q1832.04 1521.12 1835.1 1516.54 Q1838.18 1511.93 1843.99 1511.93 Z\" fill=\"#000000\" fill-rule=\"evenodd\" fill-opacity=\"1\" /><path clip-path=\"url(#clip690)\" d=\"M2052.44 1543.18 L2060.08 1543.18 L2060.08 1516.82 L2051.77 1518.49 L2051.77 1514.23 L2060.03 1512.56 L2064.71 1512.56 L2064.71 1543.18 L2072.35 1543.18 L2072.35 1547.12 L2052.44 1547.12 L2052.44 1543.18 Z\" fill=\"#000000\" fill-rule=\"evenodd\" fill-opacity=\"1\" /><path clip-path=\"url(#clip690)\" d=\"M2081.84 1512.56 L2100.19 1512.56 L2100.19 1516.5 L2086.12 1516.5 L2086.12 1524.97 Q2087.14 1524.62 2088.16 1524.46 Q2089.18 1524.27 2090.19 1524.27 Q2095.98 1524.27 2099.36 1527.44 Q2102.74 1530.62 2102.74 1536.03 Q2102.74 1541.61 2099.27 1544.71 Q2095.8 1547.79 2089.48 1547.79 Q2087.3 1547.79 2085.03 1547.42 Q2082.79 1547.05 2080.38 1546.31 L2080.38 1541.61 Q2082.46 1542.74 2084.69 1543.3 Q2086.91 1543.86 2089.38 1543.86 Q2093.39 1543.86 2095.73 1541.75 Q2098.06 1539.64 2098.06 1536.03 Q2098.06 1532.42 2095.73 1530.31 Q2093.39 1528.21 2089.38 1528.21 Q2087.51 1528.21 2085.63 1528.62 Q2083.78 1529.04 2081.84 1529.92 L2081.84 1512.56 Z\" fill=\"#000000\" fill-rule=\"evenodd\" fill-opacity=\"1\" /><path clip-path=\"url(#clip690)\" d=\"M2303.34 1543.18 L2319.66 1543.18 L2319.66 1547.12 L2297.71 1547.12 L2297.71 1543.18 Q2300.37 1540.43 2304.96 1535.8 Q2309.56 1531.15 2310.74 1529.81 Q2312.99 1527.28 2313.87 1525.55 Q2314.77 1523.79 2314.77 1522.1 Q2314.77 1519.34 2312.83 1517.61 Q2310.91 1515.87 2307.8 1515.87 Q2305.6 1515.87 2303.15 1516.63 Q2300.72 1517.4 2297.94 1518.95 L2297.94 1514.23 Q2300.77 1513.09 2303.22 1512.51 Q2305.67 1511.93 2307.71 1511.93 Q2313.08 1511.93 2316.28 1514.62 Q2319.47 1517.31 2319.47 1521.8 Q2319.47 1523.93 2318.66 1525.85 Q2317.87 1527.74 2315.77 1530.34 Q2315.19 1531.01 2312.09 1534.23 Q2308.98 1537.42 2303.34 1543.18 Z\" fill=\"#000000\" fill-rule=\"evenodd\" fill-opacity=\"1\" /><path clip-path=\"url(#clip690)\" d=\"M2339.47 1515.64 Q2335.86 1515.64 2334.03 1519.2 Q2332.22 1522.75 2332.22 1529.87 Q2332.22 1536.98 2334.03 1540.55 Q2335.86 1544.09 2339.47 1544.09 Q2343.1 1544.09 2344.91 1540.55 Q2346.74 1536.98 2346.74 1529.87 Q2346.74 1522.75 2344.91 1519.2 Q2343.1 1515.64 2339.47 1515.64 M2339.47 1511.93 Q2345.28 1511.93 2348.34 1516.54 Q2351.41 1521.12 2351.41 1529.87 Q2351.41 1538.6 2348.34 1543.21 Q2345.28 1547.79 2339.47 1547.79 Q2333.66 1547.79 2330.58 1543.21 Q2327.53 1538.6 2327.53 1529.87 Q2327.53 1521.12 2330.58 1516.54 Q2333.66 1511.93 2339.47 1511.93 Z\" fill=\"#000000\" fill-rule=\"evenodd\" fill-opacity=\"1\" /><polyline clip-path=\"url(#clip693)\" style=\"stroke:#000000; stroke-linecap:butt; stroke-linejoin:round; stroke-width:2; stroke-opacity:0.1; fill:none\" points=\"\n",
       "  1356.6,1191.49 2352.76,1191.49 \n",
       "  \"/>\n",
       "<polyline clip-path=\"url(#clip693)\" style=\"stroke:#000000; stroke-linecap:butt; stroke-linejoin:round; stroke-width:2; stroke-opacity:0.1; fill:none\" points=\"\n",
       "  1356.6,882.689 2352.76,882.689 \n",
       "  \"/>\n",
       "<polyline clip-path=\"url(#clip693)\" style=\"stroke:#000000; stroke-linecap:butt; stroke-linejoin:round; stroke-width:2; stroke-opacity:0.1; fill:none\" points=\"\n",
       "  1356.6,573.89 2352.76,573.89 \n",
       "  \"/>\n",
       "<polyline clip-path=\"url(#clip693)\" style=\"stroke:#000000; stroke-linecap:butt; stroke-linejoin:round; stroke-width:2; stroke-opacity:0.1; fill:none\" points=\"\n",
       "  1356.6,265.091 2352.76,265.091 \n",
       "  \"/>\n",
       "<polyline clip-path=\"url(#clip690)\" style=\"stroke:#000000; stroke-linecap:butt; stroke-linejoin:round; stroke-width:4; stroke-opacity:1; fill:none\" points=\"\n",
       "  1356.6,1486.45 1356.6,47.2441 \n",
       "  \"/>\n",
       "<polyline clip-path=\"url(#clip690)\" style=\"stroke:#000000; stroke-linecap:butt; stroke-linejoin:round; stroke-width:4; stroke-opacity:1; fill:none\" points=\"\n",
       "  1356.6,1191.49 1375.5,1191.49 \n",
       "  \"/>\n",
       "<polyline clip-path=\"url(#clip690)\" style=\"stroke:#000000; stroke-linecap:butt; stroke-linejoin:round; stroke-width:4; stroke-opacity:1; fill:none\" points=\"\n",
       "  1356.6,882.689 1375.5,882.689 \n",
       "  \"/>\n",
       "<polyline clip-path=\"url(#clip690)\" style=\"stroke:#000000; stroke-linecap:butt; stroke-linejoin:round; stroke-width:4; stroke-opacity:1; fill:none\" points=\"\n",
       "  1356.6,573.89 1375.5,573.89 \n",
       "  \"/>\n",
       "<polyline clip-path=\"url(#clip690)\" style=\"stroke:#000000; stroke-linecap:butt; stroke-linejoin:round; stroke-width:4; stroke-opacity:1; fill:none\" points=\"\n",
       "  1356.6,265.091 1375.5,265.091 \n",
       "  \"/>\n",
       "<path clip-path=\"url(#clip690)\" d=\"M1265.02 1177.29 Q1261.41 1177.29 1259.58 1180.85 Q1257.77 1184.39 1257.77 1191.52 Q1257.77 1198.63 1259.58 1202.19 Q1261.41 1205.74 1265.02 1205.74 Q1268.65 1205.74 1270.46 1202.19 Q1272.29 1198.63 1272.29 1191.52 Q1272.29 1184.39 1270.46 1180.85 Q1268.65 1177.29 1265.02 1177.29 M1265.02 1173.58 Q1270.83 1173.58 1273.89 1178.19 Q1276.96 1182.77 1276.96 1191.52 Q1276.96 1200.25 1273.89 1204.86 Q1270.83 1209.44 1265.02 1209.44 Q1259.21 1209.44 1256.13 1204.86 Q1253.08 1200.25 1253.08 1191.52 Q1253.08 1182.77 1256.13 1178.19 Q1259.21 1173.58 1265.02 1173.58 Z\" fill=\"#000000\" fill-rule=\"evenodd\" fill-opacity=\"1\" /><path clip-path=\"url(#clip690)\" d=\"M1285.18 1202.89 L1290.07 1202.89 L1290.07 1208.77 L1285.18 1208.77 L1285.18 1202.89 Z\" fill=\"#000000\" fill-rule=\"evenodd\" fill-opacity=\"1\" /><path clip-path=\"url(#clip690)\" d=\"M1304.28 1204.83 L1320.6 1204.83 L1320.6 1208.77 L1298.65 1208.77 L1298.65 1204.83 Q1301.32 1202.08 1305.9 1197.45 Q1310.51 1192.8 1311.69 1191.45 Q1313.93 1188.93 1314.81 1187.19 Q1315.71 1185.44 1315.71 1183.75 Q1315.71 1180.99 1313.77 1179.25 Q1311.85 1177.52 1308.75 1177.52 Q1306.55 1177.52 1304.09 1178.28 Q1301.66 1179.05 1298.89 1180.6 L1298.89 1175.88 Q1301.71 1174.74 1304.16 1174.16 Q1306.62 1173.58 1308.65 1173.58 Q1314.02 1173.58 1317.22 1176.27 Q1320.41 1178.95 1320.41 1183.44 Q1320.41 1185.57 1319.6 1187.5 Q1318.82 1189.39 1316.71 1191.99 Q1316.13 1192.66 1313.03 1195.87 Q1309.93 1199.07 1304.28 1204.83 Z\" fill=\"#000000\" fill-rule=\"evenodd\" fill-opacity=\"1\" /><path clip-path=\"url(#clip690)\" d=\"M1262.94 868.488 Q1259.33 868.488 1257.5 872.053 Q1255.69 875.594 1255.69 882.724 Q1255.69 889.83 1257.5 893.395 Q1259.33 896.937 1262.94 896.937 Q1266.57 896.937 1268.38 893.395 Q1270.2 889.83 1270.2 882.724 Q1270.2 875.594 1268.38 872.053 Q1266.57 868.488 1262.94 868.488 M1262.94 864.784 Q1268.75 864.784 1271.8 869.391 Q1274.88 873.974 1274.88 882.724 Q1274.88 891.451 1271.8 896.057 Q1268.75 900.641 1262.94 900.641 Q1257.13 900.641 1254.05 896.057 Q1250.99 891.451 1250.99 882.724 Q1250.99 873.974 1254.05 869.391 Q1257.13 864.784 1262.94 864.784 Z\" fill=\"#000000\" fill-rule=\"evenodd\" fill-opacity=\"1\" /><path clip-path=\"url(#clip690)\" d=\"M1283.1 894.09 L1287.98 894.09 L1287.98 899.969 L1283.1 899.969 L1283.1 894.09 Z\" fill=\"#000000\" fill-rule=\"evenodd\" fill-opacity=\"1\" /><path clip-path=\"url(#clip690)\" d=\"M1311.01 869.483 L1299.21 887.932 L1311.01 887.932 L1311.01 869.483 M1309.79 865.409 L1315.67 865.409 L1315.67 887.932 L1320.6 887.932 L1320.6 891.821 L1315.67 891.821 L1315.67 899.969 L1311.01 899.969 L1311.01 891.821 L1295.41 891.821 L1295.41 887.307 L1309.79 865.409 Z\" fill=\"#000000\" fill-rule=\"evenodd\" fill-opacity=\"1\" /><path clip-path=\"url(#clip690)\" d=\"M1263.26 559.689 Q1259.65 559.689 1257.82 563.254 Q1256.02 566.795 1256.02 573.925 Q1256.02 581.031 1257.82 584.596 Q1259.65 588.138 1263.26 588.138 Q1266.89 588.138 1268.7 584.596 Q1270.53 581.031 1270.53 573.925 Q1270.53 566.795 1268.7 563.254 Q1266.89 559.689 1263.26 559.689 M1263.26 555.985 Q1269.07 555.985 1272.13 560.592 Q1275.2 565.175 1275.2 573.925 Q1275.2 582.652 1272.13 587.258 Q1269.07 591.842 1263.26 591.842 Q1257.45 591.842 1254.37 587.258 Q1251.32 582.652 1251.32 573.925 Q1251.32 565.175 1254.37 560.592 Q1257.45 555.985 1263.26 555.985 Z\" fill=\"#000000\" fill-rule=\"evenodd\" fill-opacity=\"1\" /><path clip-path=\"url(#clip690)\" d=\"M1283.42 585.291 L1288.31 585.291 L1288.31 591.17 L1283.42 591.17 L1283.42 585.291 Z\" fill=\"#000000\" fill-rule=\"evenodd\" fill-opacity=\"1\" /><path clip-path=\"url(#clip690)\" d=\"M1309.07 572.027 Q1305.92 572.027 1304.07 574.18 Q1302.24 576.332 1302.24 580.082 Q1302.24 583.809 1304.07 585.985 Q1305.92 588.138 1309.07 588.138 Q1312.22 588.138 1314.05 585.985 Q1315.9 583.809 1315.9 580.082 Q1315.9 576.332 1314.05 574.18 Q1312.22 572.027 1309.07 572.027 M1318.35 557.374 L1318.35 561.633 Q1316.59 560.8 1314.79 560.36 Q1313.01 559.92 1311.25 559.92 Q1306.62 559.92 1304.16 563.045 Q1301.73 566.17 1301.39 572.49 Q1302.75 570.476 1304.81 569.411 Q1306.87 568.323 1309.35 568.323 Q1314.56 568.323 1317.57 571.494 Q1320.6 574.643 1320.6 580.082 Q1320.6 585.406 1317.45 588.624 Q1314.3 591.842 1309.07 591.842 Q1303.08 591.842 1299.9 587.258 Q1296.73 582.652 1296.73 573.925 Q1296.73 565.731 1300.62 560.869 Q1304.51 555.985 1311.06 555.985 Q1312.82 555.985 1314.6 556.332 Q1316.41 556.68 1318.35 557.374 Z\" fill=\"#000000\" fill-rule=\"evenodd\" fill-opacity=\"1\" /><path clip-path=\"url(#clip690)\" d=\"M1263.52 250.89 Q1259.9 250.89 1258.08 254.455 Q1256.27 257.996 1256.27 265.126 Q1256.27 272.232 1258.08 275.797 Q1259.9 279.339 1263.52 279.339 Q1267.15 279.339 1268.95 275.797 Q1270.78 272.232 1270.78 265.126 Q1270.78 257.996 1268.95 254.455 Q1267.15 250.89 1263.52 250.89 M1263.52 247.186 Q1269.33 247.186 1272.38 251.793 Q1275.46 256.376 1275.46 265.126 Q1275.46 273.853 1272.38 278.459 Q1269.33 283.042 1263.52 283.042 Q1257.71 283.042 1254.63 278.459 Q1251.57 273.853 1251.57 265.126 Q1251.57 256.376 1254.63 251.793 Q1257.71 247.186 1263.52 247.186 Z\" fill=\"#000000\" fill-rule=\"evenodd\" fill-opacity=\"1\" /><path clip-path=\"url(#clip690)\" d=\"M1283.68 276.492 L1288.56 276.492 L1288.56 282.371 L1283.68 282.371 L1283.68 276.492 Z\" fill=\"#000000\" fill-rule=\"evenodd\" fill-opacity=\"1\" /><path clip-path=\"url(#clip690)\" d=\"M1308.75 265.959 Q1305.41 265.959 1303.49 267.742 Q1301.59 269.524 1301.59 272.649 Q1301.59 275.774 1303.49 277.556 Q1305.41 279.339 1308.75 279.339 Q1312.08 279.339 1314 277.556 Q1315.92 275.751 1315.92 272.649 Q1315.92 269.524 1314 267.742 Q1312.1 265.959 1308.75 265.959 M1304.07 263.968 Q1301.06 263.228 1299.37 261.168 Q1297.7 259.107 1297.7 256.144 Q1297.7 252.001 1300.64 249.594 Q1303.61 247.186 1308.75 247.186 Q1313.91 247.186 1316.85 249.594 Q1319.79 252.001 1319.79 256.144 Q1319.79 259.107 1318.1 261.168 Q1316.43 263.228 1313.45 263.968 Q1316.83 264.755 1318.7 267.047 Q1320.6 269.339 1320.6 272.649 Q1320.6 277.672 1317.52 280.357 Q1314.46 283.042 1308.75 283.042 Q1303.03 283.042 1299.95 280.357 Q1296.89 277.672 1296.89 272.649 Q1296.89 269.339 1298.79 267.047 Q1300.69 264.755 1304.07 263.968 M1302.36 256.584 Q1302.36 259.269 1304.02 260.774 Q1305.71 262.279 1308.75 262.279 Q1311.76 262.279 1313.45 260.774 Q1315.16 259.269 1315.16 256.584 Q1315.16 253.899 1313.45 252.394 Q1311.76 250.89 1308.75 250.89 Q1305.71 250.89 1304.02 252.394 Q1302.36 253.899 1302.36 256.584 Z\" fill=\"#000000\" fill-rule=\"evenodd\" fill-opacity=\"1\" /><polyline clip-path=\"url(#clip693)\" style=\"stroke:#009af9; stroke-linecap:butt; stroke-linejoin:round; stroke-width:4; stroke-opacity:1; fill:none\" points=\"\n",
       "  1384.79,775.685 1434.25,1403.99 1483.71,955.058 1533.18,315.114 1582.64,1433.68 1632.1,1086.52 1681.56,1397.08 1731.02,1258.44 1780.48,565.712 1829.95,1290.7 \n",
       "  1879.41,206.237 1928.87,87.9763 1978.33,1036.97 2027.79,384.211 2077.25,1315.54 2126.72,315.935 2176.18,262.121 2225.64,1445.72 2275.1,751.974 2324.56,111.928 \n",
       "  \n",
       "  \"/>\n",
       "<path clip-path=\"url(#clip690)\" d=\"\n",
       "M2079.28 198.898 L2319.55 198.898 L2319.55 95.2176 L2079.28 95.2176  Z\n",
       "  \" fill=\"#ffffff\" fill-rule=\"evenodd\" fill-opacity=\"1\"/>\n",
       "<polyline clip-path=\"url(#clip690)\" style=\"stroke:#000000; stroke-linecap:butt; stroke-linejoin:round; stroke-width:4; stroke-opacity:1; fill:none\" points=\"\n",
       "  2079.28,198.898 2319.55,198.898 2319.55,95.2176 2079.28,95.2176 2079.28,198.898 \n",
       "  \"/>\n",
       "<polyline clip-path=\"url(#clip690)\" style=\"stroke:#009af9; stroke-linecap:butt; stroke-linejoin:round; stroke-width:4; stroke-opacity:1; fill:none\" points=\"\n",
       "  2090.35,147.058 2156.76,147.058 \n",
       "  \"/>\n",
       "<path clip-path=\"url(#clip690)\" d=\"M2186.74 142.347 L2186.74 128.319 L2191 128.319 L2191 164.338 L2186.74 164.338 L2186.74 160.449 Q2185.4 162.763 2183.34 163.898 Q2181.3 165.009 2178.43 165.009 Q2173.73 165.009 2170.77 161.259 Q2167.83 157.509 2167.83 151.398 Q2167.83 145.287 2170.77 141.537 Q2173.73 137.787 2178.43 137.787 Q2181.3 137.787 2183.34 138.921 Q2185.4 140.032 2186.74 142.347 M2172.23 151.398 Q2172.23 156.097 2174.15 158.782 Q2176.1 161.444 2179.47 161.444 Q2182.85 161.444 2184.8 158.782 Q2186.74 156.097 2186.74 151.398 Q2186.74 146.699 2184.8 144.037 Q2182.85 141.352 2179.47 141.352 Q2176.1 141.352 2174.15 144.037 Q2172.23 146.699 2172.23 151.398 Z\" fill=\"#000000\" fill-rule=\"evenodd\" fill-opacity=\"1\" /><path clip-path=\"url(#clip690)\" d=\"M2211.56 151.305 Q2206.4 151.305 2204.41 152.486 Q2202.41 153.666 2202.41 156.514 Q2202.41 158.782 2203.9 160.125 Q2205.4 161.444 2207.97 161.444 Q2211.51 161.444 2213.64 158.944 Q2215.79 156.421 2215.79 152.254 L2215.79 151.305 L2211.56 151.305 M2220.05 149.546 L2220.05 164.338 L2215.79 164.338 L2215.79 160.402 Q2214.34 162.763 2212.16 163.898 Q2209.98 165.009 2206.84 165.009 Q2202.85 165.009 2200.49 162.787 Q2198.16 160.541 2198.16 156.791 Q2198.16 152.416 2201.07 150.194 Q2204.01 147.972 2209.82 147.972 L2215.79 147.972 L2215.79 147.555 Q2215.79 144.615 2213.85 143.018 Q2211.93 141.398 2208.43 141.398 Q2206.21 141.398 2204.1 141.93 Q2202 142.463 2200.05 143.527 L2200.05 139.592 Q2202.39 138.69 2204.59 138.25 Q2206.79 137.787 2208.87 137.787 Q2214.5 137.787 2217.28 140.703 Q2220.05 143.62 2220.05 149.546 Z\" fill=\"#000000\" fill-rule=\"evenodd\" fill-opacity=\"1\" /><path clip-path=\"url(#clip690)\" d=\"M2233.04 131.051 L2233.04 138.412 L2241.81 138.412 L2241.81 141.722 L2233.04 141.722 L2233.04 155.796 Q2233.04 158.967 2233.9 159.87 Q2234.78 160.773 2237.44 160.773 L2241.81 160.773 L2241.81 164.338 L2237.44 164.338 Q2232.51 164.338 2230.63 162.509 Q2228.76 160.657 2228.76 155.796 L2228.76 141.722 L2225.63 141.722 L2225.63 138.412 L2228.76 138.412 L2228.76 131.051 L2233.04 131.051 Z\" fill=\"#000000\" fill-rule=\"evenodd\" fill-opacity=\"1\" /><path clip-path=\"url(#clip690)\" d=\"M2259.2 151.305 Q2254.03 151.305 2252.04 152.486 Q2250.05 153.666 2250.05 156.514 Q2250.05 158.782 2251.53 160.125 Q2253.04 161.444 2255.61 161.444 Q2259.15 161.444 2261.28 158.944 Q2263.43 156.421 2263.43 152.254 L2263.43 151.305 L2259.2 151.305 M2267.69 149.546 L2267.69 164.338 L2263.43 164.338 L2263.43 160.402 Q2261.97 162.763 2259.8 163.898 Q2257.62 165.009 2254.47 165.009 Q2250.49 165.009 2248.13 162.787 Q2245.79 160.541 2245.79 156.791 Q2245.79 152.416 2248.71 150.194 Q2251.65 147.972 2257.46 147.972 L2263.43 147.972 L2263.43 147.555 Q2263.43 144.615 2261.49 143.018 Q2259.57 141.398 2256.07 141.398 Q2253.85 141.398 2251.74 141.93 Q2249.64 142.463 2247.69 143.527 L2247.69 139.592 Q2250.03 138.69 2252.23 138.25 Q2254.43 137.787 2256.51 137.787 Q2262.14 137.787 2264.91 140.703 Q2267.69 143.62 2267.69 149.546 Z\" fill=\"#000000\" fill-rule=\"evenodd\" fill-opacity=\"1\" /><path clip-path=\"url(#clip690)\" d=\"M2281.09 160.402 L2297.41 160.402 L2297.41 164.338 L2275.47 164.338 L2275.47 160.402 Q2278.13 157.648 2282.71 153.018 Q2287.32 148.365 2288.5 147.023 Q2290.75 144.5 2291.63 142.764 Q2292.53 141.004 2292.53 139.315 Q2292.53 136.56 2290.59 134.824 Q2288.66 133.088 2285.56 133.088 Q2283.36 133.088 2280.91 133.852 Q2278.48 134.615 2275.7 136.166 L2275.7 131.444 Q2278.53 130.31 2280.98 129.731 Q2283.43 129.153 2285.47 129.153 Q2290.84 129.153 2294.03 131.838 Q2297.23 134.523 2297.23 139.014 Q2297.23 141.143 2296.42 143.065 Q2295.63 144.963 2293.52 147.555 Q2292.95 148.227 2289.84 151.444 Q2286.74 154.639 2281.09 160.402 Z\" fill=\"#000000\" fill-rule=\"evenodd\" fill-opacity=\"1\" /></svg>\n"
      ]
     },
     "execution_count": 99,
     "metadata": {},
     "output_type": "execute_result"
    }
   ],
   "source": [
    "p1 = plot(1:20,data1,label=\"data1\")\n",
    "     plot!(1:20,data3,label=\"putting data3 on the same one\")\n",
    "p2 = plot(1:20,data2,label=\"data2\")\n",
    "plot(p1,p2,size=(600,400))"
   ]
  },
  {
   "cell_type": "code",
   "execution_count": null,
   "metadata": {},
   "outputs": [],
   "source": []
  }
 ],
 "metadata": {
  "kernelspec": {
   "display_name": "Julia 1.6.0",
   "language": "julia",
   "name": "julia-1.6"
  },
  "language_info": {
   "file_extension": ".jl",
   "mimetype": "application/julia",
   "name": "julia",
   "version": "1.6.0"
  }
 },
 "nbformat": 4,
 "nbformat_minor": 4
}
