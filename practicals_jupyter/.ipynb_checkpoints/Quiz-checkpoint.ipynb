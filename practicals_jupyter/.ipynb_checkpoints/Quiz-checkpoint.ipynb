{
 "cells": [
  {
   "cell_type": "markdown",
   "metadata": {},
   "source": [
    "1) Consider the following code. Specify the output you expect to see."
   ]
  },
  {
   "cell_type": "code",
   "execution_count": null,
   "metadata": {},
   "outputs": [],
   "source": [
    "f(n) = n == 0 ?  0 : n + f(n-1) \n",
    "f(10) #output"
   ]
  },
  {
   "cell_type": "markdown",
   "metadata": {},
   "source": [
    "2) Consider this code block:"
   ]
  },
  {
   "cell_type": "code",
   "execution_count": null,
   "metadata": {},
   "outputs": [],
   "source": [
    "data = [i^2 for i in 1:5]\n",
    "s = 0\n",
    "for d in data \n",
    "    s += d\n",
    "end\n",
    "s #output"
   ]
  },
  {
   "cell_type": "markdown",
   "metadata": {},
   "source": [
    "Now convert for loop to a while loop by filling out the missing parts..."
   ]
  },
  {
   "cell_type": "code",
   "execution_count": null,
   "metadata": {},
   "outputs": [],
   "source": [
    "data = [i^2 for i in 1:5]\n",
    "s = 0\n",
    "i = 1\n",
    "while i <= 5 \n",
    "    s += #<<FILL-IN - A>>\n",
    "    #<<FILL-IN - B>>\n",
    "end\n",
    "s"
   ]
  },
  {
   "cell_type": "code",
   "execution_count": null,
   "metadata": {},
   "outputs": [],
   "source": [
    "data = [i^2 for i in 1:5]\n",
    "s = 0\n",
    "i = 1\n",
    "while i <= 5 \n",
    "    s += data[i]#<<FILL-IN - A>>\n",
    "    i += 1#<<FILL-IN - B>>\n",
    "end\n",
    "s"
   ]
  },
  {
   "cell_type": "markdown",
   "metadata": {},
   "source": [
    "3) Consider this code block and specify the output you expect to see or if it can't be determined say it can't be determined."
   ]
  },
  {
   "cell_type": "code",
   "execution_count": 39,
   "metadata": {},
   "outputs": [
    {
     "data": {
      "text/plain": [
       "true"
      ]
     },
     "execution_count": 39,
     "metadata": {},
     "output_type": "execute_result"
    }
   ],
   "source": [
    "x = UInt16(rand(UInt8))\n",
    "y = UInt16(rand(UInt8))\n",
    "(x + (y << 8)) ÷ 256 == y"
   ]
  },
  {
   "cell_type": "markdown",
   "metadata": {},
   "source": []
  },
  {
   "cell_type": "code",
   "execution_count": null,
   "metadata": {},
   "outputs": [],
   "source": []
  }
 ],
 "metadata": {
  "kernelspec": {
   "display_name": "Julia 1.6.0",
   "language": "julia",
   "name": "julia-1.6"
  },
  "language_info": {
   "file_extension": ".jl",
   "mimetype": "application/julia",
   "name": "julia",
   "version": "1.6.0"
  }
 },
 "nbformat": 4,
 "nbformat_minor": 4
}
