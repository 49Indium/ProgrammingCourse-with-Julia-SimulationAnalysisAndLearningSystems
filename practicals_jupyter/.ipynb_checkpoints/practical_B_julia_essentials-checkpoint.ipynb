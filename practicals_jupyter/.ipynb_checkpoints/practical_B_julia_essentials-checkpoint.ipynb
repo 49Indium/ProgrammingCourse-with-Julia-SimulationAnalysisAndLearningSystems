{
 "cells": [
  {
   "cell_type": "markdown",
   "metadata": {},
   "source": [
    "# [MATH2504 Programming of Simulation, Analysis, and Learning Systems at The University of Queensland](https://courses.smp.uq.edu.au/MATH2504/)\n",
    "\n",
    "## Semester 2, 2021\n",
    "\n",
    "# Practical B: Julia essentials\n",
    "\n",
    "In this practical we work on variables, logical statements, conditional statements, loops, generic functions, scope, arrays, input/output, and a few more Julia essentials."
   ]
  },
  {
   "cell_type": "markdown",
   "metadata": {},
   "source": [
    "## Simple tasks with arrays"
   ]
  },
  {
   "cell_type": "markdown",
   "metadata": {},
   "source": [
    "Assume we have a one dimensional array (vector) of arbitrary elements. For example,\n",
    "\n",
    "```\n",
    "a = [\"hello\", \"man\", \"hello\", \"dog\", \"hello\", \"hello\", \"hello\", \"fish\"]\n",
    "```\n",
    "\n",
    "Here the function, `longest_streak()` determines the length of the longest subsequence in the array that has the same element. For example in the case above, `longest_streak(a)` would return `3` because `\"hello\"` appears for 3 consequative spots and that is more than any other element."
   ]
  },
  {
   "cell_type": "code",
   "execution_count": null,
   "metadata": {},
   "outputs": [],
   "source": [
    "function longest_streak(a) #a is assumed to be an array\n",
    "    n = length(a)\n",
    "    if n == 1\n",
    "        return 1 #arrays of length 1 have a longest streak of 1\n",
    "    end\n",
    "    \n",
    "    current_value = a[1]\n",
    "    cs = 1 #current streak\n",
    "    ls = 1 #longest streak\n",
    "    for i in 2:n\n",
    "        if a[i] == current_value\n",
    "            cs +=1\n",
    "        else\n",
    "            current_value = a[i]\n",
    "            cs = 1\n",
    "        end\n",
    "        if cs > ls\n",
    "            ls = cs\n",
    "        end\n",
    "    end\n",
    "    return ls\n",
    "end"
   ]
  },
  {
   "cell_type": "code",
   "execution_count": null,
   "metadata": {},
   "outputs": [],
   "source": [
    "#Testing longest_streak() on the simple example above\n",
    "a = [\"hello\", \"man\", \"hello\", \"dog\", \"hello\", \"hello\", \"hello\", \"fish\"]\n",
    "longest_streak(a)"
   ]
  },
  {
   "cell_type": "markdown",
   "metadata": {},
   "source": [
    "### Task 1 (Code understanding):\n",
    "Explain to a peer and/or have them explain to you how the function works. What is the logic in each of the lines."
   ]
  },
  {
   "cell_type": "code",
   "execution_count": null,
   "metadata": {
    "scrolled": true
   },
   "outputs": [],
   "source": [
    "#Testing longest_streak() on a slightly longer example\n",
    "\n",
    "using Random; Random.seed!(2)\n",
    "\n",
    "a = rand([:x,:y], 20)\n",
    "@show a\n",
    "longest_streak(a)"
   ]
  },
  {
   "cell_type": "markdown",
   "metadata": {},
   "source": [
    "### Task 2 (code manipulaton):\n",
    "Copy the code of `longest_streak()` to the cell below and carry out the following modifications. After each modification test the code on the (same) pseudo-random sequence of length 20 from above. \n",
    "\n",
    "### Task 2a:\n",
    "In Julia we can take two (or more) lines of the form,\n",
    "```\n",
    "x = 3\n",
    "y = 7\n",
    "```\n",
    "and write them as\n",
    "``\n",
    "x, y = 3, 7\n",
    "``\n",
    "Do this for lines 7, 8, and 9 in the original code which set values for `current_value`, `cs` and `ls`.\n",
    "\n",
    "### Task 2b:\n",
    "In Julia it is sometimes common to use [Short-Circuit Evaluation](https://docs.julialang.org/en/v1/manual/control-flow/#Short-Circuit-Evaluation) and transform statements of the form\n",
    "```\n",
    "if condition\n",
    "    do-one-line-action\n",
    "end\n",
    "```\n",
    "to the form\n",
    "```\n",
    "(condition) && (do-one-line-action)\n",
    "```\n",
    "Do this in two conditional statments of `longest_streak()`\n",
    "\n",
    "### Task 2c:\n",
    "It turns out the first test for `length(a) == 1` is redundent because if the length if 1 the `for` loop won't run at all. Argue if this is the case and if so remove the lines associated with this test. Similarly, remove the variable `n` and use `length(a)` direction in the line of the `for` loop. "
   ]
  },
  {
   "cell_type": "code",
   "execution_count": null,
   "metadata": {},
   "outputs": [],
   "source": [
    "#copy code here\n"
   ]
  },
  {
   "cell_type": "markdown",
   "metadata": {},
   "source": [
    "### Task 3 (Timing):\n",
    "\n",
    "Here is timing of `longest_streak()` on an array of random digits (`1` or `2`) of length $10^7$. Fix the seed at `0` for repeatability."
   ]
  },
  {
   "cell_type": "code",
   "execution_count": null,
   "metadata": {},
   "outputs": [],
   "source": [
    "using Random; Random.seed!(0) ; a = rand([1,2], 10^7) ; \n",
    "\n",
    "@time begin \n",
    "    longest_streak(a)\n",
    "end"
   ]
  },
  {
   "cell_type": "markdown",
   "metadata": {},
   "source": [
    "Experiment with the array length ranging for $10^6$ to $10^9$ to get a rough feel for the timing."
   ]
  },
  {
   "cell_type": "markdown",
   "metadata": {},
   "source": [
    "### Task 4 (Alternative implemintation):\n",
    "It turns out that using the built in function `accumulate()` and the `mode()` function from the package `StatsBase.jl`, you can have a much shorter function that does the same thing. Here it is called `longest_streak2()`. However it is harder to understand how it operates and it also runs slower.\n"
   ]
  },
  {
   "cell_type": "code",
   "execution_count": null,
   "metadata": {},
   "outputs": [],
   "source": [
    "using StatsBase\n",
    "function longest_streak2(a)\n",
    "    temp = accumulate(+,a[1:end-1] .!= a[2:end])\n",
    "    sum(temp .== mode(temp))\n",
    "end"
   ]
  },
  {
   "cell_type": "code",
   "execution_count": null,
   "metadata": {},
   "outputs": [],
   "source": [
    "using Random; Random.seed!(0) ; a = rand([:x,:y,:z], 10^7) ; longest_streak(a)"
   ]
  },
  {
   "cell_type": "markdown",
   "metadata": {},
   "source": [
    "### Task 4a:\n",
    "Check it and time it."
   ]
  },
  {
   "cell_type": "markdown",
   "metadata": {},
   "source": [
    "### Task 4b:\n",
    "Explain it."
   ]
  },
  {
   "cell_type": "markdown",
   "metadata": {},
   "source": [
    "Neat mathematical problems arise everywhere. "
   ]
  },
  {
   "cell_type": "code",
   "execution_count": null,
   "metadata": {},
   "outputs": [],
   "source": [
    "Random.seed!(0)\n",
    "a = rand([\"a\",\"b\"], 10^7) ; \n",
    "@time begin\n",
    "    longest_streak(a)\n",
    "end"
   ]
  },
  {
   "cell_type": "markdown",
   "metadata": {},
   "source": [
    "### Different ways of collecting lists of results"
   ]
  },
  {
   "cell_type": "markdown",
   "metadata": {},
   "source": [
    "Say we want to study the distributions of the longest streaks when considering arrays of two values where each entry is either `\"a\"` or `\"b\"` independently with probability $1/2$. So for array length $n = 2^k$ with $k=1,20$ we repeat the sampling."
   ]
  },
  {
   "cell_type": "code",
   "execution_count": null,
   "metadata": {},
   "outputs": [],
   "source": [
    "using Random\n",
    "function compute_results_v1(max_k;N = 10^2)\n",
    "    Random.seed!(0)\n",
    "    results = []\n",
    "    for k in 1:max_k\n",
    "        n = 2^k\n",
    "        results_for_k = []\n",
    "        for _ in 1:N\n",
    "            a = rand([\"a\",\"b\"],n)\n",
    "            result = longest_streak(a)\n",
    "            push!(results_for_k,result)\n",
    "        end\n",
    "        push!(results,results_for_k)\n",
    "    end\n",
    "    return results\n",
    "end;"
   ]
  },
  {
   "cell_type": "code",
   "execution_count": null,
   "metadata": {},
   "outputs": [],
   "source": [
    "results1 = compute_results_v1(20)"
   ]
  },
  {
   "cell_type": "code",
   "execution_count": null,
   "metadata": {},
   "outputs": [],
   "source": [
    "means1 = mean.(results1)"
   ]
  },
  {
   "cell_type": "code",
   "execution_count": null,
   "metadata": {},
   "outputs": [],
   "source": [
    "function compute_results_v2(max_k;N = 10^2)\n",
    "    Random.seed!(0)\n",
    "    results = Vector{Vector{Int64}}(undef,max_k)\n",
    "    for k in 1:max_k\n",
    "        n = 2^k\n",
    "        results_for_k = Vector{Int64}(undef,N)\n",
    "        for i in 1:N\n",
    "            a = rand([\"a\",\"b\"],n)\n",
    "            results_for_k[i] = longest_streak(a)\n",
    "        end\n",
    "        results[k] = results_for_k\n",
    "    end\n",
    "    return results\n",
    "end;"
   ]
  },
  {
   "cell_type": "code",
   "execution_count": null,
   "metadata": {},
   "outputs": [],
   "source": [
    "results2 = compute_results_v2(20)"
   ]
  },
  {
   "cell_type": "code",
   "execution_count": null,
   "metadata": {},
   "outputs": [],
   "source": [
    "means2 = mean.(results2)"
   ]
  },
  {
   "cell_type": "code",
   "execution_count": null,
   "metadata": {},
   "outputs": [],
   "source": [
    "function compute_results_v3(max_k;N = 10^2)\n",
    "    Random.seed!(0)\n",
    "    results = Matrix{Int64}(undef,max_k,N)\n",
    "    for k in 1:max_k\n",
    "        n = 2^k\n",
    "        for i in 1:N\n",
    "            a = rand([\"a\",\"b\"],n)\n",
    "            results[k,i] = longest_streak(a)\n",
    "        end\n",
    "    end\n",
    "    return results\n",
    "end;"
   ]
  },
  {
   "cell_type": "code",
   "execution_count": null,
   "metadata": {},
   "outputs": [],
   "source": [
    "results3 = compute_results_v3(20)"
   ]
  },
  {
   "cell_type": "code",
   "execution_count": null,
   "metadata": {},
   "outputs": [],
   "source": [
    "means3 = [mean(results3[k,:]) for k in 1:(size(results3)[1]) ]"
   ]
  },
  {
   "cell_type": "code",
   "execution_count": null,
   "metadata": {},
   "outputs": [],
   "source": [
    "function compute_results_v4(max_k;N = 10^2)\n",
    "    Random.seed!(0)\n",
    "    results = Dict{Int,Vector{Int}}()\n",
    "    for k in 1:max_k\n",
    "        n = 2^k\n",
    "        results_for_k = Vector{Int64}(undef,N)\n",
    "        for i in 1:N\n",
    "            a = rand([\"a\",\"b\"],n)\n",
    "            results_for_k[i] = longest_streak(a)\n",
    "        end\n",
    "        results[n] = results_for_k  #notice that the key is n\n",
    "    end\n",
    "    return results\n",
    "end;"
   ]
  },
  {
   "cell_type": "code",
   "execution_count": null,
   "metadata": {},
   "outputs": [],
   "source": [
    "results4 = compute_results_v4(20)"
   ]
  },
  {
   "cell_type": "code",
   "execution_count": null,
   "metadata": {},
   "outputs": [],
   "source": [
    "means4 = [mean(results4[2^k]) for k in 1:length(results4) ]"
   ]
  },
  {
   "cell_type": "code",
   "execution_count": null,
   "metadata": {},
   "outputs": [],
   "source": [
    "function compute_means(max_k;N = 10^2)\n",
    "    Random.seed!(0)\n",
    "    means = Dict{Int,Float64}()\n",
    "    for k in 1:max_k\n",
    "        n = 2^k\n",
    "        rm = 0.0 #running mean\n",
    "        for i in 1:N\n",
    "            a = rand([\"a\",\"b\"],n)\n",
    "            ls = longest_streak(a)\n",
    "            rm = ((i-1)/i)*rm + 1/i*ls\n",
    "        end\n",
    "        means[n] = rm \n",
    "    end\n",
    "    return means\n",
    "end;"
   ]
  },
  {
   "cell_type": "code",
   "execution_count": null,
   "metadata": {},
   "outputs": [],
   "source": [
    "means_direct = compute_means(20)"
   ]
  },
  {
   "cell_type": "code",
   "execution_count": null,
   "metadata": {},
   "outputs": [],
   "source": [
    "means_direct = sort(means_direct).vals"
   ]
  },
  {
   "cell_type": "markdown",
   "metadata": {},
   "source": [
    "### Task 6:\n",
    "Try to determine the output (for a variety of language features)."
   ]
  },
  {
   "cell_type": "markdown",
   "metadata": {},
   "source": [
    "### Task 6a:"
   ]
  },
  {
   "cell_type": "code",
   "execution_count": null,
   "metadata": {},
   "outputs": [],
   "source": [
    "log2(16), log10(100), log(1/MathConstants.e), cos(π)  #π via \\pi + [TAB]"
   ]
  },
  {
   "cell_type": "markdown",
   "metadata": {},
   "source": [
    "### Task 6b:"
   ]
  },
  {
   "cell_type": "code",
   "execution_count": null,
   "metadata": {},
   "outputs": [],
   "source": [
    "v = 1/√2 + (1/√2)im #√ via \\sqrt + [TAB]\n",
    "v^8"
   ]
  },
  {
   "cell_type": "markdown",
   "metadata": {},
   "source": [
    "### Task 6c:"
   ]
  },
  {
   "cell_type": "code",
   "execution_count": null,
   "metadata": {},
   "outputs": [],
   "source": [
    "sum([(-1)^n for n in 1:2rand(1:100)])"
   ]
  },
  {
   "cell_type": "markdown",
   "metadata": {},
   "source": [
    "### Task 6d:"
   ]
  },
  {
   "cell_type": "code",
   "execution_count": null,
   "metadata": {},
   "outputs": [],
   "source": [
    "s = 0\n",
    "for i in -20:20\n",
    "    s += i\n",
    "end\n",
    "s == 0, s === 0.0"
   ]
  },
  {
   "cell_type": "markdown",
   "metadata": {},
   "source": [
    "### Task 6e:"
   ]
  },
  {
   "cell_type": "code",
   "execution_count": null,
   "metadata": {},
   "outputs": [],
   "source": [
    "a = 1:5\n",
    "b = collect(a)\n",
    "a == b, a === b"
   ]
  },
  {
   "cell_type": "markdown",
   "metadata": {},
   "source": [
    "### Task 6f:"
   ]
  },
  {
   "cell_type": "code",
   "execution_count": null,
   "metadata": {},
   "outputs": [],
   "source": [
    "x = 5\n",
    "y = 6\n",
    "function my_function()\n",
    "    x = 10\n",
    "    global y = 12\n",
    "end\n",
    "\n",
    "my_function()\n",
    "x, y"
   ]
  },
  {
   "cell_type": "markdown",
   "metadata": {},
   "source": [
    "### Task 6g:"
   ]
  },
  {
   "cell_type": "code",
   "execution_count": null,
   "metadata": {},
   "outputs": [],
   "source": [
    "x = 0\n",
    "while true\n",
    "    x += 1\n",
    "    (x == 15) && break\n",
    "    (x % 5 == 0) && continue\n",
    "    !(x % 4 == 0) || println(\"---\")\n",
    "    println(x)\n",
    "end"
   ]
  },
  {
   "cell_type": "markdown",
   "metadata": {},
   "source": [
    "### Task 6h:"
   ]
  },
  {
   "cell_type": "code",
   "execution_count": null,
   "metadata": {},
   "outputs": [],
   "source": [
    "a = collect(1:5)\n",
    "println(a[3:end])\n",
    "println(a[3:end-1])\n",
    "println(a[:])"
   ]
  },
  {
   "cell_type": "markdown",
   "metadata": {},
   "source": [
    "### Task 6i:"
   ]
  },
  {
   "cell_type": "code",
   "execution_count": null,
   "metadata": {},
   "outputs": [],
   "source": [
    "a = [i+j for i in 1:5, j in 1:5]\n",
    "display(a[2:4,4:end])\n",
    "display(a[1,:])\n",
    "display(a[:,end])\n",
    "println( (min(a...), minimum(a), maximum(a), max(a...)) )"
   ]
  },
  {
   "cell_type": "markdown",
   "metadata": {},
   "source": [
    "### Task 6j:"
   ]
  },
  {
   "cell_type": "code",
   "execution_count": null,
   "metadata": {},
   "outputs": [],
   "source": [
    "n = 5\n",
    "function f(x)\n",
    "    if x == n\n",
    "        return 0\n",
    "    else\n",
    "        return f(x+1) + 1\n",
    "    end\n",
    "end\n",
    "\n",
    "f(0)"
   ]
  },
  {
   "cell_type": "markdown",
   "metadata": {},
   "source": [
    "### Task 6k:"
   ]
  },
  {
   "cell_type": "code",
   "execution_count": null,
   "metadata": {},
   "outputs": [],
   "source": [
    "function f(x)\n",
    "    x[2] = \"two\"\n",
    "end\n",
    "\n",
    "a = [\"hello\",2,[2,3],:my_symbol,2.5]\n",
    "f(a)\n",
    "a"
   ]
  }
 ],
 "metadata": {
  "kernelspec": {
   "display_name": "Julia 1.6.2",
   "language": "julia",
   "name": "julia-1.6"
  },
  "language_info": {
   "file_extension": ".jl",
   "mimetype": "application/julia",
   "name": "julia",
   "version": "1.6.2"
  }
 },
 "nbformat": 4,
 "nbformat_minor": 4
}
