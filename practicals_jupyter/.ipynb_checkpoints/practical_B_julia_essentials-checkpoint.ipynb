{
 "cells": [
  {
   "cell_type": "markdown",
   "metadata": {},
   "source": [
    "# [MATH2504 Programming of Simulation, Analysis, and Learning Systems at The University of Queensland](https://courses.smp.uq.edu.au/MATH2504/)\n",
    "\n",
    "## Semester 2, 2021\n",
    "\n",
    "# Practical B: Julia essentials\n",
    "\n",
    "In this practical we work on variables, logical statements, conditional statements, loops, generic functions, scope, arrays, input/output, and a few more Julia essentials."
   ]
  },
  {
   "cell_type": "markdown",
   "metadata": {},
   "source": [
    "## Simple tasks with arrays"
   ]
  },
  {
   "cell_type": "markdown",
   "metadata": {},
   "source": [
    "Assume we have a one dimensional array (vector) of arbitrary elements. For example,\n",
    "\n",
    "```\n",
    "a = [\"hello\", \"man\", \"hello\", \"dog\", \"hello\", \"hello\", \"hello\", \"fish\"]\n",
    "```\n",
    "\n",
    "Here the function, `longest_streak()` determines the length of the longest subsequence in the array that has the same element. For example in the case above, `longest_streak(a)` would return `3` because `\"hello\"` appears for 3 consequative spots and that is more than any other element."
   ]
  },
  {
   "cell_type": "code",
   "execution_count": 1,
   "metadata": {},
   "outputs": [
    {
     "data": {
      "text/plain": [
       "longest_streak (generic function with 1 method)"
      ]
     },
     "execution_count": 1,
     "metadata": {},
     "output_type": "execute_result"
    }
   ],
   "source": [
    "function longest_streak(a) #a is assumed to be an array\n",
    "    n = length(a)\n",
    "    if n == 1\n",
    "        return 1 #arrays of length 1 have a longest streak of 1\n",
    "    end\n",
    "    \n",
    "    current_value = a[1]\n",
    "    cs = 1 #current streak\n",
    "    ls = 1 #longest streak\n",
    "    for i in 2:n\n",
    "        if a[i] == current_value\n",
    "            cs +=1\n",
    "        else\n",
    "            current_value = a[i]\n",
    "            cs = 1\n",
    "        end\n",
    "        if cs > ls\n",
    "            ls = cs\n",
    "        end\n",
    "    end\n",
    "    return ls\n",
    "end"
   ]
  },
  {
   "cell_type": "code",
   "execution_count": 2,
   "metadata": {},
   "outputs": [
    {
     "data": {
      "text/plain": [
       "3"
      ]
     },
     "execution_count": 2,
     "metadata": {},
     "output_type": "execute_result"
    }
   ],
   "source": [
    "#Testing longest_streak() on the simple example above\n",
    "a = [\"hello\", \"man\", \"hello\", \"dog\", \"hello\", \"hello\", \"hello\", \"fish\"]\n",
    "longest_streak(a)"
   ]
  },
  {
   "cell_type": "markdown",
   "metadata": {},
   "source": [
    "### Task 1 (Code understanding):\n",
    "Explain to a peer and/or have them explain to you how the function works. What is the logic in each of the lines."
   ]
  },
  {
   "cell_type": "code",
   "execution_count": 3,
   "metadata": {},
   "outputs": [
    {
     "name": "stdout",
     "output_type": "stream",
     "text": [
      "a = [:x, :y, :y, :x, :x, :x, :x, :x, :x, :y, :x, :x, :y, :x, :x, :y, :x, :x, :y, :x]\n"
     ]
    },
    {
     "data": {
      "text/plain": [
       "6"
      ]
     },
     "execution_count": 3,
     "metadata": {},
     "output_type": "execute_result"
    }
   ],
   "source": [
    "#Testing longest_streak() on a slightly longer example\n",
    "\n",
    "using Random; Random.seed!(2)\n",
    "\n",
    "a = rand([:x,:y], 20)\n",
    "@show a\n",
    "longest_streak(a)"
   ]
  },
  {
   "cell_type": "markdown",
   "metadata": {},
   "source": [
    "### Task 2 (code manipulaton):\n",
    "Copy the code of `random_streak()` to the cell below and carry out the following modifications. After each modification test the code on the (same) pseudo-random sequence of length 20 from above. \n",
    "\n",
    "### Task 2a:\n",
    "In Julia we can take two (or more) lines of the form,\n",
    "```\n",
    "x = 3\n",
    "y = 7\n",
    "```\n",
    "and write them as\n",
    "``\n",
    "x, y = 3, 7\n",
    "``\n",
    "Do this for lines 7, 8, and 9 in the original code which set values for `current_value`, `cs` and `ls`.\n",
    "\n",
    "### Task 2b:\n",
    "In Julia it is sometimes common to use [Short-Circuit Evaluation](https://docs.julialang.org/en/v1/manual/control-flow/#Short-Circuit-Evaluation) and transform statements of the form\n",
    "```\n",
    "if condition\n",
    "    do-one-line-action\n",
    "end\n",
    "```\n",
    "to the form\n",
    "```\n",
    "(condition) && (do-one-line-action)\n",
    "```\n",
    "Do this in two conditional statments of `longest_streak()`\n",
    "\n",
    "### Task 2c:\n",
    "It turns out the first test for `length(a) == 1` is redundent because if the length if 1 the `for` loop won't run at all. Argue if this is the case and if so remove the lines associated with this test. Similarly, remove the variable `n` and use `length(a)` direction in the line of the `for` loop. "
   ]
  },
  {
   "cell_type": "code",
   "execution_count": 4,
   "metadata": {},
   "outputs": [
    {
     "data": {
      "text/plain": [
       "longest_streak (generic function with 1 method)"
      ]
     },
     "execution_count": 4,
     "metadata": {},
     "output_type": "execute_result"
    }
   ],
   "source": [
    "#### Answer to remove\n",
    "function longest_streak(a) #a is assumed to be an array\n",
    "    current_value, cs, ls = a[1], 1, 1 #current value, current streak, longest streak\n",
    "    for i in 2:length(a)\n",
    "        if a[i] == current_value\n",
    "            cs +=1\n",
    "        else\n",
    "            current_value = a[i]\n",
    "            cs = 1\n",
    "        end\n",
    "        (cs > ls) && (ls = cs)\n",
    "    end\n",
    "    return ls\n",
    "end"
   ]
  },
  {
   "cell_type": "markdown",
   "metadata": {},
   "source": [
    "### Task 3 (Timing):\n",
    "\n",
    "Here is timing of `longest_streak()` on an array of random digits (`1` or `2`) of length $10^7$. Fix the seed at `0` for repeatability."
   ]
  },
  {
   "cell_type": "code",
   "execution_count": 5,
   "metadata": {},
   "outputs": [
    {
     "name": "stdout",
     "output_type": "stream",
     "text": [
      "  0.016315 seconds (17.09 k allocations: 1.071 MiB, 42.55% compilation time)\n"
     ]
    },
    {
     "data": {
      "text/plain": [
       "25"
      ]
     },
     "execution_count": 5,
     "metadata": {},
     "output_type": "execute_result"
    }
   ],
   "source": [
    "using Random; Random.seed!(0) ; a = rand([1,2], 10^7) ; \n",
    "\n",
    "@time begin \n",
    "    longest_streak(a)\n",
    "end"
   ]
  },
  {
   "cell_type": "markdown",
   "metadata": {},
   "source": [
    "Experiment with the array length ranging for $10^6$ to $10^9$ to get a rough feel for the timing."
   ]
  },
  {
   "cell_type": "markdown",
   "metadata": {},
   "source": [
    "### Task 4 (Alternative implemintation):\n",
    "It turns out that using the built in function `accumulate()` and the `mode()` function from the package `StatsBase.jl`, you can have a much shorter function that does the same thing. Here it is called `longest_streak2()`. However it is harder to understand how it operates and it also runs slower.\n"
   ]
  },
  {
   "cell_type": "code",
   "execution_count": 6,
   "metadata": {},
   "outputs": [
    {
     "data": {
      "text/plain": [
       "longest_streak2 (generic function with 1 method)"
      ]
     },
     "execution_count": 6,
     "metadata": {},
     "output_type": "execute_result"
    }
   ],
   "source": [
    "using StatsBase\n",
    "function longest_streak2(a)\n",
    "    temp = accumulate(+,a[1:end-1] .!= a[2:end])\n",
    "    sum(temp .== mode(temp))\n",
    "end"
   ]
  },
  {
   "cell_type": "code",
   "execution_count": 7,
   "metadata": {},
   "outputs": [
    {
     "data": {
      "text/plain": [
       "16"
      ]
     },
     "execution_count": 7,
     "metadata": {},
     "output_type": "execute_result"
    }
   ],
   "source": [
    "using Random; Random.seed!(0) ; a = rand([:x,:y,:z], 10^7) ; longest_streak(a)"
   ]
  },
  {
   "cell_type": "markdown",
   "metadata": {},
   "source": [
    "### Task 4a:\n",
    "Check it and time it."
   ]
  },
  {
   "cell_type": "markdown",
   "metadata": {},
   "source": [
    "### Task 4b:\n",
    "Explain it."
   ]
  },
  {
   "cell_type": "markdown",
   "metadata": {},
   "source": [
    "Neat mathematical problems arise everywhere. "
   ]
  },
  {
   "cell_type": "code",
   "execution_count": 8,
   "metadata": {},
   "outputs": [
    {
     "name": "stdout",
     "output_type": "stream",
     "text": [
      "  0.079025 seconds (16.97 k allocations: 1.064 MiB, 12.24% compilation time)\n"
     ]
    },
    {
     "data": {
      "text/plain": [
       "25"
      ]
     },
     "execution_count": 8,
     "metadata": {},
     "output_type": "execute_result"
    }
   ],
   "source": [
    "Random.seed!(0)\n",
    "a = rand([\"a\",\"b\"], 10^7) ; \n",
    "@time begin\n",
    "    longest_streak(a)\n",
    "end"
   ]
  },
  {
   "cell_type": "markdown",
   "metadata": {},
   "source": [
    "### Different ways of collecting lists of results"
   ]
  },
  {
   "cell_type": "markdown",
   "metadata": {},
   "source": [
    "Say we want to study the distributions of the longest streaks when considering arrays of two values where each entry is either `\"a\"` or `\"b\"` independantly with probability $1/2$. So for array length $n = 2^k$ with $k=1,20$ we repeat the sampling.QQQQ"
   ]
  },
  {
   "cell_type": "code",
   "execution_count": 9,
   "metadata": {},
   "outputs": [],
   "source": [
    "using Random\n",
    "function compute_results_v1(max_k;N = 10^2)\n",
    "    Random.seed!(0)\n",
    "    results = []\n",
    "    for k in 1:max_k\n",
    "        n = 2^k\n",
    "        results_for_k = []\n",
    "        for _ in 1:N\n",
    "            a = rand([\"a\",\"b\"],n)\n",
    "            result = longest_streak(a)\n",
    "            push!(results_for_k,result)\n",
    "        end\n",
    "        push!(results,results_for_k)\n",
    "    end\n",
    "    return results\n",
    "end;"
   ]
  },
  {
   "cell_type": "code",
   "execution_count": 10,
   "metadata": {},
   "outputs": [
    {
     "data": {
      "text/plain": [
       "20-element Vector{Any}:\n",
       " Any[1, 1, 1, 1, 1, 1, 1, 2, 1, 2  …  2, 2, 1, 1, 1, 2, 1, 2, 1, 2]\n",
       " Any[2, 2, 3, 2, 1, 2, 4, 3, 2, 2  …  2, 3, 2, 2, 2, 2, 1, 3, 2, 2]\n",
       " Any[4, 2, 4, 4, 3, 3, 3, 2, 3, 4  …  2, 3, 4, 3, 2, 3, 2, 2, 2, 4]\n",
       " Any[3, 4, 7, 6, 4, 3, 3, 2, 5, 4  …  8, 3, 4, 3, 3, 7, 3, 5, 2, 4]\n",
       " Any[3, 4, 5, 4, 5, 5, 5, 6, 10, 7  …  5, 4, 5, 5, 3, 5, 6, 6, 4, 5]\n",
       " Any[7, 11, 7, 7, 6, 9, 6, 6, 5, 5  …  8, 5, 7, 5, 7, 8, 5, 7, 7, 5]\n",
       " Any[7, 6, 6, 5, 6, 10, 9, 8, 6, 5  …  5, 13, 5, 5, 5, 5, 8, 6, 7, 10]\n",
       " Any[8, 8, 8, 8, 15, 7, 9, 9, 8, 9  …  11, 9, 7, 10, 12, 6, 15, 7, 6, 7]\n",
       " Any[6, 12, 12, 7, 11, 8, 9, 8, 8, 10  …  7, 7, 9, 7, 10, 9, 9, 8, 9, 7]\n",
       " Any[12, 8, 10, 8, 12, 7, 13, 9, 8, 10  …  7, 11, 10, 9, 13, 9, 8, 11, 9, 9]\n",
       " Any[9, 10, 11, 11, 11, 9, 10, 10, 13, 14  …  14, 11, 16, 14, 12, 11, 14, 12, 13, 10]\n",
       " Any[12, 12, 12, 11, 10, 14, 12, 10, 14, 11  …  12, 12, 12, 13, 12, 12, 15, 11, 13, 11]\n",
       " Any[14, 18, 12, 13, 15, 12, 11, 11, 16, 12  …  16, 15, 12, 15, 14, 20, 12, 14, 10, 11]\n",
       " Any[13, 12, 13, 13, 14, 13, 18, 18, 13, 11  …  17, 16, 15, 15, 17, 13, 13, 15, 16, 13]\n",
       " Any[16, 15, 16, 15, 17, 14, 15, 13, 16, 17  …  19, 17, 14, 17, 13, 16, 19, 16, 15, 15]\n",
       " Any[19, 17, 15, 16, 14, 16, 16, 18, 15, 17  …  17, 18, 20, 17, 14, 16, 13, 16, 15, 15]\n",
       " Any[17, 19, 16, 16, 18, 18, 16, 16, 19, 16  …  14, 15, 18, 17, 17, 17, 21, 16, 17, 16]\n",
       " Any[18, 17, 17, 18, 20, 20, 17, 17, 21, 20  …  19, 17, 19, 21, 17, 16, 16, 17, 18, 19]\n",
       " Any[16, 18, 20, 19, 19, 17, 24, 18, 18, 20  …  23, 17, 17, 20, 18, 21, 17, 20, 20, 17]\n",
       " Any[22, 19, 21, 17, 18, 21, 18, 21, 22, 19  …  20, 25, 20, 22, 18, 22, 21, 19, 23, 19]"
      ]
     },
     "execution_count": 10,
     "metadata": {},
     "output_type": "execute_result"
    }
   ],
   "source": [
    "results1 = compute_results_v1(20)"
   ]
  },
  {
   "cell_type": "code",
   "execution_count": 11,
   "metadata": {},
   "outputs": [
    {
     "data": {
      "text/plain": [
       "20-element Vector{Float64}:\n",
       "  1.54\n",
       "  2.24\n",
       "  3.12\n",
       "  4.4\n",
       "  5.27\n",
       "  6.61\n",
       "  7.34\n",
       "  8.29\n",
       "  9.08\n",
       " 10.02\n",
       " 11.48\n",
       " 12.31\n",
       " 13.54\n",
       " 14.4\n",
       " 15.23\n",
       " 16.44\n",
       " 17.05\n",
       " 18.31\n",
       " 19.17\n",
       " 20.29"
      ]
     },
     "execution_count": 11,
     "metadata": {},
     "output_type": "execute_result"
    }
   ],
   "source": [
    "means1 = mean.(results1)"
   ]
  },
  {
   "cell_type": "code",
   "execution_count": 12,
   "metadata": {},
   "outputs": [],
   "source": [
    "function compute_results_v2(max_k;N = 10^2)\n",
    "    Random.seed!(0)\n",
    "    results = Vector{Vector{Int64}}(undef,max_k)\n",
    "    for k in 1:max_k\n",
    "        n = 2^k\n",
    "        results_for_k = Vector{Int64}(undef,N)\n",
    "        for i in 1:N\n",
    "            a = rand([\"a\",\"b\"],n)\n",
    "            results_for_k[i] = longest_streak(a)\n",
    "        end\n",
    "        results[k] = results_for_k\n",
    "    end\n",
    "    return results\n",
    "end;"
   ]
  },
  {
   "cell_type": "code",
   "execution_count": 13,
   "metadata": {},
   "outputs": [
    {
     "data": {
      "text/plain": [
       "20-element Vector{Vector{Int64}}:\n",
       " [1, 1, 1, 1, 1, 1, 1, 2, 1, 2  …  2, 2, 1, 1, 1, 2, 1, 2, 1, 2]\n",
       " [2, 2, 3, 2, 1, 2, 4, 3, 2, 2  …  2, 3, 2, 2, 2, 2, 1, 3, 2, 2]\n",
       " [4, 2, 4, 4, 3, 3, 3, 2, 3, 4  …  2, 3, 4, 3, 2, 3, 2, 2, 2, 4]\n",
       " [3, 4, 7, 6, 4, 3, 3, 2, 5, 4  …  8, 3, 4, 3, 3, 7, 3, 5, 2, 4]\n",
       " [3, 4, 5, 4, 5, 5, 5, 6, 10, 7  …  5, 4, 5, 5, 3, 5, 6, 6, 4, 5]\n",
       " [7, 11, 7, 7, 6, 9, 6, 6, 5, 5  …  8, 5, 7, 5, 7, 8, 5, 7, 7, 5]\n",
       " [7, 6, 6, 5, 6, 10, 9, 8, 6, 5  …  5, 13, 5, 5, 5, 5, 8, 6, 7, 10]\n",
       " [8, 8, 8, 8, 15, 7, 9, 9, 8, 9  …  11, 9, 7, 10, 12, 6, 15, 7, 6, 7]\n",
       " [6, 12, 12, 7, 11, 8, 9, 8, 8, 10  …  7, 7, 9, 7, 10, 9, 9, 8, 9, 7]\n",
       " [12, 8, 10, 8, 12, 7, 13, 9, 8, 10  …  7, 11, 10, 9, 13, 9, 8, 11, 9, 9]\n",
       " [9, 10, 11, 11, 11, 9, 10, 10, 13, 14  …  14, 11, 16, 14, 12, 11, 14, 12, 13, 10]\n",
       " [12, 12, 12, 11, 10, 14, 12, 10, 14, 11  …  12, 12, 12, 13, 12, 12, 15, 11, 13, 11]\n",
       " [14, 18, 12, 13, 15, 12, 11, 11, 16, 12  …  16, 15, 12, 15, 14, 20, 12, 14, 10, 11]\n",
       " [13, 12, 13, 13, 14, 13, 18, 18, 13, 11  …  17, 16, 15, 15, 17, 13, 13, 15, 16, 13]\n",
       " [16, 15, 16, 15, 17, 14, 15, 13, 16, 17  …  19, 17, 14, 17, 13, 16, 19, 16, 15, 15]\n",
       " [19, 17, 15, 16, 14, 16, 16, 18, 15, 17  …  17, 18, 20, 17, 14, 16, 13, 16, 15, 15]\n",
       " [17, 19, 16, 16, 18, 18, 16, 16, 19, 16  …  14, 15, 18, 17, 17, 17, 21, 16, 17, 16]\n",
       " [18, 17, 17, 18, 20, 20, 17, 17, 21, 20  …  19, 17, 19, 21, 17, 16, 16, 17, 18, 19]\n",
       " [16, 18, 20, 19, 19, 17, 24, 18, 18, 20  …  23, 17, 17, 20, 18, 21, 17, 20, 20, 17]\n",
       " [22, 19, 21, 17, 18, 21, 18, 21, 22, 19  …  20, 25, 20, 22, 18, 22, 21, 19, 23, 19]"
      ]
     },
     "execution_count": 13,
     "metadata": {},
     "output_type": "execute_result"
    }
   ],
   "source": [
    "results2 = compute_results_v2(20)"
   ]
  },
  {
   "cell_type": "code",
   "execution_count": 14,
   "metadata": {},
   "outputs": [
    {
     "data": {
      "text/plain": [
       "20-element Vector{Float64}:\n",
       "  1.54\n",
       "  2.24\n",
       "  3.12\n",
       "  4.4\n",
       "  5.27\n",
       "  6.61\n",
       "  7.34\n",
       "  8.29\n",
       "  9.08\n",
       " 10.02\n",
       " 11.48\n",
       " 12.31\n",
       " 13.54\n",
       " 14.4\n",
       " 15.23\n",
       " 16.44\n",
       " 17.05\n",
       " 18.31\n",
       " 19.17\n",
       " 20.29"
      ]
     },
     "execution_count": 14,
     "metadata": {},
     "output_type": "execute_result"
    }
   ],
   "source": [
    "means2 = mean.(results2)"
   ]
  },
  {
   "cell_type": "code",
   "execution_count": 15,
   "metadata": {},
   "outputs": [],
   "source": [
    "function compute_results_v3(max_k;N = 10^2)\n",
    "    Random.seed!(0)\n",
    "    results = Matrix{Int64}(undef,max_k,N)\n",
    "    for k in 1:max_k\n",
    "        n = 2^k\n",
    "        for i in 1:N\n",
    "            a = rand([\"a\",\"b\"],n)\n",
    "            results[k,i] = longest_streak(a)\n",
    "        end\n",
    "    end\n",
    "    return results\n",
    "end;"
   ]
  },
  {
   "cell_type": "code",
   "execution_count": 16,
   "metadata": {},
   "outputs": [
    {
     "data": {
      "text/plain": [
       "20×100 Matrix{Int64}:\n",
       "  1   1   1   1   1   1   1   2   1  …   2   1   1   1   2   1   2   1   2\n",
       "  2   2   3   2   1   2   4   3   2      3   2   2   2   2   1   3   2   2\n",
       "  4   2   4   4   3   3   3   2   3      3   4   3   2   3   2   2   2   4\n",
       "  3   4   7   6   4   3   3   2   5      3   4   3   3   7   3   5   2   4\n",
       "  3   4   5   4   5   5   5   6  10      4   5   5   3   5   6   6   4   5\n",
       "  7  11   7   7   6   9   6   6   5  …   5   7   5   7   8   5   7   7   5\n",
       "  7   6   6   5   6  10   9   8   6     13   5   5   5   5   8   6   7  10\n",
       "  8   8   8   8  15   7   9   9   8      9   7  10  12   6  15   7   6   7\n",
       "  6  12  12   7  11   8   9   8   8      7   9   7  10   9   9   8   9   7\n",
       " 12   8  10   8  12   7  13   9   8     11  10   9  13   9   8  11   9   9\n",
       "  9  10  11  11  11   9  10  10  13  …  11  16  14  12  11  14  12  13  10\n",
       " 12  12  12  11  10  14  12  10  14     12  12  13  12  12  15  11  13  11\n",
       " 14  18  12  13  15  12  11  11  16     15  12  15  14  20  12  14  10  11\n",
       " 13  12  13  13  14  13  18  18  13     16  15  15  17  13  13  15  16  13\n",
       " 16  15  16  15  17  14  15  13  16     17  14  17  13  16  19  16  15  15\n",
       " 19  17  15  16  14  16  16  18  15  …  18  20  17  14  16  13  16  15  15\n",
       " 17  19  16  16  18  18  16  16  19     15  18  17  17  17  21  16  17  16\n",
       " 18  17  17  18  20  20  17  17  21     17  19  21  17  16  16  17  18  19\n",
       " 16  18  20  19  19  17  24  18  18     17  17  20  18  21  17  20  20  17\n",
       " 22  19  21  17  18  21  18  21  22     25  20  22  18  22  21  19  23  19"
      ]
     },
     "execution_count": 16,
     "metadata": {},
     "output_type": "execute_result"
    }
   ],
   "source": [
    "results3 = compute_results_v3(20)"
   ]
  },
  {
   "cell_type": "code",
   "execution_count": 17,
   "metadata": {},
   "outputs": [
    {
     "data": {
      "text/plain": [
       "20-element Vector{Float64}:\n",
       "  1.54\n",
       "  2.24\n",
       "  3.12\n",
       "  4.4\n",
       "  5.27\n",
       "  6.61\n",
       "  7.34\n",
       "  8.29\n",
       "  9.08\n",
       " 10.02\n",
       " 11.48\n",
       " 12.31\n",
       " 13.54\n",
       " 14.4\n",
       " 15.23\n",
       " 16.44\n",
       " 17.05\n",
       " 18.31\n",
       " 19.17\n",
       " 20.29"
      ]
     },
     "execution_count": 17,
     "metadata": {},
     "output_type": "execute_result"
    }
   ],
   "source": [
    "means3 = [mean(results3[k,:]) for k in 1:(size(results3)[1]) ]"
   ]
  },
  {
   "cell_type": "code",
   "execution_count": 18,
   "metadata": {},
   "outputs": [],
   "source": [
    "function compute_results_v4(max_k;N = 10^2)\n",
    "    Random.seed!(0)\n",
    "    results = Dict{Int,Vector{Int}}()\n",
    "    for k in 1:max_k\n",
    "        n = 2^k\n",
    "        results_for_k = Vector{Int64}(undef,N)\n",
    "        for i in 1:N\n",
    "            a = rand([\"a\",\"b\"],n)\n",
    "            results_for_k[i] = longest_streak(a)\n",
    "        end\n",
    "        results[n] = results_for_k  #notice that the key is n\n",
    "    end\n",
    "    return results\n",
    "end;"
   ]
  },
  {
   "cell_type": "code",
   "execution_count": 19,
   "metadata": {},
   "outputs": [
    {
     "data": {
      "text/plain": [
       "Dict{Int64, Vector{Int64}} with 20 entries:\n",
       "  16      => [3, 4, 7, 6, 4, 3, 3, 2, 5, 4  …  8, 3, 4, 3, 3, 7, 3, 5, 2, 4]\n",
       "  8       => [4, 2, 4, 4, 3, 3, 3, 2, 3, 4  …  2, 3, 4, 3, 2, 3, 2, 2, 2, 4]\n",
       "  4096    => [12, 12, 12, 11, 10, 14, 12, 10, 14, 11  …  12, 12, 12, 13, 12, 12…\n",
       "  256     => [8, 8, 8, 8, 15, 7, 9, 9, 8, 9  …  11, 9, 7, 10, 12, 6, 15, 7, 6, …\n",
       "  32      => [3, 4, 5, 4, 5, 5, 5, 6, 10, 7  …  5, 4, 5, 5, 3, 5, 6, 6, 4, 5]\n",
       "  1024    => [12, 8, 10, 8, 12, 7, 13, 9, 8, 10  …  7, 11, 10, 9, 13, 9, 8, 11,…\n",
       "  1048576 => [22, 19, 21, 17, 18, 21, 18, 21, 22, 19  …  20, 25, 20, 22, 18, 22…\n",
       "  8192    => [14, 18, 12, 13, 15, 12, 11, 11, 16, 12  …  16, 15, 12, 15, 14, 20…\n",
       "  512     => [6, 12, 12, 7, 11, 8, 9, 8, 8, 10  …  7, 7, 9, 7, 10, 9, 9, 8, 9, …\n",
       "  64      => [7, 11, 7, 7, 6, 9, 6, 6, 5, 5  …  8, 5, 7, 5, 7, 8, 5, 7, 7, 5]\n",
       "  2048    => [9, 10, 11, 11, 11, 9, 10, 10, 13, 14  …  14, 11, 16, 14, 12, 11, …\n",
       "  524288  => [16, 18, 20, 19, 19, 17, 24, 18, 18, 20  …  23, 17, 17, 20, 18, 21…\n",
       "  128     => [7, 6, 6, 5, 6, 10, 9, 8, 6, 5  …  5, 13, 5, 5, 5, 5, 8, 6, 7, 10]\n",
       "  16384   => [13, 12, 13, 13, 14, 13, 18, 18, 13, 11  …  17, 16, 15, 15, 17, 13…\n",
       "  32768   => [16, 15, 16, 15, 17, 14, 15, 13, 16, 17  …  19, 17, 14, 17, 13, 16…\n",
       "  4       => [2, 2, 3, 2, 1, 2, 4, 3, 2, 2  …  2, 3, 2, 2, 2, 2, 1, 3, 2, 2]\n",
       "  65536   => [19, 17, 15, 16, 14, 16, 16, 18, 15, 17  …  17, 18, 20, 17, 14, 16…\n",
       "  2       => [1, 1, 1, 1, 1, 1, 1, 2, 1, 2  …  2, 2, 1, 1, 1, 2, 1, 2, 1, 2]\n",
       "  262144  => [18, 17, 17, 18, 20, 20, 17, 17, 21, 20  …  19, 17, 19, 21, 17, 16…\n",
       "  131072  => [17, 19, 16, 16, 18, 18, 16, 16, 19, 16  …  14, 15, 18, 17, 17, 17…"
      ]
     },
     "execution_count": 19,
     "metadata": {},
     "output_type": "execute_result"
    }
   ],
   "source": [
    "results4 = compute_results_v4(20)"
   ]
  },
  {
   "cell_type": "code",
   "execution_count": 20,
   "metadata": {},
   "outputs": [
    {
     "data": {
      "text/plain": [
       "20-element Vector{Float64}:\n",
       "  1.54\n",
       "  2.24\n",
       "  3.12\n",
       "  4.4\n",
       "  5.27\n",
       "  6.61\n",
       "  7.34\n",
       "  8.29\n",
       "  9.08\n",
       " 10.02\n",
       " 11.48\n",
       " 12.31\n",
       " 13.54\n",
       " 14.4\n",
       " 15.23\n",
       " 16.44\n",
       " 17.05\n",
       " 18.31\n",
       " 19.17\n",
       " 20.29"
      ]
     },
     "execution_count": 20,
     "metadata": {},
     "output_type": "execute_result"
    }
   ],
   "source": [
    "means4 = [mean(results4[2^k]) for k in 1:length(results4) ]"
   ]
  },
  {
   "cell_type": "code",
   "execution_count": 21,
   "metadata": {},
   "outputs": [],
   "source": [
    "function compute_means(max_k;N = 10^2)\n",
    "    Random.seed!(0)\n",
    "    means = Dict{Int,Float64}()\n",
    "    for k in 1:max_k\n",
    "        n = 2^k\n",
    "        rm = 0.0 #running mean\n",
    "        for i in 1:N\n",
    "            a = rand([\"a\",\"b\"],n)\n",
    "            ls = longest_streak(a)\n",
    "            rm = ((i-1)/i)*rm + 1/i*ls\n",
    "        end\n",
    "        means[n] = rm \n",
    "    end\n",
    "    return means\n",
    "end;"
   ]
  },
  {
   "cell_type": "code",
   "execution_count": 22,
   "metadata": {},
   "outputs": [
    {
     "data": {
      "text/plain": [
       "Dict{Int64, Float64} with 20 entries:\n",
       "  16      => 4.4\n",
       "  8       => 3.12\n",
       "  4096    => 12.31\n",
       "  256     => 8.29\n",
       "  32      => 5.27\n",
       "  1024    => 10.02\n",
       "  1048576 => 20.29\n",
       "  8192    => 13.54\n",
       "  512     => 9.08\n",
       "  64      => 6.61\n",
       "  2048    => 11.48\n",
       "  524288  => 19.17\n",
       "  128     => 7.34\n",
       "  16384   => 14.4\n",
       "  32768   => 15.23\n",
       "  4       => 2.24\n",
       "  65536   => 16.44\n",
       "  2       => 1.54\n",
       "  262144  => 18.31\n",
       "  131072  => 17.05"
      ]
     },
     "execution_count": 22,
     "metadata": {},
     "output_type": "execute_result"
    }
   ],
   "source": [
    "means_direct = compute_means(20)"
   ]
  },
  {
   "cell_type": "code",
   "execution_count": 23,
   "metadata": {},
   "outputs": [
    {
     "data": {
      "text/plain": [
       "20-element Vector{Float64}:\n",
       "  1.5399999999999998\n",
       "  2.239999999999999\n",
       "  3.1200000000000006\n",
       "  4.399999999999997\n",
       "  5.269999999999997\n",
       "  6.6099999999999985\n",
       "  7.339999999999996\n",
       "  8.290000000000003\n",
       "  9.079999999999998\n",
       " 10.019999999999996\n",
       " 11.479999999999995\n",
       " 12.309999999999995\n",
       " 13.539999999999994\n",
       " 14.400000000000002\n",
       " 15.230000000000006\n",
       " 16.439999999999994\n",
       " 17.04999999999999\n",
       " 18.309999999999995\n",
       " 19.17\n",
       " 20.29"
      ]
     },
     "execution_count": 23,
     "metadata": {},
     "output_type": "execute_result"
    }
   ],
   "source": [
    "means_direct = sort(means_direct).vals"
   ]
  },
  {
   "cell_type": "markdown",
   "metadata": {},
   "source": [
    "### Task 6:\n",
    "Try to determine the output (for a variety of language features)."
   ]
  },
  {
   "cell_type": "markdown",
   "metadata": {},
   "source": [
    "### Task 6a:"
   ]
  },
  {
   "cell_type": "code",
   "execution_count": null,
   "metadata": {},
   "outputs": [],
   "source": [
    "log2(16), log10(100), log(1/MathConstants.e), cos(π)  #π via \\pi + [TAB]"
   ]
  },
  {
   "cell_type": "markdown",
   "metadata": {},
   "source": [
    "### Task 6b:"
   ]
  },
  {
   "cell_type": "code",
   "execution_count": null,
   "metadata": {},
   "outputs": [],
   "source": [
    "v = 1/√2 + (1/√2)im #√ via \\sqrt + [TAB]\n",
    "v^8"
   ]
  },
  {
   "cell_type": "markdown",
   "metadata": {},
   "source": [
    "### Task 6c:"
   ]
  },
  {
   "cell_type": "code",
   "execution_count": null,
   "metadata": {},
   "outputs": [],
   "source": [
    "sum([(-1)^n for n in 1:2rand(1:100)])"
   ]
  },
  {
   "cell_type": "markdown",
   "metadata": {},
   "source": [
    "### Task 6d:"
   ]
  },
  {
   "cell_type": "code",
   "execution_count": null,
   "metadata": {},
   "outputs": [],
   "source": [
    "s = 0\n",
    "for i in -20:20\n",
    "    s += i\n",
    "end\n",
    "s == 0, s === 0.0"
   ]
  },
  {
   "cell_type": "markdown",
   "metadata": {},
   "source": [
    "### Task 6e:"
   ]
  },
  {
   "cell_type": "code",
   "execution_count": null,
   "metadata": {},
   "outputs": [],
   "source": [
    "a = 1:5\n",
    "b = collect(a)\n",
    "a == b, a === b"
   ]
  },
  {
   "cell_type": "markdown",
   "metadata": {},
   "source": [
    "### Task 6f:"
   ]
  },
  {
   "cell_type": "code",
   "execution_count": null,
   "metadata": {},
   "outputs": [],
   "source": [
    "x = 5\n",
    "y = 6\n",
    "function my_function()\n",
    "    x = 10\n",
    "    global y = 12\n",
    "end\n",
    "\n",
    "my_function()\n",
    "x, y"
   ]
  },
  {
   "cell_type": "markdown",
   "metadata": {},
   "source": [
    "### Task 6g:"
   ]
  },
  {
   "cell_type": "code",
   "execution_count": null,
   "metadata": {},
   "outputs": [],
   "source": [
    "x = 0\n",
    "while true\n",
    "    x += 1\n",
    "    (x == 15) && break\n",
    "    (x % 5 == 0) && continue\n",
    "    !(x % 4 == 0) || println(\"---\")\n",
    "    println(x)\n",
    "end"
   ]
  },
  {
   "cell_type": "markdown",
   "metadata": {},
   "source": [
    "### Task 6h:"
   ]
  },
  {
   "cell_type": "code",
   "execution_count": null,
   "metadata": {},
   "outputs": [],
   "source": [
    "a = collect(1:5)\n",
    "println(a[3:end])\n",
    "println(a[3:end-1])\n",
    "println(a[:])"
   ]
  },
  {
   "cell_type": "markdown",
   "metadata": {},
   "source": [
    "### Task 6i:"
   ]
  },
  {
   "cell_type": "code",
   "execution_count": null,
   "metadata": {},
   "outputs": [],
   "source": [
    "a = [i+j for i in 1:5, j in 1:5]\n",
    "display(a[2:4,4:end])\n",
    "display(a[1,:])\n",
    "display(a[:,end])\n",
    "println( (min(a...), minimum(a), maximum(a), max(a...)) )"
   ]
  },
  {
   "cell_type": "markdown",
   "metadata": {},
   "source": [
    "### Task 6j:"
   ]
  },
  {
   "cell_type": "code",
   "execution_count": null,
   "metadata": {},
   "outputs": [],
   "source": [
    "n = 5\n",
    "function f(x)\n",
    "    if x == n\n",
    "        return 0\n",
    "    else\n",
    "        return f(x+1) + 1\n",
    "    end\n",
    "end\n",
    "\n",
    "f(0)"
   ]
  },
  {
   "cell_type": "markdown",
   "metadata": {},
   "source": [
    "### Task 6k:"
   ]
  },
  {
   "cell_type": "code",
   "execution_count": null,
   "metadata": {},
   "outputs": [],
   "source": [
    "function f(x)\n",
    "    x[2] = \"two\"\n",
    "end\n",
    "\n",
    "a = [\"hello\",2,[2,3],:my_symbol,2.5]\n",
    "f(a)\n",
    "a"
   ]
  }
 ],
 "metadata": {
  "kernelspec": {
   "display_name": "Julia 1.6.0",
   "language": "julia",
   "name": "julia-1.6"
  },
  "language_info": {
   "file_extension": ".jl",
   "mimetype": "application/julia",
   "name": "julia",
   "version": "1.6.0"
  }
 },
 "nbformat": 4,
 "nbformat_minor": 4
}
