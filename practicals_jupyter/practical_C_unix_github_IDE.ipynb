{
 "cells": [
  {
   "cell_type": "markdown",
   "metadata": {},
   "source": [
    "# [MATH2504 Programming of Simulation, Analysis, and Learning Systems at The University of Queensland](https://courses.smp.uq.edu.au/MATH2504/)\n",
    "\n",
    "## Semester 2, 2021\n",
    "\n",
    "# Practical C: Unix, GitHub and IDE\n",
    "\n",
    "In this practical we work on using using git, GitHub, Unix commands for file manipulation and git, and basic IDE usage (Visual Studio Code)."
   ]
  },
  {
   "cell_type": "markdown",
   "metadata": {},
   "source": [
    "**Before the practical**:\n",
    "* Setup a [GitHub](https://github.com/) account.\n",
    "* For Windows users, it is highly recommended to have [GitBash](https://gitforwindows.org/) installed. When you install, use the default options and give the app permissions it asks for.\n",
    "* For Mac or Linux users, it is highly recommended to [install Git](https://git-scm.com/book/en/v2/Getting-Started-Installing-Git) prior.\n",
    "* Install [VS-Code](https://code.visualstudio.com/) if you haven't prior.\n",
    "* Install [Julia for VS-Code](https://www.julia-vscode.org/) and get it running (create a `hello-world.jl` file and see you can run it in VS-Code. "
   ]
  },
  {
   "cell_type": "markdown",
   "metadata": {},
   "source": [
    "### Basic Unix Commands"
   ]
  },
  {
   "cell_type": "markdown",
   "metadata": {},
   "source": [
    "1. Open your terminal (Linux/Mac) or GitBash (Windows).\n",
    "1. Change to your home directory with `cd ~`.\n",
    "1. Make a directory `prac_c_work` with `mkdir prac_c_work`.\n",
    "1. Go into that directory using `cd prac_c_work`.\n",
    "1. Now you will make a directory tree which will have a parent directory `Australia`, and inside it, you'll have `NSW`, `QLD`, `NT`, `ACT`, `SA`, `WA`, `TAS` directories. Try to create these directories with two mkdir commands, and without changing directory. One way to do so on BASH is:\n",
    "```\n",
    "mkdir Australia\n",
    "mkdir Australia/{NSW,QLD,NT,ACT,SA,WA,TAS}\n",
    "```\n",
    "1. Now create 6 files, each named as `capital.txt`, and each residing in the respective sub-directory of the state. The content of each file should be the name of the respective capital. For example, \n",
    "```\n",
    "echo \"Brisbane\" > Australia/QLD\n",
    "```\n",
    "For some of the capitals use output via `echo` with redirection (`>`) as above, and for others use VS-code and save the file in the respective place. As you create these files, use `ls` (also with the flags `-a`, `-R`, and `-l` to insepect the contents of the directories.\n",
    "1. Now change directory into `~/Australia/ACT` and use `pwd` just to double check that it is your current directory.\n",
    "1. From this location do the following:\n",
    "\n",
    "* Using `rm`, delete the capital file in the Queensland directory using an absolute path.\n",
    "\n",
    "* Delete the capital file in the New South Wales directory using a relative path (from where you are).\n",
    "\n",
    "* Change the name of the South Australia capital file to `Capital.txt` (upper case first letter), use a relative path.\n",
    "\n",
    "* Append \"` is very far west`\" to the contents of the Western Australia capital file using `>>` and echo.\n",
    "\n",
    "9. Now change back to your home directory using `cd` or `cd ~`. Then use `cp` to copy the file from the Western Australia directory into your current directory. \n",
    "\n",
    "10. Use `history` to see the history of commands you used.\n",
    "11. Use `history | grep mkdir` to see the lines of commands that included \"`mkdir`\". The `|` character is a pipe directing the output of the history command into the input of the `grep` command."
   ]
  },
  {
   "cell_type": "markdown",
   "metadata": {},
   "source": [
    "Note that the above is only a taste of basic Unix command line usage. There is a bit more in HW2, and you can experiment much more by yourself. You will now use it with **git**."
   ]
  },
  {
   "cell_type": "markdown",
   "metadata": {},
   "source": [
    "### Working with Git and GitHub"
   ]
  },
  {
   "cell_type": "markdown",
   "metadata": {},
   "source": [
    "#### Creating a repo via GitHub and cloning it to a local copy:\n",
    "\n",
    "1. Go to GitHub.com (login if needed) and click the \"New\" green button to create a new repository. \n",
    "* Call it `prac_C_test_<<XYZ>>` where `<<XYZ>>` is some arbitrary 3 digit number of your choice.\n",
    "* Give it a short description.\n",
    "* Choose if to make it public or private. \n",
    "* Add a README (select box).\n",
    "* Add a .gitignore file (e.g. Julia).\n",
    "* Choose a licencse (e.g. MIT).\n",
    "\n",
    "2. In your shell/terminal/GitBash change directory to `~/prac_c_work`. Then run,\n",
    "```\n",
    "git clone <<REPO URL>>\n",
    "```\n",
    "where `<<REPO URL>>` is copied from the GitHub repo under \"Code -> Clone -> HTTPS tab\".\n",
    "\n",
    "This will create a folder with the name of your repo e.g. `prac_C_test_123`.\n",
    "\n",
    "3. Now change directory so that your current working direcotry is `prac_C_test_123` (or whatever name your repository has).\n",
    "\n",
    "4. Run `git status` to see the status of the repository."
   ]
  },
  {
   "cell_type": "markdown",
   "metadata": {},
   "source": [
    "#### Making local changes, comitting locally, pushing\n",
    "\n",
    "Now that you have a local repository, let's make some changes. \n",
    "\n"
   ]
  },
  {
   "cell_type": "markdown",
   "metadata": {},
   "source": [
    "1. Create a `src` directory using `mkdir`.\n",
    "1. Now run `code .`. This starts VS-code on the working directory. If VS-Code is not in your search path on the terminal, then run it via other means and then in VS-Code choose `File->Add Folder to Workspace`.\n",
    "1. Create a file `hello.jl` in the `src` folder. Have one or two lines in the files that create basic output (e.g. \"hello world\"). After you save the file it will be \"pretty formatted\" for Julia (assuming \"Julia for VS-code\" is installed). Now hit `[SHIFT] + [ENTER]` to run the file.\n",
    "1. Now go back to the shell and run `git status`. You'll see the `src` folder in red as \"untracked\n",
    "1. Then run `git add .` and afterwards again `git status`. You'll see `src/hello.jl` in green (the staging area).\n",
    "1. Now run `git commit -m \"hello\"`. This adds a commit message `\"hello\"` to the commit and commits the change to the repository.\n",
    "1. Now run `git status` again.\n",
    "1. Now `git push`."
   ]
  },
  {
   "cell_type": "markdown",
   "metadata": {},
   "source": [
    "### Working with Visual Studio Code"
   ]
  },
  {
   "cell_type": "markdown",
   "metadata": {},
   "source": [
    "See https://www.julia-vscode.org/docs/stable/"
   ]
  }
 ],
 "metadata": {
  "kernelspec": {
   "display_name": "Julia 1.6.0",
   "language": "julia",
   "name": "julia-1.6"
  },
  "language_info": {
   "file_extension": ".jl",
   "mimetype": "application/julia",
   "name": "julia",
   "version": "1.6.0"
  }
 },
 "nbformat": 4,
 "nbformat_minor": 4
}
