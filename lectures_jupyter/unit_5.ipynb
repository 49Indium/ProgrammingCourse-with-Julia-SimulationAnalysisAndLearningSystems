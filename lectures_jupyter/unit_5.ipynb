{
 "cells": [
  {
   "cell_type": "markdown",
   "metadata": {},
   "source": [
    "# Unit 5: Computer Algebra Systems and Symbolic Computation"
   ]
  },
  {
   "cell_type": "markdown",
   "metadata": {},
   "source": [
    "$\\newcommand{\\RR}{\\mathcal{R}}$\n",
    "$\\newcommand{\\FF}{\\mathbb{F}}$\n",
    "$\\newcommand{\\QQ}{\\mathbb{Q}}$\n",
    "$\\newcommand{\\ZZ}{\\mathbb{Z}}$\n",
    "$\\newcommand{\\NN}{\\mathbb{N}}$\n",
    "$\\newcommand{\\PP}{\\mathbb{P}}$\n",
    "$\\renewcommand{\\cong}{\\equiv}$\n",
    "$\\renewcommand{\\mod}{\\bmod}$"
   ]
  },
  {
   "cell_type": "markdown",
   "metadata": {},
   "source": [
    "## Symbolic Computation\n",
    "\n",
    "To compute *exactly* means no error is introduced during arithmetic --- something *not* true when working with floats.  In a computer algebra system `sqrt(2) = sqrt(2)` and not `sqrt(2) = 1.41\\ldots` as one may expect.\n",
    "\n",
    "Our interest is performing *exact* arithmetic in rings with efficient algorithms.  In particular we are interested in the: *ring of integers* \n",
    "$$\\ZZ = \\{0, -1, 1, 2, -2, 3, -3, \\ldots \\}$$\n",
    "and *polynomials* \n",
    "$$\\RR[x] = \\left\\{ \\sum_{k=0}^{N} a_kx^k \\, : \\, k \\in \\NN,\\, a_k \\in \\RR \\right\\}.$$"
   ]
  },
  {
   "cell_type": "markdown",
   "metadata": {},
   "source": [
    "---\n",
    "## Preliminaries\n",
    "Let $\\NN = \\{0,1,2,\\ldots\\}$ be the set of *natural numbers*, $\\ZZ = \\{\\ldots,-2,-1,0,1,2,\\ldots\\}$ be the *integers* and $\\PP$ be the set of odd primes.\n",
    "\n",
    "##### Definition (Ring)\n",
    "\n",
    "A ring $\\RR$ is a set with addtion $(+)$ and multiplciation $(\\cdot)$ satisfying the following conditions called the *ring axioms*:\n",
    "\n",
    "1. $(\\RR,+)$ is an abelian group, that is:\n",
    "    - $(+)$ is associative *and* commutative,\n",
    "    - $\\exists b \\in \\RR$ called the *additive identity* satisfying $\\forall a \\in \\RR \\; a + b = a$,\n",
    "    - $\\forall a \\in \\RR\\; \\exists b \\in \\RR$ called the *additive inverse* satisfying $a + b = 0$.\n",
    "2.  $(\\RR,\\cdot)$ is a monoid, that is:\n",
    "    -  $(\\cdot)$ is associative, and\n",
    "    -  $\\exists b \\in \\RR$ called the *multiplicative identity* satisfying $\\forall a \\in \\RR; \\; a \\cdot b = b \\cdot a = a$\n",
    "3.  Multiplication *distributes* over addition.  That is, $\\forall a,b,c \\in \\RR$:\n",
    "    - $a \\cdot (b+c) = (a \\cdot b) + (a \\cdot c)$\n",
    "    - $(b+c) \\cdot a = (b \\cdot a) + (c \\cdot a)$\n",
    "---\n",
    "\n",
    "##### Definition (Field)\n",
    "A ring $\\RR$ is also a *field* when each non-zero element has a *multiplicative inverse*.  Equivalently, $\\RR$ is a ring when\n",
    "$$\n",
    "\\forall a \\in \\RR^{\\neq 0};\\; \\exists b \\in \\RR \\; : \\; a \\cdot b.\n",
    "$$\n",
    "\n",
    "For instance, the *rationals* $$\\QQ = \\left\\{ \\frac{a}{b} \\,:\\, a,b \\in \\ZZ, \\, b \\neq 0 \\right\\}$$\n",
    "is a field because $\\frac a b \\cdot \\frac b a = 1$ when $a,b \\neq 0$.\n",
    "\n",
    "---\n",
    "\n",
    "##### Theorem (Division Algorithm)\n",
    "Let $a,b \\in \\ZZ$ with $b > 0$.  There is *unique* $q$ and $r$ (called the *quotient* and *remainder*) satisfying\n",
    "$$a = b \\cdot q + r.$$\n",
    "\n",
    "**Proof (Existence)**"
   ]
  },
  {
   "cell_type": "code",
   "execution_count": 1,
   "metadata": {},
   "outputs": [
    {
     "name": "stdout",
     "output_type": "stream",
     "text": [
      "q = 3\n",
      "Int(floor(a / b)) = 3\n",
      "r = 2\n"
     ]
    }
   ],
   "source": [
    "# An example\n",
    "a = 23\n",
    "b = 7\n",
    "q = a ÷ b # \\div + [TAB]\n",
    "@show q\n",
    "@show Int(floor(a/b))\n",
    "\n",
    "r = a % 3 \n",
    "@show r;"
   ]
  },
  {
   "cell_type": "code",
   "execution_count": 2,
   "metadata": {},
   "outputs": [
    {
     "data": {
      "text/plain": [
       "remainder (generic function with 1 method)"
      ]
     },
     "execution_count": 2,
     "metadata": {},
     "output_type": "execute_result"
    }
   ],
   "source": [
    "function remainder(a::T,b::T) where T <: Int #Note that later we'll extend this to integral domains\n",
    "    a < 0 && return remainder(-a,b) #short circuit evalution  #later replace `0` with `zero(T)`\n",
    "    a < b && return a\n",
    "    return remainder(a-b,b)\n",
    "end"
   ]
  },
  {
   "cell_type": "code",
   "execution_count": 3,
   "metadata": {},
   "outputs": [
    {
     "data": {
      "text/plain": [
       "(2, 2, 2, 2)"
      ]
     },
     "execution_count": 3,
     "metadata": {},
     "output_type": "execute_result"
    }
   ],
   "source": [
    "#note there is an in-built `rem`\n",
    "remainder(23,7), rem(23,7), 23 % 7, 23- (23 ÷ 7)*7"
   ]
  },
  {
   "cell_type": "code",
   "execution_count": 4,
   "metadata": {},
   "outputs": [
    {
     "data": {
      "text/plain": [
       "(0, 4, 1)"
      ]
     },
     "execution_count": 4,
     "metadata": {},
     "output_type": "execute_result"
    }
   ],
   "source": [
    "remainder(15,5), remainder(4,101), remainder(125,4)"
   ]
  },
  {
   "cell_type": "code",
   "execution_count": 5,
   "metadata": {},
   "outputs": [
    {
     "data": {
      "text/plain": [
       "quo (generic function with 1 method)"
      ]
     },
     "execution_count": 5,
     "metadata": {},
     "output_type": "execute_result"
    }
   ],
   "source": [
    "function quo(a::T,b::T) where T <: Int\n",
    "    a < 0 && return -quo(-a,b)\n",
    "    a < b && return 0\n",
    "    return 1 + quo(a-b, b)\n",
    "end"
   ]
  },
  {
   "cell_type": "code",
   "execution_count": 6,
   "metadata": {},
   "outputs": [
    {
     "data": {
      "text/plain": [
       "(3, 0, 31)"
      ]
     },
     "execution_count": 6,
     "metadata": {},
     "output_type": "execute_result"
    }
   ],
   "source": [
    "quo(15,5), quo(4,101), quo(125,4)"
   ]
  },
  {
   "cell_type": "code",
   "execution_count": 7,
   "metadata": {},
   "outputs": [
    {
     "name": "stdout",
     "output_type": "stream",
     "text": [
      "(a, b, q, r, a == b * q + r) = (15, 5, 3, 0, true)\n",
      "(a, b, q, r, a == b * q + r) = (4, 101, 0, 4, true)\n",
      "(a, b, q, r, a == b * q + r) = (125, 4, 31, 1, true)\n"
     ]
    }
   ],
   "source": [
    "for (a,b) in [(15,5), (4,101), (125,4)]\n",
    "    q, r = quo(a, b), rem(a, b)\n",
    "    @show (a, b, q, r, a == b * q + r)\n",
    "end"
   ]
  },
  {
   "cell_type": "markdown",
   "metadata": {},
   "source": [
    "Of course, in Julia we have `%` and `÷` for remainder and  and quotient.\n",
    "\n",
    "(Note that in Python `//` is the quotient whereas in Julia `//` defines a rational type)."
   ]
  },
  {
   "cell_type": "code",
   "execution_count": 8,
   "metadata": {},
   "outputs": [
    {
     "data": {
      "text/plain": [
       "(2//3, 0.6666666666666666)"
      ]
     },
     "execution_count": 8,
     "metadata": {},
     "output_type": "execute_result"
    }
   ],
   "source": [
    "2 // 3, float(2//3)"
   ]
  },
  {
   "cell_type": "markdown",
   "metadata": {},
   "source": [
    "---\n",
    "## Elementary Number Theory\n",
    "\n",
    "The sets $\\ZZ_n = \\{0,1,\\ldots,n-1\\}$ for $n \\in \\NN$ are rings called *residue classes* when addition and multiplication are done 'mod n'.  This is sometimes called 'clock arithmetic' as three hours past eleven is two because $11 + 3 \\cong 2 \\mod 12$. \n",
    "\n",
    "We say/write \n",
    "$$a \\cong b \\mod c$$ \n",
    "when *$a$ is congruent to $b$ modulo $c$*.  Also:\n",
    "$$a \\cong b \\mod c \\iff \\mathop{\\textrm{rem}}(a,c) = b \\iff \\texttt{a % c = b}.$$\n",
    "\n"
   ]
  },
  {
   "cell_type": "code",
   "execution_count": 9,
   "metadata": {},
   "outputs": [
    {
     "data": {
      "text/plain": [
       "0x01"
      ]
     },
     "execution_count": 9,
     "metadata": {},
     "output_type": "execute_result"
    }
   ],
   "source": [
    "# We have already seen something similar with overflow, for example:\n",
    "UInt8(253) + UInt8(4)"
   ]
  },
  {
   "cell_type": "code",
   "execution_count": 10,
   "metadata": {},
   "outputs": [
    {
     "data": {
      "text/plain": [
       "0x10"
      ]
     },
     "execution_count": 10,
     "metadata": {},
     "output_type": "execute_result"
    }
   ],
   "source": [
    "UInt8(16) * UInt8(17)"
   ]
  },
  {
   "cell_type": "markdown",
   "metadata": {},
   "source": [
    "---\n",
    "\n",
    "#### Example\n",
    "$\\ZZ_6 = \\{0,\\ldots,5\\}$ has the following addition table"
   ]
  },
  {
   "cell_type": "code",
   "execution_count": 11,
   "metadata": {},
   "outputs": [
    {
     "data": {
      "text/plain": [
       "0:5"
      ]
     },
     "execution_count": 11,
     "metadata": {},
     "output_type": "execute_result"
    }
   ],
   "source": [
    "n = 6\n",
    "Z_n = 0:(n-1)"
   ]
  },
  {
   "cell_type": "code",
   "execution_count": 12,
   "metadata": {},
   "outputs": [
    {
     "data": {
      "text/plain": [
       "UnitRange{Int64}"
      ]
     },
     "execution_count": 12,
     "metadata": {},
     "output_type": "execute_result"
    }
   ],
   "source": [
    "typeof(Z_n)"
   ]
  },
  {
   "cell_type": "code",
   "execution_count": 13,
   "metadata": {},
   "outputs": [
    {
     "data": {
      "text/plain": [
       "6×6 Matrix{Int64}:\n",
       " 0  1  2  3  4  5\n",
       " 1  2  3  4  5  0\n",
       " 2  3  4  5  0  1\n",
       " 3  4  5  0  1  2\n",
       " 4  5  0  1  2  3\n",
       " 5  0  1  2  3  4"
      ]
     },
     "execution_count": 13,
     "metadata": {},
     "output_type": "execute_result"
    }
   ],
   "source": [
    "A = [(x+y) % n for y in Z_n, x in Z_n]"
   ]
  },
  {
   "cell_type": "markdown",
   "metadata": {},
   "source": [
    "Notice: \n",
    " 1.  the addition table is symmetric (equal to its transpose) which can only happen when the addition is commutative,\n",
    " 1.  the additive identity is $0$,\n",
    " 1.  each column (and row) has $0$ and thereby each element has an additive inverse: for instance, the third column indicates that $2$ has additive inverse $4$ and correspondingly $2 + 4 \\cong 0 \\mod 6$."
   ]
  },
  {
   "cell_type": "code",
   "execution_count": 14,
   "metadata": {},
   "outputs": [
    {
     "name": "stdout",
     "output_type": "stream",
     "text": [
      "[0, 5, 4, 3, 2, 1]\n"
     ]
    }
   ],
   "source": [
    "additive_inverses = [findfirst((A .== 0)[:,k+1])-1 for k in Z_n] #Can this be done more nicely?\n",
    "println(additive_inverses)"
   ]
  },
  {
   "cell_type": "markdown",
   "metadata": {},
   "source": [
    "$\\ZZ_6$ has the following multiplication table"
   ]
  },
  {
   "cell_type": "code",
   "execution_count": 15,
   "metadata": {},
   "outputs": [
    {
     "data": {
      "text/plain": [
       "6×6 Matrix{Int64}:\n",
       " 0  0  0  0  0  0\n",
       " 0  1  2  3  4  5\n",
       " 0  2  4  0  2  4\n",
       " 0  3  0  3  0  3\n",
       " 0  4  2  0  4  2\n",
       " 0  5  4  3  2  1"
      ]
     },
     "execution_count": 15,
     "metadata": {},
     "output_type": "execute_result"
    }
   ],
   "source": [
    "M = [(x*y) % n for y in Z_n, x in Z_n]"
   ]
  },
  {
   "cell_type": "markdown",
   "metadata": {},
   "source": [
    "Notice:\n",
    "1.  the multiplicative identity is $1$,\n",
    "1.  not all rows contain one, which means there are some elements that do *not* have *multiplicative inverse*.  For instance there is no $b \\in \\ZZ_6$ such that $2 \\cdot b \\cong 1 \\mod 6$."
   ]
  },
  {
   "cell_type": "code",
   "execution_count": 16,
   "metadata": {},
   "outputs": [
    {
     "name": "stdout",
     "output_type": "stream",
     "text": [
      "[0, 2, 4, 0, 2, 4]\n"
     ]
    }
   ],
   "source": [
    "println([(2*y) % n for y in Z_n])"
   ]
  },
  {
   "cell_type": "code",
   "execution_count": 17,
   "metadata": {},
   "outputs": [
    {
     "name": "stdout",
     "output_type": "stream",
     "text": [
      "Elements with a multiplicative inverse: [1, 5]\n",
      "Elements withoout a multiplicative inverse: [0, 2, 3, 4]\n"
     ]
    }
   ],
   "source": [
    "mult_inverses = Z_n[[sum((M .== 1)[:,k+1]) > 0 for k in Z_n]] #Can this be done more nicely?\n",
    "println(\"Elements with a multiplicative inverse: \", mult_inverses )\n",
    "println(\"Elements withoout a multiplicative inverse: \", setdiff(Z_n,mult_inverses))"
   ]
  },
  {
   "cell_type": "markdown",
   "metadata": {},
   "source": [
    "---\n",
    "\n",
    "Notice $\\ZZ_6$ is *not* a field because, recall, there is no multiplicative inverse for $2$.  However, $\\ZZ_p$ is a field when $p$ is a prime number.\n",
    "\n",
    "##### Example\n",
    "\n",
    "$\\ZZ_5 = \\{0,\\ldots,5\\}$ is a field and has the following multiplication table. "
   ]
  },
  {
   "cell_type": "code",
   "execution_count": 18,
   "metadata": {},
   "outputs": [
    {
     "data": {
      "text/plain": [
       "0:4"
      ]
     },
     "execution_count": 18,
     "metadata": {},
     "output_type": "execute_result"
    }
   ],
   "source": [
    "n = 5\n",
    "Z_n = 0:(n-1)"
   ]
  },
  {
   "cell_type": "code",
   "execution_count": 19,
   "metadata": {},
   "outputs": [
    {
     "data": {
      "text/plain": [
       "5×5 Matrix{Int64}:\n",
       " 0  0  0  0  0\n",
       " 0  1  2  3  4\n",
       " 0  2  4  1  3\n",
       " 0  3  1  4  2\n",
       " 0  4  3  2  1"
      ]
     },
     "execution_count": 19,
     "metadata": {},
     "output_type": "execute_result"
    }
   ],
   "source": [
    "M = [(x*y) % n for y in Z_n, x in Z_n]"
   ]
  },
  {
   "cell_type": "code",
   "execution_count": 20,
   "metadata": {},
   "outputs": [
    {
     "name": "stdout",
     "output_type": "stream",
     "text": [
      "Elements with a multiplicative inverse: [1, 2, 3, 4]\n",
      "Elements withoout a multiplicative inverse: [0]\n"
     ]
    }
   ],
   "source": [
    "mult_inverses = Z_n[[sum((M .== 1)[:,k+1]) > 0 for k in Z_n]] #Can this be done more nicely?\n",
    "println(\"Elements with a multiplicative inverse: \", mult_inverses )\n",
    "println(\"Elements withoout a multiplicative inverse: \", setdiff(Z_n,mult_inverses))"
   ]
  },
  {
   "cell_type": "markdown",
   "metadata": {},
   "source": [
    "Notice every column (and row) contains $1$ asides the first column (and row) which corresponds to $0$.  For instance, the third column indicates the inverse of $3$ is $2$ and correspondingly $3 \\cdot 2 \\cong 1 \\mod 5$.\n",
    "\n",
    "---"
   ]
  },
  {
   "cell_type": "markdown",
   "metadata": {},
   "source": [
    "### Greatest Common Divisor\n",
    "\n",
    "The *greatest common divisor* is one of the fundamental operations of a computer algebra system.  For instance, we need `gcd` to reduce fractions to their canonical form.\n",
    "\n",
    "##### Def (GCD)\n",
    "\n",
    "Let $a,b \\in \\ZZ$ not both 0.  We say $g \\in \\ZZ$ is the *greatest common divsor* of $a$ and $b$, denoted $\\gcd(a,b)$, when\n",
    "1.  $g | a$ and $g | b$ ($g$ is a common divisor), \n",
    "1.  $h | a \\;\\wedge\\; h | b \\implies h | g$ (greatest),\n",
    "1.  $g > 0$ (required for uniqueness) \n",
    "\n",
    "##### Example (GCD)\n",
    "The $\\gcd(6,4) = \\gcd(2\\cdot 3, 2 \\cdot 2) = 2$.\n",
    "\n",
    "---"
   ]
  },
  {
   "cell_type": "code",
   "execution_count": 21,
   "metadata": {},
   "outputs": [
    {
     "name": "stdout",
     "output_type": "stream",
     "text": [
      "(a_test, b_test) = (884473730, 11119680)\n"
     ]
    },
    {
     "data": {
      "text/plain": [
       "10"
      ]
     },
     "execution_count": 21,
     "metadata": {},
     "output_type": "execute_result"
    }
   ],
   "source": [
    "#The is an in-built gcd() function for integers (and a few more types) \n",
    "#but we'll soon make our own\n",
    "using Random; Random.seed!(0)\n",
    "a_test = *(rand(1:100,5)...)\n",
    "b_test = *(rand(1:100,5)...)\n",
    "@show a_test, b_test\n",
    "gcd(a_test, b_test)"
   ]
  },
  {
   "cell_type": "markdown",
   "metadata": {},
   "source": [
    "#### Euclid's Algorithm\n",
    "\n",
    "The **Euclidean Algorithm** computes the gcd of two integers.  (Actually the Euclidean Algorithm computers gcds for any two elements of a *Euclidean Domain*).  The algorithm exploits the following property of the gcd:\n",
    "\n",
    "##### Lemma\n",
    "Let $a,b\\in \\ZZ$ and $a>0$, $b>0$ and $a = b\\cdot q + r$ with $r \\in [0,b)$.  Then\n",
    "1.  $\\gcd(b,a) = \\gcd(a,b)$,\n",
    "1.  $\\gcd(a,b) = gcd(r,b)$,\n",
    "1.  $\\gcd(a,b) = \\gcd(a-b,b)$.\n",
    "\n",
    "Is is straightforward to turn this lemma into an algorithm:"
   ]
  },
  {
   "cell_type": "code",
   "execution_count": 22,
   "metadata": {},
   "outputs": [
    {
     "data": {
      "text/plain": [
       "(2, 3, 1)"
      ]
     },
     "execution_count": 22,
     "metadata": {},
     "output_type": "execute_result"
    }
   ],
   "source": [
    "function euclid_alg(a,b)\n",
    "    (b == 0) && return a\n",
    "    return euclid_alg(b, a % b)\n",
    "end\n",
    "\n",
    "euclid_alg(2, 2*2), euclid_alg(2*3, 3*7), euclid_alg(2*2, 13)"
   ]
  },
  {
   "cell_type": "code",
   "execution_count": 23,
   "metadata": {},
   "outputs": [
    {
     "data": {
      "text/plain": [
       "(10, 10)"
      ]
     },
     "execution_count": 23,
     "metadata": {},
     "output_type": "execute_result"
    }
   ],
   "source": [
    "gcd(a_test, b_test), euclid_alg(a_test,b_test)"
   ]
  },
  {
   "cell_type": "markdown",
   "metadata": {},
   "source": [
    "--- \n",
    "\n",
    "#### Extended Euclid's Algorithm\n",
    "\n",
    "The **Extended Euclidean Algorithm** in addition to the **gcd(a, b)**, also computes $s$ and $t$ such that\n",
    "$$as + bt = gcd(a,b).$$"
   ]
  },
  {
   "cell_type": "code",
   "execution_count": 24,
   "metadata": {},
   "outputs": [
    {
     "name": "stdout",
     "output_type": "stream",
     "text": [
      "4 × 1 + 12 × 0 = 4\n",
      "9 × -1 + 12 × 1 = 3\n",
      "4 × -3 + 13 × 1 = 1\n"
     ]
    }
   ],
   "source": [
    "function ext_euclid_alg(a,b)\n",
    "    a == 0 && return b, 0, 1\n",
    "    g, s, t = ext_euclid_alg(b % a, a)\n",
    "    return g, t - (b ÷ a)*s, s\n",
    "end\n",
    "\n",
    "pretty_print_egcd((a,b),(g,s,t)) = println(\"$a × $s + $b × $t = $g\") #\\times + [TAB]\n",
    "\n",
    "for (a,b) in [(4,12), (9,12), (4,13)]\n",
    "    pretty_print_egcd((a,b),ext_euclid_alg(a,b))\n",
    "end"
   ]
  },
  {
   "cell_type": "code",
   "execution_count": 25,
   "metadata": {},
   "outputs": [
    {
     "data": {
      "text/plain": [
       "((10, 293957, -23381720), (10, 293957, -23381720))"
      ]
     },
     "execution_count": 25,
     "metadata": {},
     "output_type": "execute_result"
    }
   ],
   "source": [
    "#Note there is an in-built gcdx - let's compare against that too\n",
    "gcdx(a_test,b_test), ext_euclid_alg(a_test,b_test)"
   ]
  },
  {
   "cell_type": "markdown",
   "metadata": {},
   "source": [
    "--- \n",
    "\n",
    "### Inversion in $\\ZZ_m$\n",
    "\n",
    "Notice the Extended Euclidean Algorithm computes inverses in $\\ZZ_m$.  Given $a \\in \\ZZ_m^{\\neq 0}$ the $egcd(a,m)$ returns $s$ and $t$ such that\n",
    "$$a \\cdot s + m \\cdot t = gcd(a,m).$$\n",
    "Taking the entire equation $\\mod m$ we get\n",
    "$$a \\cdot s + m \\cdot t \\cong \\gcd(a,m) \\mod m \\implies a \\cdot s + 0 \\cong \\gcd(a,m) \\mod m \\implies a \\cdot s \\cong \\gcd(a,m) \\mod m.$$\n",
    "Provided $\\gcd(a,m) = 1$ (i.e. \"coprime\" or \"relatively prime\") we get $a \\cdot s \\cong 1 \\mod m$ and thus $a^{-1} \\cong s \\mod m$.\n",
    "\n",
    "##### Example\n",
    "To find the inverse of $5 \\in \\ZZ_{13}$ do:"
   ]
  },
  {
   "cell_type": "code",
   "execution_count": 33,
   "metadata": {},
   "outputs": [
    {
     "data": {
      "text/plain": [
       "(5, 13)"
      ]
     },
     "execution_count": 33,
     "metadata": {},
     "output_type": "execute_result"
    }
   ],
   "source": [
    "a, m = 5, 13"
   ]
  },
  {
   "cell_type": "code",
   "execution_count": 34,
   "metadata": {},
   "outputs": [],
   "source": [
    "inverse_mod(a,m) = mod(ext_euclid_alg(a,m)[2],m);"
   ]
  },
  {
   "cell_type": "code",
   "execution_count": 35,
   "metadata": {},
   "outputs": [
    {
     "data": {
      "text/plain": [
       "8"
      ]
     },
     "execution_count": 35,
     "metadata": {},
     "output_type": "execute_result"
    }
   ],
   "source": [
    "i = inverse_mod(a,m)"
   ]
  },
  {
   "cell_type": "code",
   "execution_count": 36,
   "metadata": {},
   "outputs": [
    {
     "data": {
      "text/plain": [
       "1"
      ]
     },
     "execution_count": 36,
     "metadata": {},
     "output_type": "execute_result"
    }
   ],
   "source": [
    "mod(a*i,m)"
   ]
  },
  {
   "cell_type": "markdown",
   "metadata": {},
   "source": [
    "---"
   ]
  },
  {
   "cell_type": "markdown",
   "metadata": {},
   "source": [
    "---\n",
    "### Chinese Remaindering\n",
    "\n",
    "##### Problem Statement\n",
    "Two integers $a$ and $b$ are *relatively prime* when $\\gcd(a,b) = 1$.  Given a finite sequence of relatively prime integers $m_1,\\ldots,m_k$ called the *moduli* and correspoing integers $u_1,\\ldots,u_k$ called the *images*, find $u \\in \\ZZ$ such that\n",
    "\\begin{align*}\n",
    "u &\\cong u_1 \\mod m_1 \\\\\n",
    "u &\\cong u_2 \\mod m_2 \\\\\n",
    "&\\; \\vdots \\\\\n",
    "u &\\cong u_k \\mod m_k\n",
    "\\end{align*}\n",
    "\n",
    "For example, given the following information\n",
    "\\begin{align*}\n",
    "u &\\cong 4 \\mod 5 &\\implies&& (u_1,\\, m_1) &= (4,\\, 5)\\\\\n",
    "u &\\cong 5 \\mod 7 &\\implies&& (u_2,\\, m_2) &= (5,\\, 7)\n",
    "\\end{align*}\n",
    "we want to deduce $u = 19$ because"
   ]
  },
  {
   "cell_type": "code",
   "execution_count": 37,
   "metadata": {},
   "outputs": [
    {
     "data": {
      "text/plain": [
       "(true, true)"
      ]
     },
     "execution_count": 37,
     "metadata": {},
     "output_type": "execute_result"
    }
   ],
   "source": [
    "(19 % 5 == 4, 19 % 7 == 5)"
   ]
  },
  {
   "cell_type": "markdown",
   "metadata": {},
   "source": [
    "---\n",
    "##### Theorem (CRT)\n",
    "\n",
    "Let $M = m_1 \\cdot m_2 \\cdots \\cdot m_k$.  There exists a unique $u \\in \\ZZ$ on $\\{0,\\ldots,M-1\\}$ such that $u \\cong u_i \\mod m_i$ for $i = 1,\\ldots,k$."
   ]
  },
  {
   "cell_type": "markdown",
   "metadata": {},
   "source": [
    "**Proof of Existence**:\n",
    "\n",
    "(This is a constructive proof which provides an algorithm for determining $u$).\n",
    "\n",
    "Let $u = v_1 + v_2m_1 + v_3m_1m_2 + \\cdots + v_{k+1} m_1 m_2 \\cdots m_{k}$ and notice the vanishing terms after reducing $u$ modulo $m_k$:\n",
    "$$\n",
    "u \\mod m_j = v_1 + v_2m_1 + \\cdots + v_{j+1}m_1\\cdots m_{j} + 0 + \\cdots + 0\n",
    "$$"
   ]
  },
  {
   "cell_type": "markdown",
   "metadata": {},
   "source": [
    "We have\n",
    "\\begin{align*}\n",
    "u_1 &\\cong v_1 \\mod m_1 &&\\implies v_1 \\gets u_1 \\\\\n",
    "u_2 &\\cong v_1 + v_2 m_1 \\mod m_2 &&\\implies v_2 \\gets (u_2 - v_1) \\cdot (m_1)^{-1} \\mod m_2 \\\\\n",
    "u_3 &\\cong v_1 + v_2 m_1 + v_3 m_1 m_2 \\mod m_3 &&\\implies v_3 \\gets (u_3-v_1-v_2 m_1)(m_1 m_2)^{-1} \\mod m_3\\\\\n",
    "&\\;\\,\\vdots\n",
    "\\end{align*}\n",
    "\n",
    "**Proof of Uniquenss**\n",
    "\n",
    "Left as an exercise. :P\n",
    "\n",
    "---\n",
    "\n",
    "##### Example (CRT)"
   ]
  },
  {
   "cell_type": "markdown",
   "metadata": {},
   "source": [
    "Suppose $u \\cong 2 \\mod 5$, $u \\cong 1 \\mod 7$, $u \\cong 1 \\mod 3$.  What is $u$?\n",
    "\n",
    "Proceeding with CRT..."
   ]
  },
  {
   "cell_type": "code",
   "execution_count": 53,
   "metadata": {},
   "outputs": [
    {
     "name": "stdout",
     "output_type": "stream",
     "text": [
      "v = [2, -3, 1]\n",
      "We have a solution, u = 22\n"
     ]
    }
   ],
   "source": [
    "uᵢ = [2, 1, 1] # \\_i + [TAB]\n",
    "m = [5, 7, 3]\n",
    "v = Vector{Int}(undef,3)\n",
    "\n",
    "v[1] = uᵢ[1]\n",
    "v[2] = (uᵢ[2] - v[1])*inverse_mod(m[1], m[2]) % m[2]\n",
    "v[3] = (uᵢ[3] - v[1] - v[2]*m[1])*inverse_mod(m[1]*m[2], m[3]) % m[3]\n",
    "@show v #intermediate \n",
    "\n",
    "u = v[1] + v[2]*m[1] + v[3]*m[1]*m[2]\n",
    "if [u % m[1], u % m[2], u % m[3]] == uᵢ\n",
    "    println(\"We have a solution, u = $u\")\n",
    "end"
   ]
  },
  {
   "cell_type": "markdown",
   "metadata": {},
   "source": [
    "---\n",
    "\n",
    "## The Polynomial Ring $Q[x]$"
   ]
  },
  {
   "cell_type": "code",
   "execution_count": null,
   "metadata": {},
   "outputs": [],
   "source": []
  }
 ],
 "metadata": {
  "kernelspec": {
   "display_name": "Julia 1.6.0",
   "language": "julia",
   "name": "julia-1.6"
  },
  "language_info": {
   "file_extension": ".jl",
   "mimetype": "application/julia",
   "name": "julia",
   "version": "1.6.0"
  }
 },
 "nbformat": 4,
 "nbformat_minor": 5
}
