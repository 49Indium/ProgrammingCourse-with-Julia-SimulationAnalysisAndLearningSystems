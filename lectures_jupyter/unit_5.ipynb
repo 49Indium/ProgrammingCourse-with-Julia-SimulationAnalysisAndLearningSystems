{
 "cells": [
  {
   "cell_type": "markdown",
   "id": "6d09c40a",
   "metadata": {},
   "source": [
    "# Unit 5: Computer Algebra Systems and Symbolic Computation\n",
    "\n",
    "*The following presentation is mostly taken from the notes of Dr Michael Monagan of Simon Fraser University for the course Introduction to Computer Algebra.  The typesetting author (Paul Vrbik) has made some aditions which are probably the source of any errors.  The Julia code was provided by Dr Yoni Nazarathy.*"
   ]
  },
  {
   "cell_type": "markdown",
   "id": "34a69da1-337b-47c2-b35e-456c72deaa73",
   "metadata": {},
   "source": [
    "$\\newcommand{\\RR}{\\mathcal{R}}$\n",
    "$\\newcommand{\\FF}{\\mathbb{F}}$\n",
    "$\\newcommand{\\QQ}{\\mathbb{Q}}$\n",
    "$\\newcommand{\\ZZ}{\\mathbb{Z}}$\n",
    "$\\newcommand{\\NN}{\\mathbb{N}}$\n",
    "$\\newcommand{\\PP}{\\mathbb{P}}$\n",
    "$\\renewcommand{\\cong}{\\equiv}$\n",
    "$\\renewcommand{\\mod}{\\bmod}$\n",
    "\n",
    "$\\DeclareMathOperator{\\content}{cont}$\n",
    "$\\DeclareMathOperator{\\primpart}{primpart}$\n",
    "$\\DeclareMathOperator{\\deg}{deg}$\n",
    "$\\DeclareMathOperator{\\lc}{lc}$\n",
    "$\\DeclareMathOperator{\\lt}{lt}$\n",
    "$\\DeclareMathOperator{\\lm}{lm}$"
   ]
  },
  {
   "cell_type": "code",
   "execution_count": 1,
   "id": "27dab2ea-ad94-418c-8a34-aec129253bd2",
   "metadata": {},
   "outputs": [
    {
     "name": "stderr",
     "output_type": "stream",
     "text": [
      "\u001b[32m\u001b[1m  Activating\u001b[22m\u001b[39m environment at `~/Library/Mobile Documents/com~apple~CloudDocs/UQ/MATH2504/2504_2021_project1/Project.toml`\n"
     ]
    }
   ],
   "source": [
    "using Pkg;\n",
    "cd(\"../../2504_2021_project1\");\n",
    "Pkg.activate(\".\");\n",
    "# Pkg.instantiate();\n",
    "include(\"poly_factorization_project.jl\");"
   ]
  },
  {
   "cell_type": "markdown",
   "id": "9a59982b",
   "metadata": {},
   "source": [
    "## Symbolic Computation\n",
    "\n",
    "To compute *exactly* means no error is introduced during arithmetic --- something *not* true when working with floats.  In a computer algebra system $\\sqrt{2} = \\sqrt{2}$ and not $\\sqrt{2} = 1.41\\ldots$ as one may expect.\n",
    "\n",
    "Our interest is performing *exact* arithmetic in rings with efficient algorithms.  In particular we are interested in the: *ring of integers* \n",
    "$$\\ZZ = \\{0, -1, 1, 2, -2, 3, -3, \\ldots \\}$$\n",
    "and *polynomials* \n",
    "$$\\RR[x] = \\left\\{ \\sum_{k=0}^{N} a_kx^k \\, : \\, k \\in \\NN,\\, a_k \\in \\RR \\right\\}.$$"
   ]
  },
  {
   "cell_type": "markdown",
   "id": "f315d66c",
   "metadata": {},
   "source": [
    "---\n",
    "## Preliminaries\n",
    "Let $\\NN = \\{0,1,2,\\ldots\\}$ be the set of *natural numbers*, $\\ZZ = \\{\\ldots,-2,-1,0,1,2,\\ldots\\}$ be the *integers* and $\\PP$ be the set of odd primes.\n",
    "\n",
    "##### Definition (Ring)\n",
    "\n",
    "A ring $\\RR$ is a set with addtion $(+)$ and multiplciation $(\\cdot)$ satisfying the following conditions called the *ring axioms*:\n",
    "\n",
    "1. $(\\RR,+)$ is an abelian group, that is:\n",
    "    - $(+)$ is associative *and* commutative,\n",
    "    - $\\exists b \\in \\RR$ called the *additive identity* satisfying $\\forall a \\in \\RR \\; a + b = a$,\n",
    "    - $\\forall a \\in \\RR\\; \\exists b \\in \\RR$ called the *additive inverse* satisfying $a + b = 0$.\n",
    "2.  $(\\RR,\\cdot)$ is a monoid, that is:\n",
    "    -  $(\\cdot)$ is associative, and\n",
    "    -  $\\exists b \\in \\RR$ called the *multiplicative identity* satisfying $\\forall a \\in \\RR; \\; a \\cdot b = b \\cdot a = a$\n",
    "3.  Multiplication *distributes* over addition.  That is, $\\forall a,b,c \\in \\RR$:\n",
    "    - $a \\cdot (b+c) = (a \\cdot b) + (a \\cdot c)$\n",
    "    - $(b+c) \\cdot a = (b \\cdot a) + (c \\cdot a)$\n",
    "---\n",
    "\n",
    "##### Definition (Field)\n",
    "A ring $\\RR$ is also a *field* when each non-zero element has a *multiplicative inverse*.  Equivalently, $\\RR$ is a ring when\n",
    "$$\n",
    "\\forall a \\in \\RR^{\\neq 0};\\; \\exists b \\in \\RR \\; : \\; a \\cdot b.\n",
    "$$\n",
    "\n",
    "For instance, the *rationals* $$\\QQ = \\left\\{ \\frac{a}{b} \\,:\\, a,b \\in \\ZZ, \\, b \\neq 0 \\right\\}$$\n",
    "is a field because $\\frac a b \\cdot \\frac b a = 1$ when $a,b \\neq 0$.\n",
    "\n",
    "---\n",
    "\n",
    "##### Theorem (Division Algorithm)\n",
    "Let $a,b \\in \\ZZ$ with $b > 0$.  There is *unique* $q$ and $r$ (called the *quotient* and *remainder*) satisfying\n",
    "$$a = b \\cdot q + r.$$\n",
    "\n",
    "**Proof (Existence)**"
   ]
  },
  {
   "cell_type": "code",
   "execution_count": 2,
   "id": "4927c484",
   "metadata": {},
   "outputs": [
    {
     "name": "stdout",
     "output_type": "stream",
     "text": [
      "q = 3\n",
      "Int(floor(a / b)) = 3\n",
      "r = 2\n"
     ]
    }
   ],
   "source": [
    "# An example\n",
    "a = 23\n",
    "b = 7\n",
    "q = a ÷ b # \\div + [TAB]\n",
    "@show q\n",
    "@show Int(floor(a/b))\n",
    "\n",
    "r = a % 3 \n",
    "@show r;"
   ]
  },
  {
   "cell_type": "code",
   "execution_count": 3,
   "id": "b9f6f576",
   "metadata": {},
   "outputs": [
    {
     "data": {
      "text/plain": [
       "remainder (generic function with 1 method)"
      ]
     },
     "execution_count": 3,
     "metadata": {},
     "output_type": "execute_result"
    }
   ],
   "source": [
    "function remainder(a::T,b::T) where T <: Int #Note that later we'll extend this to integral domains\n",
    "    a < 0 && return remainder(-a,b) #short circuit evalution  #later replace `0` with `zero(T)`\n",
    "    a < b && return a\n",
    "    return remainder(a-b,b)\n",
    "end"
   ]
  },
  {
   "cell_type": "code",
   "execution_count": 4,
   "id": "105c4d58",
   "metadata": {},
   "outputs": [
    {
     "data": {
      "text/plain": [
       "(2, 2, 2, 2)"
      ]
     },
     "execution_count": 4,
     "metadata": {},
     "output_type": "execute_result"
    }
   ],
   "source": [
    "#note there is an in-built `rem`\n",
    "remainder(23,7), rem(23,7), 23 % 7, 23- (23 ÷ 7)*7"
   ]
  },
  {
   "cell_type": "code",
   "execution_count": 5,
   "id": "15708d7d",
   "metadata": {},
   "outputs": [
    {
     "data": {
      "text/plain": [
       "(0, 4, 1)"
      ]
     },
     "execution_count": 5,
     "metadata": {},
     "output_type": "execute_result"
    }
   ],
   "source": [
    "remainder(15,5), remainder(4,101), remainder(125,4)"
   ]
  },
  {
   "cell_type": "code",
   "execution_count": 6,
   "id": "3b7cdfe4",
   "metadata": {},
   "outputs": [
    {
     "data": {
      "text/plain": [
       "quo (generic function with 2 methods)"
      ]
     },
     "execution_count": 6,
     "metadata": {},
     "output_type": "execute_result"
    }
   ],
   "source": [
    "function quo(a::T,b::T) where T <: Int\n",
    "    a < 0 && return -quo(-a,b)\n",
    "    a < b && return 0\n",
    "    return 1 + quo(a-b, b)\n",
    "end"
   ]
  },
  {
   "cell_type": "code",
   "execution_count": 7,
   "id": "ae7f017e",
   "metadata": {},
   "outputs": [
    {
     "data": {
      "text/plain": [
       "(3, 0, 31)"
      ]
     },
     "execution_count": 7,
     "metadata": {},
     "output_type": "execute_result"
    }
   ],
   "source": [
    "quo(15,5), quo(4,101), quo(125,4)"
   ]
  },
  {
   "cell_type": "code",
   "execution_count": 8,
   "id": "5a60d491",
   "metadata": {},
   "outputs": [
    {
     "name": "stdout",
     "output_type": "stream",
     "text": [
      "(a, b, q, r, a == b * q + r) = (15, 5, 3, 0, true)\n",
      "(a, b, q, r, a == b * q + r) = (4, 101, 0, 4, true)\n",
      "(a, b, q, r, a == b * q + r) = (125, 4, 31, 1, true)\n"
     ]
    }
   ],
   "source": [
    "for (a,b) in [(15,5), (4,101), (125,4)]\n",
    "    q, r = quo(a, b), rem(a, b)\n",
    "    @show (a, b, q, r, a == b * q + r)\n",
    "end"
   ]
  },
  {
   "cell_type": "markdown",
   "id": "e1c92198",
   "metadata": {},
   "source": [
    "Of course, in Julia we have `%` and `÷` for remainder and  and quotient.\n",
    "\n",
    "(Note that in Python `//` is the quotient whereas in Julia `//` defines a rational type)."
   ]
  },
  {
   "cell_type": "code",
   "execution_count": 9,
   "id": "b14cfedf",
   "metadata": {},
   "outputs": [
    {
     "data": {
      "text/plain": [
       "(2//3, 0.6666666666666666)"
      ]
     },
     "execution_count": 9,
     "metadata": {},
     "output_type": "execute_result"
    }
   ],
   "source": [
    "2 // 3, float(2//3)"
   ]
  },
  {
   "cell_type": "markdown",
   "id": "760f398f",
   "metadata": {},
   "source": [
    "---\n",
    "## Elementary Number Theory\n",
    "\n",
    "The sets $\\ZZ_n = \\{0,1,\\ldots,n-1\\}$ for $n \\in \\NN$ are rings called *residue classes* when addition and multiplication are done 'mod n'.  This is sometimes called 'clock arithmetic' as three hours past eleven is two because $11 + 3 \\cong 2 \\mod 12$. \n",
    "\n",
    "We say/write \n",
    "$$a \\cong b \\mod c$$ \n",
    "when *$a$ is congruent to $b$ modulo $c$*.  Also:\n",
    "$$a \\cong b \\mod c \\iff \\mathop{\\textrm{rem}}(a,c) = b \\iff \\texttt{a % c = b}.$$\n",
    "\n"
   ]
  },
  {
   "cell_type": "code",
   "execution_count": 10,
   "id": "7952a9fb",
   "metadata": {},
   "outputs": [
    {
     "data": {
      "text/plain": [
       "0x01"
      ]
     },
     "execution_count": 10,
     "metadata": {},
     "output_type": "execute_result"
    }
   ],
   "source": [
    "# We have already seen something similar with overflow, for example:\n",
    "UInt8(253) + UInt8(4)"
   ]
  },
  {
   "cell_type": "code",
   "execution_count": 11,
   "id": "5bf5d224",
   "metadata": {},
   "outputs": [
    {
     "data": {
      "text/plain": [
       "0x10"
      ]
     },
     "execution_count": 11,
     "metadata": {},
     "output_type": "execute_result"
    }
   ],
   "source": [
    "UInt8(16) * UInt8(17)"
   ]
  },
  {
   "cell_type": "markdown",
   "id": "2952ebae",
   "metadata": {},
   "source": [
    "---\n",
    "\n",
    "#### Example\n",
    "$\\ZZ_6 = \\{0,\\ldots,5\\}$ has the following addition table"
   ]
  },
  {
   "cell_type": "code",
   "execution_count": 12,
   "id": "b400a969",
   "metadata": {},
   "outputs": [
    {
     "data": {
      "text/plain": [
       "0:5"
      ]
     },
     "execution_count": 12,
     "metadata": {},
     "output_type": "execute_result"
    }
   ],
   "source": [
    "n = 6\n",
    "Z_n = 0:(n-1)"
   ]
  },
  {
   "cell_type": "code",
   "execution_count": 13,
   "id": "a6754da9",
   "metadata": {},
   "outputs": [
    {
     "data": {
      "text/plain": [
       "UnitRange{Int64}"
      ]
     },
     "execution_count": 13,
     "metadata": {},
     "output_type": "execute_result"
    }
   ],
   "source": [
    "typeof(Z_n)"
   ]
  },
  {
   "cell_type": "code",
   "execution_count": 14,
   "id": "192a5fbd",
   "metadata": {},
   "outputs": [
    {
     "data": {
      "text/plain": [
       "6×6 Matrix{Int64}:\n",
       " 0  1  2  3  4  5\n",
       " 1  2  3  4  5  0\n",
       " 2  3  4  5  0  1\n",
       " 3  4  5  0  1  2\n",
       " 4  5  0  1  2  3\n",
       " 5  0  1  2  3  4"
      ]
     },
     "execution_count": 14,
     "metadata": {},
     "output_type": "execute_result"
    }
   ],
   "source": [
    "A = [(x+y) % n for y in Z_n, x in Z_n]"
   ]
  },
  {
   "cell_type": "markdown",
   "id": "182efc99",
   "metadata": {},
   "source": [
    "Notice: \n",
    " 1.  the addition table is symmetric (equal to its transpose) which can only happen when the addition is commutative,\n",
    " 1.  the additive identity is $0$,\n",
    " 1.  each column (and row) has $0$ and thereby each element has an additive inverse: for instance, the third column indicates that $2$ has additive inverse $4$ and correspondingly $2 + 4 \\cong 0 \\mod 6$."
   ]
  },
  {
   "cell_type": "code",
   "execution_count": 15,
   "id": "5d1558a7",
   "metadata": {},
   "outputs": [
    {
     "name": "stdout",
     "output_type": "stream",
     "text": [
      "[0, 5, 4, 3, 2, 1]\n"
     ]
    }
   ],
   "source": [
    "additive_inverses = [findfirst((A .== 0)[:,k+1])-1 for k in Z_n] #Can this be done more nicely?\n",
    "println(additive_inverses)"
   ]
  },
  {
   "cell_type": "markdown",
   "id": "837e3d89",
   "metadata": {},
   "source": [
    "$\\ZZ_6$ has the following multiplication table"
   ]
  },
  {
   "cell_type": "code",
   "execution_count": 16,
   "id": "ff051434",
   "metadata": {},
   "outputs": [
    {
     "data": {
      "text/plain": [
       "6×6 Matrix{Int64}:\n",
       " 0  0  0  0  0  0\n",
       " 0  1  2  3  4  5\n",
       " 0  2  4  0  2  4\n",
       " 0  3  0  3  0  3\n",
       " 0  4  2  0  4  2\n",
       " 0  5  4  3  2  1"
      ]
     },
     "execution_count": 16,
     "metadata": {},
     "output_type": "execute_result"
    }
   ],
   "source": [
    "M = [(x*y) % n for y in Z_n, x in Z_n]"
   ]
  },
  {
   "cell_type": "markdown",
   "id": "73d585b6",
   "metadata": {},
   "source": [
    "Notice:\n",
    "1.  the multiplicative identity is $1$,\n",
    "1.  not all rows contain one, which means there are some elements that do *not* have *multiplicative inverse*.  For instance there is no $b \\in \\ZZ_6$ such that $2 \\cdot b \\cong 1 \\mod 6$."
   ]
  },
  {
   "cell_type": "code",
   "execution_count": 17,
   "id": "e47ffa4e",
   "metadata": {},
   "outputs": [
    {
     "name": "stdout",
     "output_type": "stream",
     "text": [
      "[0, 2, 4, 0, 2, 4]\n"
     ]
    }
   ],
   "source": [
    "println([(2*y) % n for y in Z_n])"
   ]
  },
  {
   "cell_type": "code",
   "execution_count": 18,
   "id": "b4e3e722",
   "metadata": {},
   "outputs": [
    {
     "name": "stdout",
     "output_type": "stream",
     "text": [
      "Elements with a multiplicative inverse: [1, 5]\n",
      "Elements withoout a multiplicative inverse: [0, 2, 3, 4]\n"
     ]
    }
   ],
   "source": [
    "mult_inverses = Z_n[[sum((M .== 1)[:,k+1]) > 0 for k in Z_n]] #Can this be done more nicely?\n",
    "println(\"Elements with a multiplicative inverse: \", mult_inverses )\n",
    "println(\"Elements withoout a multiplicative inverse: \", setdiff(Z_n,mult_inverses))"
   ]
  },
  {
   "cell_type": "markdown",
   "id": "5bd22bc1",
   "metadata": {},
   "source": [
    "---\n",
    "\n",
    "Notice $\\ZZ_6$ is *not* a field because, recall, there is no multiplicative inverse for $2$.  However, $\\ZZ_p$ is a field when $p$ is a prime number.\n",
    "\n",
    "##### Example\n",
    "\n",
    "$\\ZZ_5 = \\{0,\\ldots,5\\}$ is a field and has the following multiplication table. "
   ]
  },
  {
   "cell_type": "code",
   "execution_count": 19,
   "id": "025fabd8",
   "metadata": {},
   "outputs": [
    {
     "data": {
      "text/plain": [
       "0:4"
      ]
     },
     "execution_count": 19,
     "metadata": {},
     "output_type": "execute_result"
    }
   ],
   "source": [
    "n = 5\n",
    "Z_n = 0:(n-1)"
   ]
  },
  {
   "cell_type": "code",
   "execution_count": 20,
   "id": "99ef8784",
   "metadata": {},
   "outputs": [
    {
     "data": {
      "text/plain": [
       "5×5 Matrix{Int64}:\n",
       " 0  0  0  0  0\n",
       " 0  1  2  3  4\n",
       " 0  2  4  1  3\n",
       " 0  3  1  4  2\n",
       " 0  4  3  2  1"
      ]
     },
     "execution_count": 20,
     "metadata": {},
     "output_type": "execute_result"
    }
   ],
   "source": [
    "M = [(x*y) % n for y in Z_n, x in Z_n]"
   ]
  },
  {
   "cell_type": "code",
   "execution_count": 21,
   "id": "e5e43efd",
   "metadata": {},
   "outputs": [
    {
     "name": "stdout",
     "output_type": "stream",
     "text": [
      "Elements with a multiplicative inverse: [1, 2, 3, 4]\n",
      "Elements withoout a multiplicative inverse: [0]\n"
     ]
    }
   ],
   "source": [
    "mult_inverses = Z_n[[sum((M .== 1)[:,k+1]) > 0 for k in Z_n]] #Can this be done more nicely?\n",
    "println(\"Elements with a multiplicative inverse: \", mult_inverses )\n",
    "println(\"Elements withoout a multiplicative inverse: \", setdiff(Z_n,mult_inverses))"
   ]
  },
  {
   "cell_type": "markdown",
   "id": "93ec512a",
   "metadata": {},
   "source": [
    "Notice every column (and row) contains $1$ asides the first column (and row) which corresponds to $0$.  For instance, the third column indicates the inverse of $3$ is $2$ and correspondingly $3 \\cdot 2 \\cong 1 \\mod 5$.\n",
    "\n",
    "---"
   ]
  },
  {
   "cell_type": "markdown",
   "id": "b3cfaa90",
   "metadata": {},
   "source": [
    "### Greatest Common Divisor\n",
    "\n",
    "The *greatest common divisor* is one of the fundamental operations of a computer algebra system.  For instance, we need `gcd` to reduce fractions to their canonical form.\n",
    "\n",
    "##### Def (GCD)\n",
    "\n",
    "Let $a,b \\in \\ZZ$ not both 0.  We say $g \\in \\ZZ$ is the *greatest common divsor* of $a$ and $b$, denoted $\\gcd(a,b)$, when\n",
    "1.  $g | a$ and $g | b$ ($g$ is a common divisor), \n",
    "1.  $h | a \\;\\wedge\\; h | b \\implies h | g$ (greatest),\n",
    "1.  $g > 0$ (required for uniqueness) \n",
    "\n",
    "##### Example (GCD)\n",
    "The $\\gcd(6,4) = \\gcd(2\\cdot 3, 2 \\cdot 2) = 2$.\n",
    "\n",
    "---"
   ]
  },
  {
   "cell_type": "code",
   "execution_count": 22,
   "id": "573e5e8a",
   "metadata": {},
   "outputs": [
    {
     "name": "stdout",
     "output_type": "stream",
     "text": [
      "(a_test, b_test) = (884473730, 11119680)\n"
     ]
    },
    {
     "ename": "LoadError",
     "evalue": "MethodError: no method matching gcd(::Int64, ::Int64)\nYou may have intended to import Base.gcd",
     "output_type": "error",
     "traceback": [
      "MethodError: no method matching gcd(::Int64, ::Int64)\nYou may have intended to import Base.gcd",
      "",
      "Stacktrace:",
      " [1] top-level scope",
      "   @ In[22]:7",
      " [2] eval",
      "   @ ./boot.jl:360 [inlined]",
      " [3] include_string(mapexpr::typeof(REPL.softscope), mod::Module, code::String, filename::String)",
      "   @ Base ./loading.jl:1116"
     ]
    }
   ],
   "source": [
    "#The is an in-built gcd() function for integers (and a few more types) \n",
    "#but we'll soon make our own\n",
    "using Random; Random.seed!(0)\n",
    "a_test = *(rand(1:100,5)...)\n",
    "b_test = *(rand(1:100,5)...)\n",
    "@show a_test, b_test\n",
    "gcd(a_test, b_test)"
   ]
  },
  {
   "cell_type": "markdown",
   "id": "ad5ec90c",
   "metadata": {},
   "source": [
    "#### Euclid's Algorithm\n",
    "\n",
    "The **Euclidean Algorithm** computes the gcd of two integers.  (Actually the Euclidean Algorithm computers gcds for any two elements of a *Euclidean Domain*).  The algorithm exploits the following property of the gcd:\n",
    "\n",
    "##### Lemma\n",
    "Let $a,b\\in \\ZZ$ and $a>0$, $b>0$ and $a = b\\cdot q + r$ with $r \\in [0,b)$.  Then\n",
    "1.  $\\gcd(b,a) = \\gcd(a,b)$,\n",
    "1.  $\\gcd(a,b) = gcd(r,b)$,\n",
    "1.  $\\gcd(a,b) = \\gcd(a-b,b)$.\n",
    "\n",
    "Is is straightforward to turn this lemma into an algorithm:"
   ]
  },
  {
   "cell_type": "code",
   "execution_count": 23,
   "id": "a756cf21",
   "metadata": {},
   "outputs": [
    {
     "data": {
      "text/plain": [
       "(2, 3, 1)"
      ]
     },
     "execution_count": 23,
     "metadata": {},
     "output_type": "execute_result"
    }
   ],
   "source": [
    "function euclid_alg(a,b)\n",
    "    (b == 0) && return a\n",
    "    return euclid_alg(b, a % b)\n",
    "end\n",
    "\n",
    "euclid_alg(2, 2*2), euclid_alg(2*3, 3*7), euclid_alg(2*2, 13)"
   ]
  },
  {
   "cell_type": "code",
   "execution_count": 24,
   "id": "e5685f07",
   "metadata": {},
   "outputs": [
    {
     "ename": "LoadError",
     "evalue": "MethodError: no method matching gcd(::Int64, ::Int64)\nYou may have intended to import Base.gcd",
     "output_type": "error",
     "traceback": [
      "MethodError: no method matching gcd(::Int64, ::Int64)\nYou may have intended to import Base.gcd",
      "",
      "Stacktrace:",
      " [1] top-level scope",
      "   @ In[24]:1",
      " [2] eval",
      "   @ ./boot.jl:360 [inlined]",
      " [3] include_string(mapexpr::typeof(REPL.softscope), mod::Module, code::String, filename::String)",
      "   @ Base ./loading.jl:1116"
     ]
    }
   ],
   "source": [
    "gcd(a_test, b_test), euclid_alg(a_test,b_test)"
   ]
  },
  {
   "cell_type": "markdown",
   "id": "107559ee",
   "metadata": {},
   "source": [
    "--- \n",
    "\n",
    "#### Extended Euclid's Algorithm\n",
    "\n",
    "The **Extended Euclidean Algorithm** in addition to the **gcd(a, b)**, also computes $s$ and $t$ such that\n",
    "$$as + bt = gcd(a,b).$$"
   ]
  },
  {
   "cell_type": "code",
   "execution_count": 25,
   "id": "3f5050cd",
   "metadata": {},
   "outputs": [
    {
     "name": "stdout",
     "output_type": "stream",
     "text": [
      "4 × 1 + 12 × 0 = 4\n",
      "9 × -1 + 12 × 1 = 3\n",
      "4 × -3 + 13 × 1 = 1\n"
     ]
    }
   ],
   "source": [
    "function ext_euclid_alg(a,b)\n",
    "    a == 0 && return b, 0, 1\n",
    "    g, s, t = ext_euclid_alg(b % a, a)\n",
    "    return g, t - (b ÷ a)*s, s\n",
    "end\n",
    "\n",
    "pretty_print_egcd((a,b),(g,s,t)) = println(\"$a × $s + $b × $t = $g\") #\\times + [TAB]\n",
    "\n",
    "for (a,b) in [(4,12), (9,12), (4,13)]\n",
    "    pretty_print_egcd((a,b),ext_euclid_alg(a,b))\n",
    "end"
   ]
  },
  {
   "cell_type": "code",
   "execution_count": 26,
   "id": "7b26c4fd",
   "metadata": {},
   "outputs": [
    {
     "data": {
      "text/plain": [
       "((10, 293957, -23381720), (10, 293957, -23381720))"
      ]
     },
     "execution_count": 26,
     "metadata": {},
     "output_type": "execute_result"
    }
   ],
   "source": [
    "#Note there is an in-built gcdx - let's compare against that too\n",
    "gcdx(a_test,b_test), ext_euclid_alg(a_test,b_test)"
   ]
  },
  {
   "cell_type": "markdown",
   "id": "86a9d546",
   "metadata": {},
   "source": [
    "--- \n",
    "\n",
    "### Inversion in $\\ZZ_m$\n",
    "\n",
    "Notice the Extended Euclidean Algorithm computes inverses in $\\ZZ_m$.  Given $a \\in \\ZZ_m^{\\neq 0}$ the $egcd(a,m)$ returns $s$ and $t$ such that\n",
    "$$a \\cdot s + m \\cdot t = gcd(a,m).$$\n",
    "Taking the entire equation $\\mod m$ we get\n",
    "$$a \\cdot s + m \\cdot t \\cong \\gcd(a,m) \\mod m \\implies a \\cdot s + 0 \\cong \\gcd(a,m) \\mod m \\implies a \\cdot s \\cong \\gcd(a,m) \\mod m.$$\n",
    "Provided $\\gcd(a,m) = 1$ (i.e. \"coprime\" or \"relatively prime\") we get $a \\cdot s \\cong 1 \\mod m$ and thus $a^{-1} \\cong s \\mod m$.\n",
    "\n",
    "##### Example\n",
    "To find the inverse of $5 \\in \\ZZ_{13}$ do:"
   ]
  },
  {
   "cell_type": "code",
   "execution_count": 27,
   "id": "c410be69",
   "metadata": {},
   "outputs": [
    {
     "data": {
      "text/plain": [
       "(5, 13)"
      ]
     },
     "execution_count": 27,
     "metadata": {},
     "output_type": "execute_result"
    }
   ],
   "source": [
    "a, m = 5, 13"
   ]
  },
  {
   "cell_type": "code",
   "execution_count": 28,
   "id": "71f9c671",
   "metadata": {},
   "outputs": [],
   "source": [
    "inverse_mod(a,m) = mod(ext_euclid_alg(a,m)[2],m);"
   ]
  },
  {
   "cell_type": "code",
   "execution_count": 29,
   "id": "759f3348",
   "metadata": {},
   "outputs": [
    {
     "data": {
      "text/plain": [
       "8"
      ]
     },
     "execution_count": 29,
     "metadata": {},
     "output_type": "execute_result"
    }
   ],
   "source": [
    "i = inverse_mod(a,m)"
   ]
  },
  {
   "cell_type": "code",
   "execution_count": 30,
   "id": "ddd90446",
   "metadata": {},
   "outputs": [
    {
     "data": {
      "text/plain": [
       "1"
      ]
     },
     "execution_count": 30,
     "metadata": {},
     "output_type": "execute_result"
    }
   ],
   "source": [
    "mod(a*i,m)"
   ]
  },
  {
   "cell_type": "markdown",
   "id": "7eda8fc6",
   "metadata": {},
   "source": [
    "---\n",
    "### Chinese Remaindering\n",
    "\n",
    "##### Problem Statement\n",
    "Two integers $a$ and $b$ are *relatively prime* when $\\gcd(a,b) = 1$.  Given a finite sequence of relatively prime integers $m_1,\\ldots,m_k$ called the *moduli* and correspoing integers $u_1,\\ldots,u_k$ called the *images*, find $u \\in \\ZZ$ such that\n",
    "\\begin{align*}\n",
    "u &\\cong u_1 \\mod m_1 \\\\\n",
    "u &\\cong u_2 \\mod m_2 \\\\\n",
    "&\\; \\vdots \\\\\n",
    "u &\\cong u_k \\mod m_k\n",
    "\\end{align*}\n",
    "\n",
    "For example, given the following information\n",
    "\\begin{align*}\n",
    "u &\\cong 4 \\mod 5 &\\implies&& (u_1,\\, m_1) &= (4,\\, 5)\\\\\n",
    "u &\\cong 5 \\mod 7 &\\implies&& (u_2,\\, m_2) &= (5,\\, 7)\n",
    "\\end{align*}\n",
    "we want to deduce $u = 19$ because"
   ]
  },
  {
   "cell_type": "code",
   "execution_count": 31,
   "id": "5b402c14",
   "metadata": {},
   "outputs": [
    {
     "data": {
      "text/plain": [
       "(true, true)"
      ]
     },
     "execution_count": 31,
     "metadata": {},
     "output_type": "execute_result"
    }
   ],
   "source": [
    "(19 % 5 == 4, 19 % 7 == 5)"
   ]
  },
  {
   "cell_type": "markdown",
   "id": "c22fb67a",
   "metadata": {},
   "source": [
    "---\n",
    "##### Theorem (CRT)\n",
    "\n",
    "Let $M = m_1 \\cdot m_2 \\cdots \\cdot m_k$.  There exists a unique $u \\in \\ZZ$ on $\\{0,\\ldots,M-1\\}$ such that $u \\cong u_i \\mod m_i$ for $i = 1,\\ldots,k$."
   ]
  },
  {
   "cell_type": "markdown",
   "id": "11b4e7b0",
   "metadata": {},
   "source": [
    "**Proof of Existence**:\n",
    "\n",
    "(This is a constructive proof which provides an algorithm for determining $u$).\n",
    "\n",
    "Let $u = v_1 + v_2m_1 + v_3m_1m_2 + \\cdots + v_{k+1} m_1 m_2 \\cdots m_{k}$ and notice the vanishing terms after reducing $u$ modulo $m_k$:\n",
    "$$\n",
    "u \\mod m_j = v_1 + v_2m_1 + \\cdots + v_{j+1}m_1\\cdots m_{j} + 0 + \\cdots + 0\n",
    "$$"
   ]
  },
  {
   "cell_type": "markdown",
   "id": "e7fa5210",
   "metadata": {},
   "source": [
    "We have\n",
    "\\begin{align*}\n",
    "u_1 &\\cong v_1 \\mod m_1 &&\\implies v_1 \\gets u_1 \\\\\n",
    "u_2 &\\cong v_1 + v_2 m_1 \\mod m_2 &&\\implies v_2 \\gets (u_2 - v_1) \\cdot (m_1)^{-1} \\mod m_2 \\\\\n",
    "u_3 &\\cong v_1 + v_2 m_1 + v_3 m_1 m_2 \\mod m_3 &&\\implies v_3 \\gets (u_3-v_1-v_2 m_1)(m_1 m_2)^{-1} \\mod m_3\\\\\n",
    "&\\;\\,\\vdots\n",
    "\\end{align*}\n",
    "\n",
    "**Proof of Uniquenss**\n",
    "\n",
    "Left as an exercise. :P\n",
    "\n",
    "---\n",
    "\n",
    "##### Example (CRT)"
   ]
  },
  {
   "cell_type": "markdown",
   "id": "d1cb4143",
   "metadata": {},
   "source": [
    "Suppose $u \\cong 2 \\mod 5$, $u \\cong 1 \\mod 7$, $u \\cong 1 \\mod 3$.  What is $u$?\n",
    "\n",
    "Proceeding with CRT..."
   ]
  },
  {
   "cell_type": "code",
   "execution_count": 32,
   "id": "403b7b7a",
   "metadata": {},
   "outputs": [
    {
     "name": "stdout",
     "output_type": "stream",
     "text": [
      "v = [2, -3, 1]\n",
      "We have a solution, u = 22\n"
     ]
    }
   ],
   "source": [
    "uᵢ = [2, 1, 1] # \\_i + [TAB]\n",
    "m = [5, 7, 3]\n",
    "v = Vector{Int}(undef,3)\n",
    "\n",
    "v[1] = uᵢ[1]\n",
    "v[2] = (uᵢ[2] - v[1])*inverse_mod(m[1], m[2]) % m[2]\n",
    "v[3] = (uᵢ[3] - v[1] - v[2]*m[1])*inverse_mod(m[1]*m[2], m[3]) % m[3]\n",
    "@show v #intermediate \n",
    "\n",
    "u = v[1] + v[2]*m[1] + v[3]*m[1]*m[2]\n",
    "if [u % m[1], u % m[2], u % m[3]] == uᵢ\n",
    "    println(\"We have a solution, u = $u\")\n",
    "end"
   ]
  },
  {
   "cell_type": "markdown",
   "id": "e2592c7d-56bc-423e-9fae-39cfdc143145",
   "metadata": {
    "tags": []
   },
   "source": [
    "---\n",
    "\n",
    "## The Polynomial Ring $\\RR[x]$\n",
    "\n",
    "By this point in your mathematics career you have surely worked with *polynomials* like $x^2 + 2x + 1$ (but *not* like $\\frac{x^2+1}{x-1}$ or $x \\sin(x)$).\n",
    "\n",
    "##### Definition\n",
    "Let $\\RR$ be a ring and $a \\in \\RR[x]$.  Let \n",
    "$$\n",
    "a = a_n x^n + a_{n-1}x^{n-1} + \\cdots + a_1x + a_0\n",
    "$$\n",
    "with $a_n \\neq 0$.\n",
    "+ $a$ is called a **polynomial** in $x$.\n",
    "+ The **degree** of $a$ is $n$: $$\\deg(a) = n.$$\n",
    "+ The **leading coefficient** of $a$ is $a_n$: $$\\lc(a) = a_n.$$\n",
    "+ The **leading term** of $a$ is $a_n x^n$:  $$\\lt(a) = a_n x^n.$$\n",
    "\n",
    "By convention we let $\\lc(0) = \\lt(0) = 0$ and $\\deg(0) = - \\infty$."
   ]
  },
  {
   "cell_type": "markdown",
   "id": "c3e5ff7d-b736-400b-892b-7265339cb91d",
   "metadata": {},
   "source": [
    "### Addition in $\\RR[x]$\n",
    "\n",
    "For $\\RR[x]$ to be a *ring* we must define addition."
   ]
  },
  {
   "cell_type": "raw",
   "id": "f72dc8f4-909b-4408-b018-8db4d1667ac9",
   "metadata": {},
   "source": [
    "def ADDITION: \n",
    "    Input   a, b in ZZ[x]\n",
    "    Ouput   a + b (definitionally)\n",
    "    \n",
    "    if deg(a) == deg(b)\n",
    "        term = lt(a) + lt(b)      # addtion on *terms* ax^n + bx^n = (a+b)x^n\n",
    "        return term + ADDITION(a-lt(a), b-lt(b))\n",
    "        \n",
    "    if deg(a) > deg(b)\n",
    "        return lt(a) + ADDITION(a-lt(a), b)\n",
    "    \n",
    "    # deg(b) > deg(a)\n",
    "    return lt(a) + ADDITION(a, b-lt(b))"
   ]
  },
  {
   "cell_type": "code",
   "execution_count": 33,
   "id": "6f4c4079-adb0-4e57-b7d6-755c079ca3ce",
   "metadata": {},
   "outputs": [
    {
     "ename": "LoadError",
     "evalue": "syntax: extra token \"showing\" after end of expression",
     "output_type": "error",
     "traceback": [
      "syntax: extra token \"showing\" after end of expression",
      "",
      "Stacktrace:",
      " [1] top-level scope",
      "   @ In[33]:3",
      " [2] eval",
      "   @ ./boot.jl:360 [inlined]",
      " [3] include_string(mapexpr::typeof(REPL.softscope), mod::Module, code::String, filename::String)",
      "   @ Base ./loading.jl:1116"
     ]
    }
   ],
   "source": [
    "JULIA\n",
    "Julia showing addition"
   ]
  },
  {
   "cell_type": "markdown",
   "id": "fd9e6b8e-bded-4632-8252-027471964753",
   "metadata": {
    "tags": []
   },
   "source": [
    "### Multiplication in $\\RR[x]$\n",
    "\n",
    "For $\\RR[x]$ to be a *ring* we must define multiplication."
   ]
  },
  {
   "cell_type": "raw",
   "id": "3d617e10-d174-47c4-bd8d-b27e9044f92b",
   "metadata": {},
   "source": [
    "def MULTIPLICATION: \n",
    "    Input   a, b in ZZ[x]\n",
    "    Ouput   a * b (definitionally)\n",
    "    \n",
    "    if a = 0 or b = 0:\n",
    "        return 0\n",
    "    \n",
    "    if lt(a) = a and lt(b) = b:   # a and b are single terms\n",
    "        return a * b              # product of *terms* ax^n * bx^m = (ab)x^(n+m)\n",
    "        \n",
    "    write a = a1 + a2 with deg(a1) != deg(a2)\n",
    "    write b = b1 + b2 with deg(b1) != deg(b2)\n",
    "    \n",
    "    # DISTRIBUTION PROPERTY\n",
    "    # (a1 + a2)*(b1 + b2) = a1*b1 + a1*b2 + a2*b1 + a2*b2\n",
    "    return M(a1,b1) + M(a1,b2) + M(a2,b1) + M(a2,b2) where M = MULTIPLICATION"
   ]
  },
  {
   "cell_type": "code",
   "execution_count": null,
   "id": "ff6ef916-645c-4b9f-912e-b024d2732f44",
   "metadata": {},
   "outputs": [],
   "source": [
    "JULIA"
   ]
  },
  {
   "cell_type": "markdown",
   "id": "432f6341-f38b-4036-9c9a-73ae88aedff8",
   "metadata": {
    "tags": []
   },
   "source": [
    "The following properties are consequences of our defition.  (They are obligated to be).\n",
    "\n",
    "##### Proposition (Polynomial Multiplication)\n",
    "When $\\RR$ is an **integral domain** (a nonzero commutative ring in which the product of any two nonzero elements is nonzero) and $a,b \\in \\RR[x]^{\\neq 0}$ then\n",
    "1.  $\\deg(ab) = \\deg a + \\deg b$,\n",
    "1.  $\\lc(ab) = a_b \\cdot b_m = \\lc(a) \\cdot \\lc(b)$,\n",
    "1.  $\\lm(ab) = \\lm(a) \\cdot \\lm(b)$,\n",
    "1.  $\\lt(ab) = \\lt(a) \\cdot \\lt(b)$.\n",
    "\n",
    "*Proof* (Sketch)\n",
    "$$\n",
    "\\begin{align*}\n",
    "a \\times b &= (a_n x^n + \\cdots + a_0)(b_mx^m + \\cdots + b_0) \\\\\n",
    "&= a_n \\cdot b_m x^{n+m} + \\cdots + a_0 \\cdot b_0\n",
    "\\end{align*}\n",
    "$$\n",
    "\n",
    "##### Proposition\n",
    "Every field is also an integral domain.\n",
    "\n",
    "*Proof* (Omitted)\n",
    "\n",
    "Later, we will discuss a faster way to do polynomial multiplication via interpolation."
   ]
  },
  {
   "cell_type": "markdown",
   "id": "4adc4800-28c8-473e-b0ff-7c6809c46877",
   "metadata": {
    "tags": []
   },
   "source": [
    "### Division in $\\FF[x]$\n",
    "\n",
    "We are unable to *divide* in $\\RR[x]$.  Consider the following operation in $\\ZZ[x]$\n",
    "$$\n",
    "\\frac{x^2}{2x} = \\frac{1}{2}x.\n",
    "$$\n",
    "Even though $x^2$ and $2x$ are from $\\ZZ[x]$ that their division is in $\\QQ[x]$.  This is because $\\ZZ$ is not a *field* but $\\QQ$ is.  \n",
    "\n",
    "It turns out $\\FF[x]$ is a **Euclidean Domain** when $\\FF$ is a field.  Re-consider the division, but this time let us do the calcuation in $\\ZZ_7[x]$\n",
    "$$\n",
    "\\begin{align*}\n",
    "\\frac{x^2}{2x} \n",
    "&\\cong \\frac{1}{2}x \\mod 7 \\\\\n",
    "&\\cong 2^{-1} x \\mod 7 \\\\\n",
    "&\\cong 4 x \\mod 7.\n",
    "\\end{align*}\n",
    "$$\n",
    "Note that $\\frac{1}{2} \\cong 4 \\mod 7$.\n",
    "\n",
    "##### Theorem (Division in $\\FF[x]$)\n",
    "Let $a,b \\in \\FF[x]$, $b\\neq0$.  There exists *unique* polynomials $q,r \\in \\FF[x]$ such that \n",
    "$$\n",
    "\\begin{align*}\n",
    "a = bq + r &&\\mbox{and}&& r = 0 &&\\mbox{or}&& \\deg r < \\deg b\n",
    "\\end{align*}\n",
    "$$\n",
    "\n",
    "*Proof* (Uniqueness) \n",
    "Let $a = b q_1 + r_1 = b q_2 + r_2$ with $\\deg r_1, \\deg r_2 < \\deg b$.\n",
    "\n",
    "Consider\n",
    "$$\n",
    "\\begin{align*}\n",
    "b q_1 + r_1 = b q_2 + r_2 \n",
    "&\\implies b(q_1 - q_2) = (r_2-r_1) \\\\\n",
    "&\\implies b | (r_2-r_1) & \\mbox{But }\\deg r_1, r_2 < \\deg b\\\\\n",
    "&\\implies r_2 - r_1 = 0 \\\\\n",
    "&\\implies r_2 = r_1\n",
    "\\end{align*}\n",
    "$$\n",
    "\n",
    "Therefore $b(q_1-q_2) = 0$. But since $\\FF[x]$ is an integral domain it cannot have zero divisors. As we assumed $b\\neq 0$ this implies $$(q_1-q_2)=0 \\implies q_1 = q_2. ~\\square$$\n",
    "\n",
    "*Proof* (Existence -- The Division Algorithm)"
   ]
  },
  {
   "cell_type": "raw",
   "id": "3f9d47e1-a9a0-4c05-8507-15631b0f9416",
   "metadata": {},
   "source": [
    "def DIVISION: \n",
    "    Input   a, b in ZZ_p[x] such that b != 0\n",
    "    Ouput   q, r such that a = b*q + r and deg r < deg b in ZZ_p[x]\n",
    "    \n",
    "    r, q = a, 0\n",
    "    while r != 0 and deg r >= deg b do:\n",
    "        t <- lt(r)/lt(b)    # division of *terms* in ZZ_p: (ax^n)/(bx^m) = a/b mod p x^(n-m), n>m\n",
    "        q <- q + t\n",
    "        r <- r - t*b        # deg r *must* monotonically decrease\n",
    "    return (q,r)\n",
    "    \n",
    "# A couple of convenience methods\n",
    "def QUO(a, b) = first(DIVISION(a,b)) in ZZ_p[x]\n",
    "def REM(a, b) = first(DIVISION(a,b)) in ZZ_p[x]"
   ]
  },
  {
   "cell_type": "markdown",
   "id": "7417fff3-7e7c-4d7e-8b1b-7fd171fbe072",
   "metadata": {},
   "source": [
    "##### Example\n",
    "Consider $a = 10x^2 + 4x + 1$ divided by $b = 5x-3$ in $\\ZZ_11[x]$.\n",
    "\n",
    "$$\n",
    "\\begin{align*}\n",
    "r,q &\\gets 10x^2 + 4x + 1, 0 \\\\[1em]\n",
    "r \\neq 0 &\\mbox{ and } \\deg r = 2 \\geq \\deg b = 1 \\\\\n",
    "t &\\gets \\frac{10x^2}{5x} \\cong 2x \\mod 11\\\\\n",
    "q &\\gets 0 + 2x\\\\\n",
    "r &\\gets (10x^2 + 4x + 1) - 2x(5x-3) \\cong 10x + 1 \\mod 11\\\\[1em]\n",
    "r \\neq 0 &\\mbox{ and } \\deg r = 1 \\geq \\deg b = 1 \\\\\n",
    "t &\\gets \\frac{10x}{5x} \\cong 2 \\mod 11\\\\\n",
    "q &\\gets 2x + 2\\\\\n",
    "r &\\gets (10x+1) - 2(5x-3) \\cong 7 \\mod 11\\\\[1em]\n",
    "r \\neq 0 &\\mbox{ and } \\color{red}{\\deg r = 0 \\geq \\deg b = 1} \\\\[1em]\n",
    "&\\mbox{return } (2x+2, 7)\n",
    "\\end{align*}\n",
    "$$\n",
    "\n",
    "And notice $10x^2 + 4x + 1 \\cong (5x-3)(2x+2) + 7 \\mod 11$."
   ]
  },
  {
   "cell_type": "markdown",
   "id": "3ef01aec-e645-4cdc-884c-3b9c668d7f40",
   "metadata": {},
   "source": [
    "### GCDs in $\\ZZ_p[x]$\n",
    "\n",
    "##### Theorem \n",
    "Let $a,b \\in \\ZZ_p[x]^{\\neq 0}$. There is $s,t \\in \\ZZ_p[x]$ such that\n",
    "$$\n",
    "sa + tb = \\gcd(a,b).\n",
    "$$\n",
    "\n",
    "*Proof*\n",
    "The extended Euclidean Algorithm"
   ]
  },
  {
   "cell_type": "code",
   "execution_count": 34,
   "id": "7698d224-71d7-4522-90d7-cff5d7db258c",
   "metadata": {},
   "outputs": [
    {
     "ename": "LoadError",
     "evalue": "syntax: extra token \"GCDS\" after end of expression",
     "output_type": "error",
     "traceback": [
      "syntax: extra token \"GCDS\" after end of expression",
      "",
      "Stacktrace:",
      " [1] top-level scope",
      "   @ In[34]:1",
      " [2] eval",
      "   @ ./boot.jl:360 [inlined]",
      " [3] include_string(mapexpr::typeof(REPL.softscope), mod::Module, code::String, filename::String)",
      "   @ Base ./loading.jl:1116"
     ]
    }
   ],
   "source": [
    "JULIA GCDS\n",
    "\n",
    "show invariant"
   ]
  },
  {
   "cell_type": "markdown",
   "id": "09d16f62-68dd-440d-b2db-66a13a52b197",
   "metadata": {
    "tags": []
   },
   "source": [
    "# Unit 5: Computer Algebra Systems and Symbolic Computation "
   ]
  },
  {
   "cell_type": "markdown",
   "id": "a47d5e0d-f203-4c65-a9fc-184f26dbfcd7",
   "metadata": {
    "tags": []
   },
   "source": [
    "## Factorization in $\\ZZ[x]$\n",
    "\n",
    "Analogous to *factoring* integers into *primes* we wish to *factor* polynomials into *irreducible components*\n",
    "\n",
    "##### Definition (Irreducible Polynomial)\n",
    "An **irreducible polynomial** is a polynomial that cannot be factored into the product of two non-constant polynomials. In particular, $a \\in \\ZZ[x]$ is **irreducible** when\n",
    "$$\n",
    "a = b \\cdot c \\implies \\deg b = 1 \\mbox{ or } \\deg c = 1.\n",
    "$$\n",
    "---\n",
    "\n",
    "Irreducibility depends on the coefficient field:\n",
    "\n",
    "Consider $f = x^4 - 4$.  The polynomial $f$ will have different factorizations depending on which coefficient ring we are working with:\n",
    "+ *over $\\ZZ$* we have $f = (x^2-2)(x^2+2)$,\n",
    "+ *over $\\mathbb{R}$* we have $f = \\left(x-\\sqrt{2}\\right)\\left(x+\\sqrt{2}\\right)\\left(x^2+2\\right)$\n",
    "+ *over $\\mathbb{C}$* we have $f = \\left(x-\\sqrt{2}\\right)\\left(x+\\sqrt{2}\\right)\\left(x-\\sqrt{2}i\\right)\\left(x+\\sqrt{2}i\\right)$  (which is why the complex number are called a *splitting field*)."
   ]
  },
  {
   "cell_type": "markdown",
   "id": "430227de-73b5-4b6f-a7b1-7d13baaa8d1b",
   "metadata": {
    "tags": []
   },
   "source": [
    "### Factorization in $\\ZZ[x]$ using Integer Factorization\n",
    "\n",
    "To premise this section, we acknowledge that integer factorization is *intractable* and thus reducing polynomial factorization to integer factorization is somewhat pointless.  It is, however, the first strategy devised for factorizations and was used until a better method was discovered in 1970.\n",
    "\n",
    "Consider evaluating $f(x) = 9x^4-1$ at various integral points.  We can see\n",
    "$$\n",
    "f(10) = 89\\,999 = 7 \\cdot 13 \\cdot 23 \\cdot 43 = \\left[(x-3)(x+3)(2x+3)(4x+3)\\right]_{x=10}\n",
    "$$\n",
    "which gives us a reasonable guess at the polynomial factorization.  Unfortunately, none of those factors divide $f$ \n",
    "which means they cannot be a part of the factorization.  So, we try groups of two integers to search for a factor:\n",
    "$$\n",
    "\\begin{align*}\n",
    "(7 \\cdot 13) = 91 = (100-10+1) = [(x^2-x+1)]_{x=10} && \\mbox{ does not divide $f$} \\\\\n",
    "(7 \\cdot 23) = 161 =(200-40+1) = [(2x^2-4x+1)]_{x=10} && \\mbox{ does not divide $f$} \\\\\n",
    "(7 \\cdot 43) = 301 =(300+1) = [(3x^2+1)]_{x=10} && \\mbox{ yes! this divides $f$}\n",
    "\\end{align*}\n",
    "$$\n",
    "We have deduced $f = (3x^2 + 1) \\frac{9x^4-1}{3x^2+1} = (3x^2+1)(3x^2-1)$.\n",
    "\n",
    "We may get **luckier** by chosing different eval points that have **fewer** integer factors:\n",
    "$$\n",
    "f(12) = 186\\,623 = 431 \\cdot 433 = [(3x^2-1)(3x^2+1)]_{x=12}\n",
    "$$\n",
    "Or we may get **unlucky** by choosing eval points that have more **integer** factors:\n",
    "$$\n",
    "f(11) = 2^3 \\cdot 7 \\cdot 13 \\cdot 181\n",
    "$$\n",
    "\n",
    "In any case.  This is not the method we are going to use.\n"
   ]
  },
  {
   "cell_type": "markdown",
   "id": "200e8a5e-e6c7-41d0-9f71-995a29605f79",
   "metadata": {},
   "source": [
    "## Simplifying the Factoring Problem\n",
    "\n",
    "There are various things we will assume that will simplify our algorithms.  \n",
    "\n",
    "First, notice that we do not care about scaling factors.  If we can factor $k \\cdot a$ for $k \\in \\ZZ$ and $a \\in \\ZZ[x]$ then we can factor $a$.  Thus, we will presume the polynomials given to us are\n",
    "1.  primitive (that is, have unit *content*), and\n",
    "2.  monic (that is, have unit leading coefficients).\n",
    "\n",
    "Making a polynomial monic is easy.  When the coefficients are taken from a field, $\\frac{a}{\\lc(a)}$ will be monic and $\\lc(a)$ is guaranteed invertible.  This will also guarantee that the factorization will be into *monic* irreducibles.\n",
    "\n",
    "##### Definition (Content)\n",
    "The **content** of a polynomial is the gcd of its coefficients.  Namely, if $a = a_nx^n + \\cdots a_0$ then\n",
    "$$\n",
    "\\content(a) = \\gcd(a_0,\\, a_1,\\, \\ldots, a_n)\n",
    "$$\n",
    "The **primitive part** of $a$ is \n",
    "$$\n",
    "\\primpart(a) = \\frac{a}{\\content(a)}\n",
    "$$\n",
    "\n",
    "##### Example\n",
    "$\\content(6x^3 + 3x + 3) = 3$ and $\\primpart(6x^3 + 3x + 3) = 2x^3 + x + 1$.\n",
    "\n",
    "Second, given a polynomial to factor like\n",
    "$$a = (x-1)^3(x^2+x+1)^2(x^3-3x-1)^7$$\n",
    "we are satisfied *finding only the irreducible components*: $x-1$, $x^2 + x + 1$, and $x^3 - 3x -1$ because we can recover their degrees by repeated division."
   ]
  },
  {
   "cell_type": "code",
   "execution_count": null,
   "id": "a61af49c-4ed6-4c24-9dd6-ca9f53f88f32",
   "metadata": {},
   "outputs": [],
   "source": [
    "Julia: content, primpart"
   ]
  },
  {
   "cell_type": "markdown",
   "id": "0cc94c59-b4d5-4694-a155-c539d90a7ff7",
   "metadata": {},
   "source": [
    "## Factorization in $\\ZZ_p[x]$\n",
    "\n",
    "Let $p$ be an *odd* prime.  That is, $p$ cannot be two.  \n",
    "\n",
    "##### Proposition\n",
    "Let $a \\in \\ZZ[x]$, $\\content(a) = 1$, $\\gcd(a,a')=1$, and $a = f_1 \\cdot f_2 \\cdot \\cdots \\cdot f_\\ell$ where each $f_k$ is irreducible over $\\ZZ$.  Let $p$ be a prime, $\\phi_p(a) = (a \\mod p)$, and suppose we factor $\\phi_p(a)$ over $\\ZZ_p$.  Then\n",
    "$$\n",
    "\\phi_p(f_1 f_2 \\cdots f_\\ell) = \\phi_p(f_1) \\cdot \\phi_p(f_2) \\cdot \\cdots \\cdot \\phi_p(f_\\ell)\n",
    "$$\n",
    "\n",
    "##### Example \n",
    "Consider $a = 9x^4-1 = (3x^2-1)(3x^2+1)$.  We say $a$ has two factors and therefore with $\\ell = 2$.  But also\n",
    "$$\n",
    "\\begin{align*}\n",
    "a &\\cong (3x^2-1)(3x^2+1) \\mod 5\\\\\n",
    "a &\\cong (3x^2-1) \\cdot 3(x-2)(x+3) \\mod 7\\\\\n",
    "a &\\cong 2 \\mod 3\n",
    "\\end{align*}\n",
    "$$\n",
    "\n",
    "##### Lemma 3\n",
    "If $p \\not\\mid \\lc(a)$ then number of factors of $a$ over $\\ZZ_p$ is $\\geq \\ell$.\n",
    "\n",
    "##### Notation ($D_p$)\n",
    "Let $D_p(a)$ be the set of possible degrees of factors of $a \\in \\ZZ[x]$ inferred from the factorization of $a$ over $\\ZZ_p$.\n",
    "\n",
    "##### Example\n",
    "Let $a = 85x^5 + 55x^4 + 37x^3 + 35x^2 - 97x - 50$\n",
    "$$\n",
    "\\begin{align*}\n",
    "a &\\cong (x+1)(x^4+x^3+x^2+x+1) \\mod 2 &&\\implies D_2(a) = \\{1,4,5\\}\\\\\n",
    "a &\\cong (x+1)(x^4+x^2+x+1) \\mod 3 &&\\implies D_3(a) = \\{1,4,5\\}\\\\\n",
    "a &\\cong 0 \\mod 5 && \\mbox{ bad prime} \\\\\n",
    "a &\\cong (x^2+5x+5)(x^3+6x+4) \\mod 7 &&\\implies D_7(a) = \\{2,3,5\\}\\\\\n",
    "\\end{align*}\n",
    "$$\n",
    "\n",
    "Now $D_2(a) \\cap D_3(a) \\cap D_7(a) = \\{5\\} \\implies a$ is irreducible over $\\mathbb{Z}$."
   ]
  },
  {
   "cell_type": "markdown",
   "id": "ce28b8d4-e7c8-4ec6-bd31-4048388531a3",
   "metadata": {},
   "source": [
    "---\n",
    "### Square-Free Polynomials\n",
    "\n",
    "Note here we are **not** presuming that $f_i$ is *irreducible*.\n",
    "\n",
    "Square-free polynomials, as their name suggests, are polynomials with no repeated factors. A factor that repeats, say, three times also repeats two times and hence square-free implies repeated-root free.\n",
    "\n",
    "##### Definition (Square-Free)\n",
    "$a \\in \\FF[x]$ is *square-free* if $a$ has no repeated factors.  That is, \n",
    "$$\\lnot\\exists b \\in \\FF[x]; \\, \\deg(b)>0 \\mbox{ and } b^2 \\mid a$$\n",
    "\n",
    "##### Lemma 1\n",
    "$a \\in \\ZZ_p[x]$ is *square-free* $\\iff$ $\\gcd(a,a') = 1$.\n",
    "\n",
    "_Proof_  Omitted.\n",
    "\n",
    "##### Lemma 2\n",
    "Let $a \\in \\ZZ_p[x]$ and $a = f_1^1 \\cdot f_2^2 \\cdot f_3^3 \\cdot \\cdots \\cdot f_n^n$ be a square-free factorization for $a$.  Then\n",
    "$$\\gcd(a,a') = f_2^1 f_3^2 f_4^3 \\cdots f_n^{n-1}.$$\n",
    "\n",
    "_Proof_ Omitted.\n",
    "\n",
    "Notice that\n",
    "$$\n",
    "\\gcd(f,\\, f') = \\frac{ f_1^1  f_2^2  f_3^3  \\cdots  f_n^n}{f_2^1 f_3^2 f_4^3 \\cdots f_n^{n-1}} = f_1f_2\\cdots f_n\n",
    "$$\n",
    "is a square-free polynomial.\n",
    "\n",
    "\n",
    "##### Example\n",
    "Consider $f = (x^2 + x + 1)^3 (x^3 - 3x -1)^2 \\in \\ZZ_{11}[x]$.  We have\n",
    "$$\n",
    "g = \\gcd(f, f') = x^5 + x^4 + 9x^3 + 7x^2 + 7x + 10\n",
    "$$\n",
    "and\n",
    "$$\n",
    "\\frac{f}{g} = (x^2+x+1)(x^3+8x+10).\n",
    "$$"
   ]
  },
  {
   "cell_type": "code",
   "execution_count": null,
   "id": "a0716f22-66c3-4f97-99ea-f99429ef11d8",
   "metadata": {},
   "outputs": [],
   "source": [
    "JUlia"
   ]
  },
  {
   "cell_type": "markdown",
   "id": "80ff8fb9-264b-44a3-899b-08cd47b7c354",
   "metadata": {},
   "source": [
    "## Cantor Zassenhaus Factorization\n",
    "\n",
    "Let $a \\in \\ZZ_p[x]$, $d = \\deg a > 0$.  Suppose $\\gcd(a,a')=1$ (i.e. $a$ has no repeated factors).  \n",
    "\n",
    "**Question** How can we compute the linear factors of $a$ in $\\ZZ_p[x]$?\n",
    "\n",
    "*Idea 1:* \n",
    "$$\\gcd(a,\\, (x-0)(x-1)\\cdots(x-p+1)) \\mod p$$\n",
    "\n",
    "**Question** How can factor the product of linears into its linear components.\n",
    "\n",
    "*Idea 2:* Pick $k=\\frac{p-1}{2}$ (half) the linear factors at random.  *Maybe* generate nontrivial GCD.  Recurse.\n",
    "$$\\gcd(a,\\, (x-\\sigma_0)\\cdots(x-\\sigma_k)) \\in \\left\\{a,\\,1,\\, \\mbox{proper factor of } a\\right\\}$$\n",
    "(Note:  $\\sigma$ is some permutation of $\\ZZ_p$.)\n",
    "\n",
    "**Question** How can we get the do the same thing for irreducible quadratics, cubics, quartics, $\\ldots$\n",
    "\n",
    "*Answer* Essentially the same way.  It will take some theory to express."
   ]
  },
  {
   "cell_type": "markdown",
   "id": "21cde29f-26d5-4425-95f8-cedcff265414",
   "metadata": {},
   "source": [
    "### Distinct Degree Factorization (Idea 1)\n",
    "\n",
    "#### Fermat's \"little\" Theorem (FlT) \n",
    "Let $p > 2$ a prime and $0 < a < p$ then $a^{p-1} \\cong 1 \\mod p$, or equivalently,\n",
    "$$a^p \\cong a \\mod p.$$"
   ]
  },
  {
   "cell_type": "code",
   "execution_count": null,
   "id": "1f820efb-d7d6-4e04-824e-057a60a86d3a",
   "metadata": {},
   "outputs": [],
   "source": [
    "Julia examples"
   ]
  },
  {
   "cell_type": "markdown",
   "id": "64564ac4-70f9-44ba-b006-44149dab27b1",
   "metadata": {},
   "source": [
    "##### Corollary\n",
    "Let $f(x) = x^p -x \\in \\ZZ_p[x]$, then for any $a \\in \\ZZ_p$,\n",
    "$$f(a) \\cong 0 \\mod p$$ \n",
    "and thus $(x-a) | f$ which means $(x-a)$ is a factor $f$ for every $a$.  Thus $x^p -x$ is a product of all the linear irreducible polynomials of $\\ZZ_p[x]$:\n",
    "$$\n",
    "x^p - x = (x-0)\\cdots(x-p+1)\n",
    "$$\n",
    "\n",
    "Supposing that $f \\in \\ZZ_p[x]$ is square-free and primitive we have that\n",
    "$$g = \\gcd(x^p-x,\\, f)$$\n",
    "**is the product of all *monic linear factors* of $f$.**\n",
    "\n",
    "##### Theorem \n",
    "In $\\ZZ_p[x]$, \n",
    "$$x^{p^k}-x$$ \n",
    "is the product of all *monic* irreducible polynomials in $\\ZZ_p[x]$ of degreee $d | k$.\n",
    "\n",
    "This means that\n",
    "$$\n",
    "\\begin{align*}\n",
    "g_1 &= gcd(a, x^p-x)  && \\mbox{contains all irreducible linear factors of } a \\\\\n",
    "g_2 &= gcd(a/g_1, x^{p^2}-x) && \\mbox{contains all irreducible quadratic factors of } a \\\\\n",
    "g_3 &= gcd(a/g_1/g_2, x^{p^3}-x) && \\mbox{contains all irreducible cubic factors of } a \\\\\n",
    "&\\;\\vdots\n",
    "\\end{align*}\n",
    "$$\n",
    "\n",
    "Notice we now have an algorithm for decomposing a polynomial into groups of products of irreducible polyomials of the same degree."
   ]
  },
  {
   "cell_type": "raw",
   "id": "f2b6c01d-2255-4f44-a97f-6358247cb5ca",
   "metadata": {},
   "source": [
    "def DISTINCT_DEGREE_FACTORIZATION:\n",
    "    Input   a in ZZ_p[x] such that d = deg a > 0, a is monice, primitive, and a square-free.\n",
    "    Ouput   g_1, g_2, ..., g_m such that a = g_1 * g_2 * ... * g_m and \n",
    "            g_i = Product of irreducible polynomials of degree i\n",
    "\n",
    "    w <- x\n",
    "\n",
    "    for k from 1 to degree(a) do\n",
    "        w    <- Rem(w^p, a)\n",
    "        g[k] <- Gcd(w-x, a)\n",
    "        f    <- Quo(a, g[k])\n",
    "    end do\n",
    "\n",
    "    if f <> 1 then\n",
    "        g[k] <- a\n",
    "    end if\n",
    "\n",
    "    return [g_1, ... , g_d]"
   ]
  },
  {
   "cell_type": "code",
   "execution_count": null,
   "id": "251728fb-0fe0-42df-ae33-d8fd162f4645",
   "metadata": {},
   "outputs": [],
   "source": [
    "Julia examples"
   ]
  },
  {
   "cell_type": "markdown",
   "id": "2cb8e3c0-d7cc-46a7-a4c6-66468d357e4d",
   "metadata": {},
   "source": [
    "### Distinct Degree Splitting (Idea 2)\n",
    "\n",
    "Consider that we know how to factor *differences of squares* like $x^2 - 1 = (x+1)(x-1)$.  In our case we have\n",
    "$$\n",
    "x^p - x = x(x^{p-1}-1) = x\\left(x^\\frac{p-1}{2}-1\\right)\\left(x^\\frac{p-1}{2}+1\\right).\n",
    "$$\n",
    "and also\n",
    "$$\n",
    "(x-0)(x-1)\\cdots(x-p+1) = x\\left(x^\\frac{p-1}{2}-1\\right)\\left(x^\\frac{p-1}{2}+1\\right)\n",
    "$$\n",
    "so\n",
    "$$\\left(x^\\frac{p-1}{2}-1\\right)$$\n",
    "must be a product of *half* the roots.\n",
    "\n",
    "Thereby,\n",
    "$$\n",
    "\\gcd(g, x^\\frac{p-1}{2}-1 ) \\in \\left\\{1, g, \\mbox{ proper divisor of g} \\right\\}.\n",
    "$$\n",
    "\n",
    "Notice the effect of shifting $x$ by $\\alpha \\in \\ZZ_p$:\n",
    "$$\n",
    "(x+\\alpha)^\\frac{p-1}{2}-1 = (x-\\sigma_0) \\cdots (x-\\sigma_k)\n",
    "$$\n",
    "for $\\sigma$ a permutation on $\\ZZ_p$ and $k = \\frac{p-1}2$.  In particular, we have merely pushed\n",
    "the roots around.\n",
    "\n",
    "Similarily,\n",
    "$$\n",
    "x^{p^k}-x = x(x^\\frac{p^k-1}2 - 1)(x^\\frac{p^k-1}2 + 1)\n",
    "$$\n",
    "is the product of *all* irreducible monic polynomials of degree $k$.  Thereby\n",
    "$$\n",
    "(x^\\frac{p^k-1}2 - 1)\n",
    "$$\n",
    "is a product of *half* the irreducible monic polynomials of degree $k$.\n",
    "\n",
    "##### Theorem\n",
    "Suppose $g_k \\in \\ZZ_[x]$ is the product of monic polynomials of degree $k$.   Let $w$ be a *random* monic, irreducible, polynomial of degree $k$.  Then\n",
    "$$\n",
    "\\mbox{Prob}\\left[\\gcd(g_k, w^\\frac{p^k-1}2 - 1) \\not\\in \\left\\{1, g_k \\right\\}\\right] > \\frac12 - \\frac 1 {2p^2} \\geq \\frac49.\n",
    "$$\n",
    "\n",
    "Notice this means we have an algorithm for splitting the groups returned by the distinct degree factorization."
   ]
  },
  {
   "cell_type": "raw",
   "id": "1f7b6cb5-07e8-4f99-a0f2-118146eebcc2",
   "metadata": {},
   "source": [
    "def DISTINCT_DEGREE_SPLIT: \n",
    "    Input   a in ZZ_p[x] monic and d in ZZ such that a = g_1 * g_2 * ... * g_m, \n",
    "            g_k in \\ZZ_p[x] irreducible, and deg g_k = d\n",
    "    Ouput   [g_1, g_2, ..., g_m]\n",
    "\n",
    "    if degree(a) = d then\n",
    "        return [a]\n",
    "    end if\n",
    "\n",
    "    if degree(a) = 0 then\n",
    "        return []\n",
    "    end if\n",
    "    \n",
    "    w <- rand_monic_poly(d, p)               # Monte Carlo step\n",
    "    \n",
    "    g    <- Gcd(w^((p^d-1)/2)-1, f)          # Project:  Optimize this.\n",
    "    gbar <- Quo(f, g, x)\n",
    "\n",
    "    DDS = DISTINCT_DEGREE_SPLIT\n",
    "    return DDS(g, d) + DDS(gbar, d)          # + is list concatenation"
   ]
  },
  {
   "cell_type": "code",
   "execution_count": null,
   "id": "3da43d6d-de6f-4ee9-8db0-5d862e37c748",
   "metadata": {},
   "outputs": [],
   "source": [
    "Julia Example"
   ]
  },
  {
   "cell_type": "markdown",
   "id": "04063c3f-acb0-4bab-b820-dfc0c7984620",
   "metadata": {},
   "source": [
    "### Factoring in $\\ZZ_p[x]$\n",
    "\n",
    "All that remains is to use utilize the previous two algorithms to factor an arbitrary polynomial from $\\ZZ_p[x]$."
   ]
  },
  {
   "cell_type": "raw",
   "id": "e249c0c4-fd52-4037-83ec-a19a786279fe",
   "metadata": {},
   "source": [
    "# Cantor Zassenhaus Factorization #\n",
    "let DDF = DISTINCT_DEGREE_FACTORIZATION\n",
    "let DDS = DISTINCT_DEGREE_SPLIT\n",
    "\n",
    "def FACTOR():   \n",
    "    Input   a in ZZ_p[x]\n",
    "    Ouput   [[g1, d1], [g2, d2], ..., [gm, dm]] such that gk, irreducible, and\n",
    "            a = g1^d1 * g2^d2 * ... * gm^dm (mod p)\n",
    "       \n",
    "    f <- a\n",
    "    \n",
    "    f <- Quo(f, content(f))        # make f primitive;\n",
    "    f <- Quo(f, lc(f), x)          # make f monic\n",
    "    f <- Quo(f, Gcd(f, f'))        # make f square-free\n",
    "    \n",
    "    [d1,...,dk] <- DDF(f)\n",
    "    [g1,...,gm] <- DDS(d1, 1) + ... + DDS(dk, k)   # + is list concatenation\n",
    "    [d1,...,dm] <- [max(k in ZZ : d1^k | a),..., max(k in ZZ : dm^k | a)]\n",
    "   \n",
    "    return [[lc(a),1], [g1, d1], ..., [gm, dm]]"
   ]
  },
  {
   "cell_type": "markdown",
   "id": "b6434ee8-31d2-4552-810f-f42a6ab1531e",
   "metadata": {},
   "source": [
    "## Optimizations\n",
    "\n",
    "For your project you are tasked with two optimizations.\n",
    "\n",
    "### PowMod\n",
    "\n",
    "*Question:* How do we compute $\\gcd(a,x^{p^k}-x)$ whn $k$ is large?\n",
    "\n",
    "Repeated powers of 2.\n",
    "\n",
    "### Multiplication by Chinese Remainder Theorem\n",
    "\n",
    "This will require students to implement a mod p multiplication alg.\n",
    "\n",
    "The Chinese Remainder Theorem.\n",
    "\n",
    "##### Example \n",
    "Let $a = 3x - 4$, $b = 6x+5$, $c=18^2-9x-20$ and notice $ab = c$.\n",
    "$$||c||_\\infty \\leq 4 \\cdot 6 \\cdot \\min(2,2) = 48$$\n",
    "\n",
    "$$\n",
    "\\begin{align*}\n",
    "& && 3a_i && b_i && c_i \\\\\n",
    "p_1 &= 5 && 3x + 1 && 1x + 0 && 3x^2 + 1x + 0 \\\\\n",
    "p_2 &= 7 && 3x + 3 && 6x + 5 && 4x^2 + 5x + 1 \\\\\n",
    "p_3 &= 3 && 0x + 2 && 0x + 2 && 0x^2 + 0x + 1 \\\\\n",
    "\\end{align*}\n",
    "$$\n",
    "\n"
   ]
  },
  {
   "cell_type": "raw",
   "id": "151816fd-cf5d-42d7-8ed8-50bff444bb8e",
   "metadata": {},
   "source": [
    "CRT([3,4,0], [5,7,3]) = 18 or 18\n",
    "CRT([1,5,0], [5,7,3]) = 96 or -9\n",
    "CRT([0,1,1], [5,7,3]) = 85 or -20\n",
    "\n",
    "In SMOD"
   ]
  },
  {
   "cell_type": "markdown",
   "id": "642650f5-555e-48d8-9e2d-4b02232dd860",
   "metadata": {},
   "source": [
    "### (Bonus: CZF -- skip impossible degrees)"
   ]
  },
  {
   "cell_type": "code",
   "execution_count": null,
   "id": "3f325c18-0fdc-4a38-90b1-2366f70c9f64",
   "metadata": {},
   "outputs": [],
   "source": []
  },
  {
   "cell_type": "code",
   "execution_count": null,
   "id": "373c0718-0f29-4405-b5f7-6332b9cc7ae7",
   "metadata": {},
   "outputs": [],
   "source": []
  }
 ],
 "metadata": {
  "kernelspec": {
   "display_name": "Julia 1.6.2",
   "language": "julia",
   "name": "julia-1.6"
  },
  "language_info": {
   "file_extension": ".jl",
   "mimetype": "application/julia",
   "name": "julia",
   "version": "1.6.2"
  }
 },
 "nbformat": 4,
 "nbformat_minor": 5
}
